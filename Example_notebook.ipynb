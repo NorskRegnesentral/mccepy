{
 "cells": [
  {
   "cell_type": "code",
   "execution_count": 1,
   "metadata": {},
   "outputs": [],
   "source": [
    "import warnings\n",
    "warnings.filterwarnings('ignore')\n",
    "\n",
    "from data import Data\n",
    "import pandas as pd\n",
    "\n",
    "feature_order = ['age', 'workclass', 'fnlwgt', 'education-num', 'marital-status', 'occupation', 'relationship', 'race', 'sex', 'capital-gain', 'capital-loss', 'hours-per-week', 'country', 'income']\n",
    "         \n",
    "dtypes = {\"age\": \"float\", \"workclass\": \"category\", \"fnlwgt\": \"float\", \"education-num\": \"float\",\\\n",
    "    \"marital-status\": \"category\", \"occupation\": \"category\", \"relationship\": \"category\", \"race\": \"category\",\\\n",
    "        \"sex\": \"category\", \"capital-gain\": \"float\", \"capital-loss\": \"float\", \\\n",
    "            \"hours-per-week\": \"float\", \"country\": \"category\", \"income\": \"category\"}\n",
    "\n",
    "response = 'income'\n",
    "\n",
    "fixed_features = ['age', 'sex']\n",
    "\n",
    "path = '/nr/samba/user/anr/pkg/MCCE/Datasets/Adult/train_not_normalized_data_from_carla.csv'\n",
    "dataset = Data(path, feature_order, dtypes, response, fixed_features, \"OneHot_drop_first\", \"MinMax\")"
   ]
  },
  {
   "cell_type": "code",
   "execution_count": 2,
   "metadata": {},
   "outputs": [
    {
     "name": "stderr",
     "output_type": "stream",
     "text": [
      "Using TensorFlow backend.\n"
     ]
    },
    {
     "name": "stdout",
     "output_type": "stream",
     "text": [
      "[INFO] Using Python-MIP package version 1.12.0 [model.py <module>]\n"
     ]
    }
   ],
   "source": [
    "from carla import MLModel\n",
    "from sklearn.ensemble import RandomForestClassifier\n",
    "\n",
    "class RandomForestModel(MLModel):\n",
    "    \"\"\"The default way of implementing RandomForest from sklearn\n",
    "    https://scikit-learn.org/stable/modules/generated/sklearn.ensemble.RandomForestClassifier.html\"\"\"\n",
    "\n",
    "    def __init__(self, data):\n",
    "        super().__init__(data)\n",
    "\n",
    "        # get preprocessed data\n",
    "        df_train = self.data.df\n",
    "        \n",
    "        \n",
    "        x_train = df_train[data.continuous + data.categorical_encoded]\n",
    "        y_train = df_train[data.target]\n",
    "\n",
    "        self._feature_input_order = self.data.continuous + self.data.categorical_encoded\n",
    "\n",
    "        param = {\n",
    "            \"max_depth\": None,  # determines how deep the tree can go\n",
    "            \"n_estimators\": 5,\n",
    "            \"min_samples_split\": 3 # number of features to consider at each split\n",
    "        }\n",
    "        self._mymodel = RandomForestClassifier(**param)\n",
    "        self._mymodel.fit(\n",
    "                x_train,\n",
    "                y_train,\n",
    "            )\n",
    "\n",
    "    @property\n",
    "    def feature_input_order(self):\n",
    "        return self._feature_input_order\n",
    "\n",
    "    @property\n",
    "    def backend(self):\n",
    "        return \"TensorFlow\"\n",
    "\n",
    "    @property\n",
    "    def raw_model(self):\n",
    "        return self._mymodel\n",
    "\n",
    "    @property\n",
    "    def tree_iterator(self):\n",
    "        # make a copy of the trees, else feature names are not saved\n",
    "        booster_it = [booster for booster in self.raw_model.get_booster()]\n",
    "        # set the feature names\n",
    "        for booster in booster_it:\n",
    "            booster.feature_names = self.feature_input_order\n",
    "        return booster_it\n",
    "\n",
    "    def predict(self, x):\n",
    "        return self._mymodel.predict(self.get_ordered_features(x))\n",
    "\n",
    "    def predict_proba(self, x):\n",
    "        return self._mymodel.predict_proba(self.get_ordered_features(x))"
   ]
  },
  {
   "cell_type": "code",
   "execution_count": 3,
   "metadata": {},
   "outputs": [],
   "source": [
    "ml_model = RandomForestModel(dataset)"
   ]
  },
  {
   "cell_type": "code",
   "execution_count": 6,
   "metadata": {},
   "outputs": [],
   "source": [
    "import numpy as np\n",
    "preds = ml_model.predict_proba(dataset.df)[:,1]\n",
    "factual_id = np.where(preds < 0.5)\n",
    "factuals = dataset.df.loc[factual_id]\n",
    "test_factual = factuals.iloc[:5]"
   ]
  },
  {
   "cell_type": "code",
   "execution_count": 7,
   "metadata": {},
   "outputs": [],
   "source": [
    "# test_factual"
   ]
  },
  {
   "cell_type": "code",
   "execution_count": 8,
   "metadata": {},
   "outputs": [],
   "source": [
    "y_col = dataset.target\n",
    "cont_feat = dataset.continuous\n",
    "\n",
    "cat_feat = dataset.categorical\n",
    "cat_feat_encoded = dataset.categorical_encoded\n",
    "\n",
    "#  Create dtypes for MCCE()\n",
    "dtypes = dict([(x, \"float\") for x in cont_feat])\n",
    "for x in cat_feat_encoded:\n",
    "    dtypes[x] = \"category\"\n",
    "df = (dataset.df).astype(dtypes)"
   ]
  },
  {
   "cell_type": "code",
   "execution_count": 12,
   "metadata": {},
   "outputs": [],
   "source": [
    "from mcce import MCCE\n",
    "\n",
    "mcce = MCCE(fixed_features=dataset.fixed_features,\\\n",
    "    fixed_features_encoded=dataset.fixed_features_encoded,\n",
    "        continuous=dataset.continuous, categorical=dataset.categorical,\\\n",
    "            model=ml_model, seed=1)\n",
    "\n",
    "mcce.fit(df.drop(dataset.target, axis=1), dtypes)\n"
   ]
  },
  {
   "cell_type": "code",
   "execution_count": 17,
   "metadata": {},
   "outputs": [],
   "source": [
    "synth_df = mcce.generate(test_factual.drop(dataset.target, axis=1), k=1000)"
   ]
  },
  {
   "cell_type": "code",
   "execution_count": 18,
   "metadata": {},
   "outputs": [],
   "source": [
    "mcce.postprocess(data=df, synth=synth_df, test=test_factual, response=y_col, \\\n",
    "    inverse_transform=dataset.inverse_transform, cutoff=0.5)\n"
   ]
  },
  {
   "cell_type": "code",
   "execution_count": 19,
   "metadata": {},
   "outputs": [
    {
     "data": {
      "text/html": [
       "<div>\n",
       "<style scoped>\n",
       "    .dataframe tbody tr th:only-of-type {\n",
       "        vertical-align: middle;\n",
       "    }\n",
       "\n",
       "    .dataframe tbody tr th {\n",
       "        vertical-align: top;\n",
       "    }\n",
       "\n",
       "    .dataframe thead th {\n",
       "        text-align: right;\n",
       "    }\n",
       "</style>\n",
       "<table border=\"1\" class=\"dataframe\">\n",
       "  <thead>\n",
       "    <tr style=\"text-align: right;\">\n",
       "      <th></th>\n",
       "      <th>age</th>\n",
       "      <th>fnlwgt</th>\n",
       "      <th>education-num</th>\n",
       "      <th>capital-gain</th>\n",
       "      <th>capital-loss</th>\n",
       "      <th>...</th>\n",
       "      <th>L1</th>\n",
       "      <th>L2</th>\n",
       "      <th>feasibility</th>\n",
       "      <th>success</th>\n",
       "      <th>violation</th>\n",
       "    </tr>\n",
       "  </thead>\n",
       "  <tbody>\n",
       "    <tr>\n",
       "      <th>0</th>\n",
       "      <td>0.301370</td>\n",
       "      <td>0.094920</td>\n",
       "      <td>0.866667</td>\n",
       "      <td>0.000000</td>\n",
       "      <td>0.0</td>\n",
       "      <td>...</td>\n",
       "      <td>1.139195</td>\n",
       "      <td>1.007497</td>\n",
       "      <td>1.003741</td>\n",
       "      <td>1</td>\n",
       "      <td>0</td>\n",
       "    </tr>\n",
       "    <tr>\n",
       "      <th>1</th>\n",
       "      <td>0.452055</td>\n",
       "      <td>0.276600</td>\n",
       "      <td>0.800000</td>\n",
       "      <td>0.000000</td>\n",
       "      <td>0.0</td>\n",
       "      <td>...</td>\n",
       "      <td>0.504059</td>\n",
       "      <td>0.128140</td>\n",
       "      <td>0.357967</td>\n",
       "      <td>1</td>\n",
       "      <td>0</td>\n",
       "    </tr>\n",
       "    <tr>\n",
       "      <th>2</th>\n",
       "      <td>0.287671</td>\n",
       "      <td>0.028174</td>\n",
       "      <td>0.333333</td>\n",
       "      <td>0.054551</td>\n",
       "      <td>0.0</td>\n",
       "      <td>...</td>\n",
       "      <td>1.363957</td>\n",
       "      <td>1.054946</td>\n",
       "      <td>1.027105</td>\n",
       "      <td>1</td>\n",
       "      <td>0</td>\n",
       "    </tr>\n",
       "    <tr>\n",
       "      <th>3</th>\n",
       "      <td>0.493151</td>\n",
       "      <td>0.214420</td>\n",
       "      <td>0.600000</td>\n",
       "      <td>0.000000</td>\n",
       "      <td>0.0</td>\n",
       "      <td>...</td>\n",
       "      <td>0.263933</td>\n",
       "      <td>0.044087</td>\n",
       "      <td>0.209970</td>\n",
       "      <td>1</td>\n",
       "      <td>0</td>\n",
       "    </tr>\n",
       "    <tr>\n",
       "      <th>4</th>\n",
       "      <td>0.150685</td>\n",
       "      <td>0.081456</td>\n",
       "      <td>0.800000</td>\n",
       "      <td>0.000000</td>\n",
       "      <td>0.0</td>\n",
       "      <td>...</td>\n",
       "      <td>3.139179</td>\n",
       "      <td>3.019371</td>\n",
       "      <td>1.737634</td>\n",
       "      <td>1</td>\n",
       "      <td>0</td>\n",
       "    </tr>\n",
       "  </tbody>\n",
       "</table>\n",
       "<p>5 rows × 32 columns</p>\n",
       "</div>"
      ],
      "text/plain": [
       "        age    fnlwgt  education-num  capital-gain  capital-loss  ...  \\\n",
       "0  0.301370  0.094920       0.866667      0.000000           0.0  ...   \n",
       "1  0.452055  0.276600       0.800000      0.000000           0.0  ...   \n",
       "2  0.287671  0.028174       0.333333      0.054551           0.0  ...   \n",
       "3  0.493151  0.214420       0.600000      0.000000           0.0  ...   \n",
       "4  0.150685  0.081456       0.800000      0.000000           0.0  ...   \n",
       "\n",
       "         L1        L2 feasibility success violation  \n",
       "0  1.139195  1.007497    1.003741       1         0  \n",
       "1  0.504059  0.128140    0.357967       1         0  \n",
       "2  1.363957  1.054946    1.027105       1         0  \n",
       "3  0.263933  0.044087    0.209970       1         0  \n",
       "4  3.139179  3.019371    1.737634       1         0  \n",
       "\n",
       "[5 rows x 32 columns]"
      ]
     },
     "execution_count": 19,
     "metadata": {},
     "output_type": "execute_result"
    }
   ],
   "source": [
    "mcce.results_sparse"
   ]
  },
  {
   "cell_type": "code",
   "execution_count": null,
   "metadata": {},
   "outputs": [],
   "source": [
    "# mcce.postprocess(data=df, synth=synth_df, test=test_factual, response=dataset.response, \\\n",
    "#     inverse_transform=min_max_scaler, cutoff=0.5)\n",
    "\n",
    "data=df\n",
    "synth=synth_df\n",
    "test=test_factual\n",
    "response=dataset.target\n",
    "inverse_transform=dataset.inverse_transform\n",
    "cutoff=0.5\n",
    "\n",
    "mcce.cutoff = cutoff\n",
    "\n",
    "# Predict response of generated data\n",
    "synth[response] = mcce.model.predict(synth)\n",
    "synth_positive = synth[synth[response]>=cutoff] # drop negative responses\n",
    "\n",
    "# Duplicate original test observations N times where N is number of positive counterfactuals\n",
    "n_counterfactuals = synth_positive.groupby(synth_positive.index).size()\n",
    "n_counterfactuals = pd.DataFrame(n_counterfactuals, columns = ['N'])\n",
    "\n",
    "test_repeated = test.copy()\n",
    "\n",
    "test_repeated = test_repeated.join(n_counterfactuals)\n",
    "test_repeated.dropna(inplace = True)\n",
    "\n",
    "test_repeated = test_repeated.reindex(test_repeated.index.repeat(test_repeated.N))\n",
    "test_repeated.drop(['N'], axis=1, inplace=True)\n",
    "\n",
    "mcce.test_repeated = test_repeated\n"
   ]
  },
  {
   "cell_type": "code",
   "execution_count": null,
   "metadata": {},
   "outputs": [],
   "source": [
    "results = mcce.calculate_metrics(synth=synth_positive, test=test_repeated, data=data, \\\n",
    "            model=mcce.model, response=response, inverse_transform=inverse_transform) "
   ]
  }
 ],
 "metadata": {
  "interpreter": {
   "hash": "ea38de303447ace9d448c28089670fa84711b12cac6767c435896f96584513e1"
  },
  "kernelspec": {
   "display_name": "Python 3.7.13 ('carla_github')",
   "language": "python",
   "name": "python3"
  },
  "language_info": {
   "codemirror_mode": {
    "name": "ipython",
    "version": 3
   },
   "file_extension": ".py",
   "mimetype": "text/x-python",
   "name": "python",
   "nbconvert_exporter": "python",
   "pygments_lexer": "ipython3",
   "version": "3.7.13"
  },
  "orig_nbformat": 4
 },
 "nbformat": 4,
 "nbformat_minor": 2
}
