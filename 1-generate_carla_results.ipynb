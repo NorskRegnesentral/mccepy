{
 "cells": [
  {
   "cell_type": "markdown",
   "metadata": {},
   "source": [
    "## Results for Tables 1, 2, 3 for CARLA methods"
   ]
  },
  {
   "cell_type": "code",
   "execution_count": 1,
   "metadata": {},
   "outputs": [
    {
     "name": "stderr",
     "output_type": "stream",
     "text": [
      "/nr/samba/user/anr/anaconda3/envs/carla_github/lib/python3.7/site-packages/tensorflow/python/framework/dtypes.py:516: FutureWarning: Passing (type, 1) or '1type' as a synonym of type is deprecated; in a future version of numpy, it will be understood as (type, (1,)) / '(1,)type'.\n",
      "  _np_qint8 = np.dtype([(\"qint8\", np.int8, 1)])\n",
      "/nr/samba/user/anr/anaconda3/envs/carla_github/lib/python3.7/site-packages/tensorflow/python/framework/dtypes.py:517: FutureWarning: Passing (type, 1) or '1type' as a synonym of type is deprecated; in a future version of numpy, it will be understood as (type, (1,)) / '(1,)type'.\n",
      "  _np_quint8 = np.dtype([(\"quint8\", np.uint8, 1)])\n",
      "/nr/samba/user/anr/anaconda3/envs/carla_github/lib/python3.7/site-packages/tensorflow/python/framework/dtypes.py:518: FutureWarning: Passing (type, 1) or '1type' as a synonym of type is deprecated; in a future version of numpy, it will be understood as (type, (1,)) / '(1,)type'.\n",
      "  _np_qint16 = np.dtype([(\"qint16\", np.int16, 1)])\n",
      "/nr/samba/user/anr/anaconda3/envs/carla_github/lib/python3.7/site-packages/tensorflow/python/framework/dtypes.py:519: FutureWarning: Passing (type, 1) or '1type' as a synonym of type is deprecated; in a future version of numpy, it will be understood as (type, (1,)) / '(1,)type'.\n",
      "  _np_quint16 = np.dtype([(\"quint16\", np.uint16, 1)])\n",
      "/nr/samba/user/anr/anaconda3/envs/carla_github/lib/python3.7/site-packages/tensorflow/python/framework/dtypes.py:520: FutureWarning: Passing (type, 1) or '1type' as a synonym of type is deprecated; in a future version of numpy, it will be understood as (type, (1,)) / '(1,)type'.\n",
      "  _np_qint32 = np.dtype([(\"qint32\", np.int32, 1)])\n",
      "/nr/samba/user/anr/anaconda3/envs/carla_github/lib/python3.7/site-packages/tensorflow/python/framework/dtypes.py:525: FutureWarning: Passing (type, 1) or '1type' as a synonym of type is deprecated; in a future version of numpy, it will be understood as (type, (1,)) / '(1,)type'.\n",
      "  np_resource = np.dtype([(\"resource\", np.ubyte, 1)])\n",
      "/nr/samba/user/anr/anaconda3/envs/carla_github/lib/python3.7/site-packages/tensorboard/compat/tensorflow_stub/dtypes.py:541: FutureWarning: Passing (type, 1) or '1type' as a synonym of type is deprecated; in a future version of numpy, it will be understood as (type, (1,)) / '(1,)type'.\n",
      "  _np_qint8 = np.dtype([(\"qint8\", np.int8, 1)])\n",
      "/nr/samba/user/anr/anaconda3/envs/carla_github/lib/python3.7/site-packages/tensorboard/compat/tensorflow_stub/dtypes.py:542: FutureWarning: Passing (type, 1) or '1type' as a synonym of type is deprecated; in a future version of numpy, it will be understood as (type, (1,)) / '(1,)type'.\n",
      "  _np_quint8 = np.dtype([(\"quint8\", np.uint8, 1)])\n",
      "/nr/samba/user/anr/anaconda3/envs/carla_github/lib/python3.7/site-packages/tensorboard/compat/tensorflow_stub/dtypes.py:543: FutureWarning: Passing (type, 1) or '1type' as a synonym of type is deprecated; in a future version of numpy, it will be understood as (type, (1,)) / '(1,)type'.\n",
      "  _np_qint16 = np.dtype([(\"qint16\", np.int16, 1)])\n",
      "/nr/samba/user/anr/anaconda3/envs/carla_github/lib/python3.7/site-packages/tensorboard/compat/tensorflow_stub/dtypes.py:544: FutureWarning: Passing (type, 1) or '1type' as a synonym of type is deprecated; in a future version of numpy, it will be understood as (type, (1,)) / '(1,)type'.\n",
      "  _np_quint16 = np.dtype([(\"quint16\", np.uint16, 1)])\n",
      "/nr/samba/user/anr/anaconda3/envs/carla_github/lib/python3.7/site-packages/tensorboard/compat/tensorflow_stub/dtypes.py:545: FutureWarning: Passing (type, 1) or '1type' as a synonym of type is deprecated; in a future version of numpy, it will be understood as (type, (1,)) / '(1,)type'.\n",
      "  _np_qint32 = np.dtype([(\"qint32\", np.int32, 1)])\n",
      "/nr/samba/user/anr/anaconda3/envs/carla_github/lib/python3.7/site-packages/tensorboard/compat/tensorflow_stub/dtypes.py:550: FutureWarning: Passing (type, 1) or '1type' as a synonym of type is deprecated; in a future version of numpy, it will be understood as (type, (1,)) / '(1,)type'.\n",
      "  np_resource = np.dtype([(\"resource\", np.ubyte, 1)])\n",
      "/nr/samba/user/anr/anaconda3/envs/carla_github/lib/python3.7/site-packages/tqdm/auto.py:22: TqdmWarning: IProgress not found. Please update jupyter and ipywidgets. See https://ipywidgets.readthedocs.io/en/stable/user_install.html\n",
      "  from .autonotebook import tqdm as notebook_tqdm\n",
      "Using TensorFlow backend.\n"
     ]
    },
    {
     "name": "stdout",
     "output_type": "stream",
     "text": [
      "[INFO] Using Python-MIP package version 1.12.0 [model.py <module>]\n"
     ]
    }
   ],
   "source": [
    "from carla.data.catalog import OnlineCatalog\n",
    "import pandas as pd\n",
    "import numpy as np\n",
    "\n",
    "# load catalog dataset\n",
    "data_name = \"adult\"\n",
    "# data_name = \"give_me_some_credit\"\n",
    "data_name = 'compas'\n",
    "dataset = OnlineCatalog(data_name)\n"
   ]
  },
  {
   "cell_type": "code",
   "execution_count": 2,
   "metadata": {},
   "outputs": [
    {
     "name": "stdout",
     "output_type": "stream",
     "text": [
      "balance on test set 0.8131345863037374, balance on test set 0.8191834089436163\n",
      "Epoch 0/24\n",
      "----------\n"
     ]
    },
    {
     "name": "stderr",
     "output_type": "stream",
     "text": [
      "/nr/samba/user/anr/anaconda3/envs/carla_github/lib/python3.7/site-packages/carla/models/catalog/ANN_TORCH/model_ann.py:56: UserWarning: Implicit dimension choice for softmax has been deprecated. Change the call to include dim=X as an argument.\n",
      "  x = self.softmax(x)\n"
     ]
    },
    {
     "name": "stdout",
     "output_type": "stream",
     "text": [
      "train Loss: 0.5018 Acc: 0.7280\n",
      "\n",
      "test Loss: 0.4022 Acc: 0.8192\n",
      "\n",
      "Epoch 1/24\n",
      "----------\n",
      "train Loss: 0.4002 Acc: 0.8283\n",
      "\n",
      "test Loss: 0.3704 Acc: 0.8471\n",
      "\n",
      "Epoch 2/24\n",
      "----------\n",
      "train Loss: 0.3796 Acc: 0.8356\n",
      "\n",
      "test Loss: 0.3557 Acc: 0.8419\n",
      "\n",
      "Epoch 3/24\n",
      "----------\n",
      "train Loss: 0.3665 Acc: 0.8423\n",
      "\n",
      "test Loss: 0.3405 Acc: 0.8477\n",
      "\n",
      "Epoch 4/24\n",
      "----------\n",
      "train Loss: 0.3620 Acc: 0.8438\n",
      "\n",
      "test Loss: 0.3483 Acc: 0.8464\n",
      "\n",
      "Epoch 5/24\n",
      "----------\n",
      "train Loss: 0.3589 Acc: 0.8445\n",
      "\n",
      "test Loss: 0.3409 Acc: 0.8542\n",
      "\n",
      "Epoch 6/24\n",
      "----------\n",
      "train Loss: 0.3592 Acc: 0.8434\n",
      "\n",
      "test Loss: 0.3361 Acc: 0.8555\n",
      "\n",
      "Epoch 7/24\n",
      "----------\n",
      "train Loss: 0.3579 Acc: 0.8451\n",
      "\n",
      "test Loss: 0.3358 Acc: 0.8529\n",
      "\n",
      "Epoch 8/24\n",
      "----------\n",
      "train Loss: 0.3564 Acc: 0.8445\n",
      "\n",
      "test Loss: 0.3367 Acc: 0.8548\n",
      "\n",
      "Epoch 9/24\n",
      "----------\n",
      "train Loss: 0.3559 Acc: 0.8440\n",
      "\n",
      "test Loss: 0.3383 Acc: 0.8516\n",
      "\n",
      "Epoch 10/24\n",
      "----------\n",
      "train Loss: 0.3564 Acc: 0.8471\n",
      "\n",
      "test Loss: 0.3534 Acc: 0.8542\n",
      "\n",
      "Epoch 11/24\n",
      "----------\n",
      "train Loss: 0.3556 Acc: 0.8447\n",
      "\n",
      "test Loss: 0.3376 Acc: 0.8535\n",
      "\n",
      "Epoch 12/24\n",
      "----------\n",
      "train Loss: 0.3557 Acc: 0.8460\n",
      "\n",
      "test Loss: 0.3478 Acc: 0.8483\n",
      "\n",
      "Epoch 13/24\n",
      "----------\n",
      "train Loss: 0.3560 Acc: 0.8451\n",
      "\n",
      "test Loss: 0.3391 Acc: 0.8620\n",
      "\n",
      "Epoch 14/24\n",
      "----------\n",
      "train Loss: 0.3553 Acc: 0.8449\n",
      "\n",
      "test Loss: 0.3326 Acc: 0.8529\n",
      "\n",
      "Epoch 15/24\n",
      "----------\n",
      "train Loss: 0.3546 Acc: 0.8447\n",
      "\n",
      "test Loss: 0.3349 Acc: 0.8542\n",
      "\n",
      "Epoch 16/24\n",
      "----------\n",
      "train Loss: 0.3543 Acc: 0.8460\n",
      "\n",
      "test Loss: 0.3347 Acc: 0.8633\n",
      "\n",
      "Epoch 17/24\n",
      "----------\n",
      "train Loss: 0.3543 Acc: 0.8440\n",
      "\n",
      "test Loss: 0.3499 Acc: 0.8600\n",
      "\n",
      "Epoch 18/24\n",
      "----------\n",
      "train Loss: 0.3543 Acc: 0.8421\n",
      "\n",
      "test Loss: 0.3377 Acc: 0.8600\n",
      "\n",
      "Epoch 19/24\n",
      "----------\n",
      "train Loss: 0.3533 Acc: 0.8442\n",
      "\n",
      "test Loss: 0.3341 Acc: 0.8600\n",
      "\n",
      "Epoch 20/24\n",
      "----------\n",
      "train Loss: 0.3541 Acc: 0.8458\n",
      "\n",
      "test Loss: 0.3323 Acc: 0.8626\n",
      "\n",
      "Epoch 21/24\n",
      "----------\n",
      "train Loss: 0.3533 Acc: 0.8462\n",
      "\n",
      "test Loss: 0.3345 Acc: 0.8581\n",
      "\n",
      "Epoch 22/24\n",
      "----------\n",
      "train Loss: 0.3546 Acc: 0.8421\n",
      "\n",
      "test Loss: 0.3316 Acc: 0.8561\n",
      "\n",
      "Epoch 23/24\n",
      "----------\n",
      "train Loss: 0.3539 Acc: 0.8434\n",
      "\n",
      "test Loss: 0.3373 Acc: 0.8633\n",
      "\n",
      "Epoch 24/24\n",
      "----------\n",
      "train Loss: 0.3537 Acc: 0.8432\n",
      "\n",
      "test Loss: 0.3385 Acc: 0.8620\n",
      "\n"
     ]
    }
   ],
   "source": [
    "from carla.models.catalog import MLModelCatalog\n",
    "import torch\n",
    "torch.manual_seed(0)\n",
    "\n",
    "ml_model = MLModelCatalog(\n",
    "        dataset, \n",
    "        model_type=\"ann\", \n",
    "        load_online=False, \n",
    "        backend=\"pytorch\"\n",
    "    )\n",
    "if data_name == 'adult':\n",
    "    ml_model.train(\n",
    "    learning_rate=0.002,\n",
    "    epochs=20,\n",
    "    batch_size=1024,\n",
    "    hidden_size=[18, 9, 3],\n",
    "    force_train=True, # don't forget to add this or it might load an older model from disk\n",
    "    )\n",
    "elif data_name == 'give_me_some_credit':\n",
    "    ml_model.train(\n",
    "    learning_rate=0.002,\n",
    "    epochs=20,\n",
    "    batch_size=2048,\n",
    "    hidden_size=[18, 9, 3],\n",
    "    force_train=True, # don't forget to add this or it might load an older model from disk\n",
    "    )\n",
    "elif data_name == 'compas':\n",
    "    ml_model.train(\n",
    "    learning_rate=0.002,\n",
    "    epochs=25,\n",
    "    batch_size=25,\n",
    "    hidden_size=[18, 9, 3],\n",
    "    force_train=True, # don't forget to add this or it might load an older model from disk\n",
    "    )\n"
   ]
  },
  {
   "cell_type": "code",
   "execution_count": 3,
   "metadata": {},
   "outputs": [
    {
     "data": {
      "text/plain": [
       "0.861973140964566"
      ]
     },
     "execution_count": 3,
     "metadata": {},
     "output_type": "execute_result"
    }
   ],
   "source": [
    "from sklearn import metrics\n",
    "\n",
    "if data_name == 'adult':\n",
    "    y = dataset.df_test['income']\n",
    "elif data_name == 'give_me_some_credit':\n",
    "    y = dataset.df_test['SeriousDlqin2yrs']\n",
    "elif data_name == 'compas':\n",
    "    y = dataset.df_test['score']\n",
    "\n",
    "pred = ml_model.predict_proba(dataset.df_test)\n",
    "pred = [row[1] for row in pred]\n",
    "fpr, tpr, thresholds = metrics.roc_curve(y, pred, pos_label=1)\n",
    "metrics.auc(fpr, tpr)"
   ]
  },
  {
   "cell_type": "code",
   "execution_count": 4,
   "metadata": {},
   "outputs": [],
   "source": [
    "from carla.models.negative_instances import predict_negative_instances\n",
    "import carla.recourse_methods.catalog as recourse_catalog\n",
    "\n",
    "factuals = predict_negative_instances(ml_model, dataset.df)\n",
    "test_factual = factuals.iloc[:100]"
   ]
  },
  {
   "cell_type": "code",
   "execution_count": 5,
   "metadata": {},
   "outputs": [
    {
     "name": "stdout",
     "output_type": "stream",
     "text": [
      "Factuals: 746\n",
      "Factuals: 0.12086843810758263\n"
     ]
    }
   ],
   "source": [
    "print((f\"Factuals: {factuals.shape[0]}\"))\n",
    "print((f\"Factuals: {(factuals.shape[0]) / dataset.df.shape[0]}\"))"
   ]
  },
  {
   "cell_type": "markdown",
   "metadata": {},
   "source": [
    "## Compute performance metrics"
   ]
  },
  {
   "cell_type": "code",
   "execution_count": 7,
   "metadata": {},
   "outputs": [
    {
     "name": "stderr",
     "output_type": "stream",
     "text": [
      "/nr/samba/user/anr/anaconda3/envs/carla_github/lib/python3.7/site-packages/carla/models/catalog/ANN_TORCH/model_ann.py:56: UserWarning: Implicit dimension choice for softmax has been deprecated. Change the call to include dim=X as an argument.\n",
      "  x = self.softmax(x)\n",
      "/nr/samba/user/anr/anaconda3/envs/carla_github/lib/python3.7/site-packages/carla/models/catalog/ANN_TORCH/model_ann.py:56: UserWarning: Implicit dimension choice for softmax has been deprecated. Change the call to include dim=X as an argument.\n",
      "  x = self.softmax(x)\n",
      "/nr/samba/user/anr/anaconda3/envs/carla_github/lib/python3.7/site-packages/carla/models/catalog/ANN_TORCH/model_ann.py:56: UserWarning: Implicit dimension choice for softmax has been deprecated. Change the call to include dim=X as an argument.\n",
      "  x = self.softmax(x)\n",
      "/nr/samba/user/anr/anaconda3/envs/carla_github/lib/python3.7/site-packages/carla/models/catalog/ANN_TORCH/model_ann.py:56: UserWarning: Implicit dimension choice for softmax has been deprecated. Change the call to include dim=X as an argument.\n",
      "  x = self.softmax(x)\n",
      "/nr/samba/user/anr/anaconda3/envs/carla_github/lib/python3.7/site-packages/carla/models/catalog/ANN_TORCH/model_ann.py:56: UserWarning: Implicit dimension choice for softmax has been deprecated. Change the call to include dim=X as an argument.\n",
      "  x = self.softmax(x)\n",
      "/nr/samba/user/anr/anaconda3/envs/carla_github/lib/python3.7/site-packages/carla/models/catalog/ANN_TORCH/model_ann.py:56: UserWarning: Implicit dimension choice for softmax has been deprecated. Change the call to include dim=X as an argument.\n",
      "  x = self.softmax(x)\n",
      "/nr/samba/user/anr/anaconda3/envs/carla_github/lib/python3.7/site-packages/carla/models/catalog/ANN_TORCH/model_ann.py:56: UserWarning: Implicit dimension choice for softmax has been deprecated. Change the call to include dim=X as an argument.\n",
      "  x = self.softmax(x)\n"
     ]
    }
   ],
   "source": [
    "from metrics import distance, constraint_violation, feasibility, success_rate\n",
    "\n",
    "final_results = pd.DataFrame()\n",
    "for method in ['cchvae', 'cem-vae', 'revise', 'clue', 'crud', 'face']:\n",
    "    if data_name == 'adult':\n",
    "        cfs = pd.read_csv(\"Results/adult_manifold_results.csv\", index_col=0)\n",
    "    elif data_name == 'give_me_some_credit':\n",
    "        cfs = pd.read_csv(\"Results/give_me_some_credit_manifold_results.csv\", index_col=0)\n",
    "    elif data_name == 'compas':\n",
    "        cfs = pd.read_csv(\"Results/compas_manifold_results.csv\", index_col=0)\n",
    "    factuals = predict_negative_instances(ml_model, dataset.df)\n",
    "    test_factual = factuals.iloc[:100]\n",
    "\n",
    "    df_cfs = cfs[cfs['method'] == method].drop(['method',\t'data'], axis=1)\n",
    "\n",
    "    # missing values\n",
    "    nan_idx = df_cfs.index[df_cfs.isnull().any(axis=1)]\n",
    "    non_nan_idx = df_cfs.index[~(df_cfs.isnull()).any(axis=1)]\n",
    "\n",
    "    output_factuals = test_factual.copy()\n",
    "    output_counterfactuals = df_cfs.copy()\n",
    "\n",
    "    factual_without_nans = output_factuals.drop(index=nan_idx)\n",
    "    counterfactuals_without_nans = output_counterfactuals.drop(index=nan_idx)\n",
    "\n",
    "    \n",
    "    # counterfactuals\n",
    "    results = pd.concat([dataset.inverse_transform(counterfactuals_without_nans)])\n",
    "    results['method'] = method\n",
    "    results['data'] = data_name\n",
    "\n",
    "    # distances\n",
    "    distances = pd.DataFrame(distance(counterfactuals_without_nans, factual_without_nans, ml_model))\n",
    "    distances.set_index(non_nan_idx, inplace=True)\n",
    "    results = pd.concat([results, distances], axis=1)\n",
    "\n",
    "    results['feasibility'] = feasibility(counterfactuals_without_nans, factual_without_nans, \\\n",
    "        dataset.df.columns)\n",
    "        \n",
    "    # violations\n",
    "    violations = []\n",
    "\n",
    "    df_decoded_cfs = dataset.inverse_transform(counterfactuals_without_nans)\n",
    "    df_factuals = dataset.inverse_transform(factual_without_nans)\n",
    "    \n",
    "    total_violations = constraint_violation(df_decoded_cfs, df_factuals, \\\n",
    "        dataset.continuous, dataset.categorical, dataset.immutables)\n",
    "    for x in total_violations:\n",
    "        violations.append(x[0])\n",
    "    results['violation'] = violations\n",
    "    \n",
    "    # success\n",
    "    results['success'] = success_rate(counterfactuals_without_nans, ml_model, cutoff=0.5)\n",
    "\n",
    "    # time\n",
    "    results['time (seconds)'] = df_cfs['time (seconds)'].mean() \n",
    "    \n",
    "    results['prediction'] = ml_model.predict_proba(counterfactuals_without_nans)[:, [1]]\n",
    "\n",
    "    final_results = pd.concat([final_results, results], axis=0)"
   ]
  },
  {
   "cell_type": "code",
   "execution_count": null,
   "metadata": {},
   "outputs": [],
   "source": [
    "final_results[['method', 'L0', 'L1', 'L2', 'feasibility', 'violation', 'success', 'time (seconds)']].groupby(['method']).mean()"
   ]
  },
  {
   "cell_type": "markdown",
   "metadata": {},
   "source": [
    "## Here we combine CARLA and MCCE results to make Tables 1, 2, 3"
   ]
  },
  {
   "cell_type": "code",
   "execution_count": 29,
   "metadata": {},
   "outputs": [
    {
     "data": {
      "text/html": [
       "<div>\n",
       "<style scoped>\n",
       "    .dataframe tbody tr th:only-of-type {\n",
       "        vertical-align: middle;\n",
       "    }\n",
       "\n",
       "    .dataframe tbody tr th {\n",
       "        vertical-align: top;\n",
       "    }\n",
       "\n",
       "    .dataframe thead th {\n",
       "        text-align: right;\n",
       "    }\n",
       "</style>\n",
       "<table border=\"1\" class=\"dataframe\">\n",
       "  <thead>\n",
       "    <tr style=\"text-align: right;\">\n",
       "      <th></th>\n",
       "      <th>age</th>\n",
       "      <th>two_year_recid</th>\n",
       "      <th>priors_count</th>\n",
       "      <th>length_of_stay</th>\n",
       "      <th>score</th>\n",
       "      <th>L0</th>\n",
       "      <th>L1</th>\n",
       "      <th>L2</th>\n",
       "      <th>feasibility</th>\n",
       "      <th>success</th>\n",
       "      <th>violation</th>\n",
       "      <th>time (seconds)</th>\n",
       "      <th>data</th>\n",
       "      <th>method</th>\n",
       "      <th>prediction</th>\n",
       "      <th>c_charge_degree</th>\n",
       "      <th>race</th>\n",
       "      <th>sex</th>\n",
       "    </tr>\n",
       "  </thead>\n",
       "  <tbody>\n",
       "    <tr>\n",
       "      <th>24</th>\n",
       "      <td>27.0</td>\n",
       "      <td>1.0</td>\n",
       "      <td>4.0</td>\n",
       "      <td>2.0</td>\n",
       "      <td>0.584159</td>\n",
       "      <td>2.0</td>\n",
       "      <td>0.124013</td>\n",
       "      <td>0.011432</td>\n",
       "      <td>0.038495</td>\n",
       "      <td>1</td>\n",
       "      <td>0</td>\n",
       "      <td>74.653979</td>\n",
       "      <td>compas</td>\n",
       "      <td>mcce</td>\n",
       "      <td>0.584159</td>\n",
       "      <td>F</td>\n",
       "      <td>African-American</td>\n",
       "      <td>Male</td>\n",
       "    </tr>\n",
       "  </tbody>\n",
       "</table>\n",
       "</div>"
      ],
      "text/plain": [
       "     age  two_year_recid  priors_count  length_of_stay     score   L0  \\\n",
       "24  27.0             1.0           4.0             2.0  0.584159  2.0   \n",
       "\n",
       "          L1        L2  feasibility  success  violation  time (seconds)  \\\n",
       "24  0.124013  0.011432     0.038495        1          0       74.653979   \n",
       "\n",
       "      data method  prediction c_charge_degree              race   sex  \n",
       "24  compas   mcce    0.584159               F  African-American  Male  "
      ]
     },
     "execution_count": 29,
     "metadata": {},
     "output_type": "execute_result"
    }
   ],
   "source": [
    "pd.set_option('display.max_columns', None)\n",
    "import pandas as pd\n",
    "\n",
    "if data_name == 'compas':\n",
    "    K = 1000\n",
    "else:\n",
    "    K = 10000\n",
    "n_test = 100\n",
    "results = pd.read_csv(f\"Results/{data_name}_mcce_results_k_{K}_n_{n_test}_inverse_transform.csv\", index_col=0)\n",
    "results.sort_index(inplace=True)\n",
    "results['data'] = data_name\n",
    "results['method'] = 'mcce'\n",
    "results.head(1)"
   ]
  },
  {
   "cell_type": "markdown",
   "metadata": {},
   "source": [
    "## Load original factuals"
   ]
  },
  {
   "cell_type": "code",
   "execution_count": 30,
   "metadata": {},
   "outputs": [
    {
     "name": "stderr",
     "output_type": "stream",
     "text": [
      "/nr/samba/user/anr/anaconda3/envs/carla_github/lib/python3.7/site-packages/carla/models/catalog/ANN_TORCH/model_ann.py:56: UserWarning: Implicit dimension choice for softmax has been deprecated. Change the call to include dim=X as an argument.\n",
      "  x = self.softmax(x)\n"
     ]
    }
   ],
   "source": [
    "pd.set_option('display.max_columns', None)\n",
    "temp = pd.concat([final_results, results[final_results.columns]])\n",
    "\n",
    "temp2 = factuals.copy()\n",
    "preds = ml_model.predict_proba(temp2)\n",
    "new_preds = []\n",
    "for x in preds:\n",
    "    new_preds.append(x[1])\n",
    "temp2['prediction'] = new_preds\n",
    "temp2 = dataset.inverse_transform(temp2)\n",
    "temp2.head(1)\n",
    "temp2['L0'] = np.nan\n",
    "temp2['L1'] = np.nan\n",
    "temp2['L2'] = np.nan\n",
    "temp2['success'] = np.nan\n",
    "temp2['violation'] = np.nan\n",
    "temp2['feasibility'] = np.nan\n",
    "temp2['time (seconds)'] = np.nan\n",
    "temp2['method'] = 'original'\n",
    "temp2['data'] = data_name\n",
    "\n",
    "temp = pd.concat([temp, temp2.iloc[0:100][temp.columns]], axis=0)"
   ]
  },
  {
   "cell_type": "code",
   "execution_count": null,
   "metadata": {},
   "outputs": [],
   "source": [
    "pd.set_option('display.max_columns', None)\n",
    "# temp"
   ]
  },
  {
   "cell_type": "code",
   "execution_count": 32,
   "metadata": {},
   "outputs": [],
   "source": [
    "if data_name == 'give_me_some_credit':\n",
    "    cols = ['method', 'data', 'prediction', 'L0', 'L1', 'L2', 'feasibility', 'violation', 'success', 'time (seconds)'] + temp.columns[9:-1].to_list()\n",
    "    temp2 = temp[cols]\n",
    "elif data_name == 'adult':\n",
    "    cols = ['method', 'data', 'prediction', 'L0', 'L1', 'L2', 'feasibility', 'violation', 'success', 'time (seconds)'] + temp.columns[9:16].to_list() + temp.columns[17:].to_list()\n",
    "    temp2 = temp[cols]\n",
    "\n",
    "elif data_name == 'compas':\n",
    "    cols = ['method', 'data', 'prediction', 'L0', 'L1', 'L2', 'feasibility', 'violation', 'success', 'time (seconds)'] + temp.columns[0:4].to_list() + temp.columns[6:9].to_list()\n",
    "    temp2 = temp[cols]\n",
    "temp2.to_csv(f\"Final_results/{data_name}_results_mcce_and_carla_K_{K}_n_{n_test}.csv\")"
   ]
  },
  {
   "cell_type": "code",
   "execution_count": null,
   "metadata": {},
   "outputs": [],
   "source": [
    "# temp2"
   ]
  },
  {
   "cell_type": "markdown",
   "metadata": {},
   "source": [
    "## To get Adult and GMC Table 1"
   ]
  },
  {
   "cell_type": "code",
   "execution_count": null,
   "metadata": {},
   "outputs": [],
   "source": [
    "temp = pd.read_csv(\"Final_results/adult_results_mcce_and_carla_K_10000_n_100.csv\", index_col=0)\n",
    "\n",
    "to_write = temp[['method', 'L0', 'L2', 'feasibility', 'violation', 'success', 'time (seconds)']].groupby(['method']).mean()\n",
    "\n",
    "to_write.reset_index(inplace=True)\n",
    "\n",
    "CE_N = temp.groupby(['method']).size().reset_index().rename(columns={0: 'CE_N'})\n",
    "to_write = pd.concat([to_write, CE_N.CE_N], axis=1)\n",
    "\n",
    "# to_write.sort_values(['method'], inplace=True, ascending=False)\n",
    "to_write = to_write[['method', 'L0', 'L2', 'feasibility', 'violation', 'success', 'CE_N', 'time (seconds)']]\n",
    "\n",
    "print(to_write.to_latex(index=False, float_format=\"%.2f\", ))"
   ]
  },
  {
   "cell_type": "code",
   "execution_count": null,
   "metadata": {},
   "outputs": [],
   "source": [
    "temp = pd.read_csv(\"Final_results/give_me_some_credit_results_mcce_and_carla_K_10000_n_100.csv\", index_col=0)\n",
    "\n",
    "to_write = temp[['method', 'L0', 'L2', 'feasibility', 'violation', 'success', 'time (seconds)']].groupby(['method']).mean()\n",
    "\n",
    "to_write.reset_index(inplace=True)\n",
    "\n",
    "CE_N = temp.groupby(['method']).size().reset_index().rename(columns={0: 'CE_N'})\n",
    "to_write = pd.concat([to_write, CE_N.CE_N], axis=1)\n",
    "\n",
    "to_write = to_write[['method', 'L0', 'L2', 'feasibility', 'violation', 'success', 'CE_N', 'time (seconds)']]\n",
    "\n",
    "print(to_write.to_latex(index=False, float_format=\"%.2f\", ))"
   ]
  },
  {
   "cell_type": "code",
   "execution_count": null,
   "metadata": {},
   "outputs": [],
   "source": [
    "temp = pd.read_csv(\"Final_results/compas_results_mcce_and_carla_K_10000_n_100.csv\", index_col=0)\n",
    "\n",
    "to_write = temp[['method', 'L0', 'L2', 'feasibility', 'violation', 'success', 'time (seconds)']].groupby(['method']).mean()\n",
    "\n",
    "to_write.reset_index(inplace=True)\n",
    "\n",
    "CE_N = temp.groupby(['method']).size().reset_index().rename(columns={0: 'CE_N'})\n",
    "to_write = pd.concat([to_write, CE_N.CE_N], axis=1)\n",
    "\n",
    "# to_write.sort_values(['method'], inplace=True, ascending=False)\n",
    "to_write = to_write[['method', 'L0', 'L2', 'feasibility', 'violation', 'success', 'CE_N', 'time (seconds)']]\n",
    "\n",
    "print(to_write.to_latex(index=False, float_format=\"%.2f\", ))"
   ]
  },
  {
   "cell_type": "markdown",
   "metadata": {},
   "source": [
    "## To get Adult examples in table 2"
   ]
  },
  {
   "cell_type": "code",
   "execution_count": null,
   "metadata": {},
   "outputs": [],
   "source": [
    "pd.set_option('display.max_columns', None)\n",
    "\n",
    "import pandas as pd\n",
    "\n",
    "temp = pd.read_csv(\"Final_results/adult_results_mcce_and_carla_K_10000_n_100.csv\", index_col=0)\n",
    "\n",
    "to_write = temp.loc[31]\n",
    "\n",
    "to_write"
   ]
  },
  {
   "cell_type": "code",
   "execution_count": null,
   "metadata": {},
   "outputs": [],
   "source": [
    "# print(to_write.Pred.to_latex(index=False, float_format=\"%.2f\", ))\n",
    "feature = 'marital-status'\n",
    "dct = {'Married': 'M', 'Non-Married': 'NM'}\n",
    "to_write[feature] = [dct[item] for item in to_write[feature]]\n",
    "\n",
    "feature = 'native-country'\n",
    "dct = {'Non-US': 'NUS', 'US': 'US'}\n",
    "to_write[feature] = [dct[item] for item in to_write[feature]]\n",
    "\n",
    "feature = 'occupation'\n",
    "dct = {'Managerial-Specialist': 'MS', 'Other': 'O'}\n",
    "to_write[feature] = [dct[item] for item in to_write[feature]]\n",
    "\n",
    "feature = 'race'\n",
    "dct = {'White': 'W', 'Non-White': 'NW'}\n",
    "to_write[feature] = [dct[item] for item in to_write[feature]]\n",
    "\n",
    "feature = 'relationship'\n",
    "dct = {'Husband': 'H', 'Non-Husband': 'NH'}\n",
    "to_write[feature] = [dct[item] for item in to_write[feature]]\n",
    "\n",
    "feature = 'sex'\n",
    "dct = {'Male': 'M'}\n",
    "to_write[feature] = [dct[item] for item in to_write[feature]]\n",
    "\n",
    "\n",
    "feature = 'workclass'\n",
    "dct = {'Self-emp-not-inc': 'SENI', 'Private': 'P', 'Non-Private': 'NP'}\n",
    "to_write[feature] = [dct[item] for item in to_write[feature]]"
   ]
  },
  {
   "cell_type": "code",
   "execution_count": null,
   "metadata": {},
   "outputs": [],
   "source": [
    "cols = ['method', 'age', 'fnlwgt', 'education-num', 'capital-gain', 'capital-loss', \\\n",
    "       'hours-per-week', 'marital-status', 'native-country', \\\n",
    "       'occupation', 'race', 'relationship', 'sex', 'workclass']\n",
    "\n",
    "print(to_write[cols].to_latex(index=False, float_format=\"%.0f\", ))"
   ]
  },
  {
   "cell_type": "markdown",
   "metadata": {},
   "source": [
    "## To get GMC examples in table 3"
   ]
  },
  {
   "cell_type": "code",
   "execution_count": null,
   "metadata": {},
   "outputs": [],
   "source": [
    "temp = pd.read_csv(\"Final_results/give_me_some_credit_results_mcce_and_carla_K_10000_n_100.csv\", index_col=0)\n",
    "# temp.loc[263]\n",
    "\n",
    "cols = ['method', 'prediction', 'age', 'RevolvingUtilizationOfUnsecuredLines', 'NumberOfTime30-59DaysPastDueNotWorse', 'DebtRatio', 'MonthlyIncome', 'NumberOfOpenCreditLinesAndLoans', 'NumberOfTimes90DaysLate', 'NumberRealEstateLoansOrLines', 'NumberOfTime60-89DaysPastDueNotWorse', 'NumberOfDependents']\n",
    "\n",
    "to_write = temp[cols].loc[263]\n",
    "\n",
    "cols = ['Method', 'Pred', 'Age', 'Unsec. Lines', 'Nb Days Past 30', 'Debt Ratio', 'Month Inc.', 'Nb Credit Lines', 'Nb Times 90 Days Late', 'Nb Real Estate Loans', 'Nb Times 60 Days Past', 'Nb Dep.']\n",
    "\n",
    "to_write.columns = cols\n",
    "# to_write.sort_values(['Method'], inplace=True, ascending=False)\n",
    "\n",
    "# print(to_write.to_latex(index=False, float_format=\"%.0f\", ))\n",
    "\n",
    "print(to_write.to_latex(index=False, float_format=\"%.2f\", ))"
   ]
  },
  {
   "cell_type": "code",
   "execution_count": null,
   "metadata": {},
   "outputs": [],
   "source": [
    "if data_name == 'give_me_some_credit':\n",
    "    features = [ 'age', 'RevolvingUtilizationOfUnsecuredLines', 'NumberOfTime30-59DaysPastDueNotWorse','DebtRatio', 'MonthlyIncome', 'NumberOfOpenCreditLinesAndLoans', 'NumberOfTimes90DaysLate', 'NumberRealEstateLoansOrLines', 'NumberOfTime60-89DaysPastDueNotWorse', 'NumberOfDependents']\n",
    "    metric_names = ['method', 'L0', 'L1', 'violations', 'validity', 'prediction']\n",
    "\n",
    "    temp = dataset.inverse_transform(final_results.dropna()[features])\n",
    "    temp = pd.concat([final_results[metric_names], temp], axis=1)\n",
    "    # temp.sort_values(temp.index.name)"
   ]
  },
  {
   "cell_type": "code",
   "execution_count": null,
   "metadata": {},
   "outputs": [],
   "source": [
    "if data_name == 'give_me_some_credit':\n",
    "    mcce_results = pd.read_csv(f\"/nr/samba/user/anr/pkg/MCCE_Python/give_me_some_credit_mcce_results_k_10000.csv\")\n",
    "    mcce_results.rename(columns={'Unnamed: 0': 'index'}, inplace=True)\n",
    "    mcce_results.set_index(['index'], inplace=True)\n",
    "\n",
    "    predictions = ml_model.predict_proba(mcce_results)\n",
    "    temp3 = []\n",
    "    for x in predictions:\n",
    "        temp3.append(x[1]) #  >= 0.5\n",
    "        \n",
    "    # temp.index = final_results.index\n",
    "    mcce_results['prediction'] = temp3\n"
   ]
  },
  {
   "cell_type": "code",
   "execution_count": null,
   "metadata": {},
   "outputs": [],
   "source": [
    "if data_name == 'give_me_some_credit':\n",
    "    mcce_results.sort_values(mcce_results.index.name, inplace=True)\n",
    "    mcce_results['method'] = 'mcce'\n",
    "    mcce_results.rename(columns={'success': 'validity', 'violation': 'violations'}, inplace=True)\n",
    "    temp_mcce = dataset.inverse_transform(mcce_results.dropna()[features])\n",
    "    temp_mcce = pd.concat([mcce_results[metric_names], temp_mcce], axis=1)\n",
    "    # temp_mcce.sort_values(temp_mcce.index.name)"
   ]
  },
  {
   "cell_type": "code",
   "execution_count": null,
   "metadata": {},
   "outputs": [],
   "source": [
    "if data_name == 'give_me_some_credit':\n",
    "    pd.set_option('display.max_columns', None)\n",
    "    temp2 = pd.concat([temp, temp_mcce], axis=0)\n",
    "\n",
    "    temp2.sort_values(temp2.index.name)\n",
    "\n",
    "    features = ['method', 'prediction', 'age', 'RevolvingUtilizationOfUnsecuredLines', 'NumberOfTime30-59DaysPastDueNotWorse','DebtRatio', 'MonthlyIncome', 'NumberOfOpenCreditLinesAndLoans', 'NumberOfTimes90DaysLate', 'NumberRealEstateLoansOrLines', 'NumberOfTime60-89DaysPastDueNotWorse', 'NumberOfDependents']\n",
    "\n",
    "    temp2.loc[263][features]"
   ]
  },
  {
   "cell_type": "code",
   "execution_count": null,
   "metadata": {},
   "outputs": [],
   "source": [
    "if data_name == 'give_me_some_credit':\n",
    "    factuals = predict_negative_instances(ml_model, dataset.df)\n",
    "    dataset.inverse_transform(factuals.iloc[3:4])[['age', 'RevolvingUtilizationOfUnsecuredLines', 'NumberOfTime30-59DaysPastDueNotWorse','DebtRatio', 'MonthlyIncome', 'NumberOfOpenCreditLinesAndLoans', 'NumberOfTimes90DaysLate', 'NumberRealEstateLoansOrLines', 'NumberOfTime60-89DaysPastDueNotWorse', 'NumberOfDependents']]\n",
    "\n",
    "    ml_model.predict_proba(factuals.iloc[3:4])\n"
   ]
  },
  {
   "cell_type": "markdown",
   "metadata": {},
   "source": [
    "## To get COMPAS results"
   ]
  },
  {
   "cell_type": "code",
   "execution_count": 34,
   "metadata": {},
   "outputs": [],
   "source": [
    "temp = pd.read_csv(\"Final_results/compas_results_mcce_and_carla_K_1000_n_100.csv\", index_col=0)"
   ]
  },
  {
   "cell_type": "code",
   "execution_count": 39,
   "metadata": {},
   "outputs": [
    {
     "name": "stdout",
     "output_type": "stream",
     "text": [
      "\\begin{tabular}{lrrrrlll}\n",
      "\\toprule\n",
      "   Method &  Age &  Two Year Recid &  Priors Count &  Length of Stay & C Charge Degree &              Race &   Sex \\\\\n",
      "\\midrule\n",
      "   revise &   47 &               0 &             9 &             211 &               F &             Other &  Male \\\\\n",
      " original &   25 &               1 &             9 &               6 &               M &             Other &  Male \\\\\n",
      "     mcce &   25 &               1 &             6 &              12 &               M &             Other &  Male \\\\\n",
      "     face &   23 &               1 &             3 &               6 &               F &  African-American &  Male \\\\\n",
      "     crud &  119 &               1 &             2 &             387 &               F &             Other &  Male \\\\\n",
      "     clue &   31 &               1 &             9 &            -194 &               M &             Other &  Male \\\\\n",
      "  cem-vae &   57 &               1 &             0 &              -1 &               F &             Other &  Male \\\\\n",
      "   cchvae &   44 &               0 &            11 &             258 &               F &             Other &  Male \\\\\n",
      "\\bottomrule\n",
      "\\end{tabular}\n",
      "\n"
     ]
    }
   ],
   "source": [
    "\n",
    "cols = ['method',  'age', 'two_year_recid', 'priors_count', 'length_of_stay', 'c_charge_degree', 'race', 'sex']\n",
    "\n",
    "to_write = temp[cols].loc[40]\n",
    "\n",
    "cols = ['Method', 'Age', 'Two Year Recid', 'Priors Count', 'Length of Stay', 'C Charge Degree', 'Race', 'Sex']\n",
    "\n",
    "to_write.columns = cols\n",
    "to_write.sort_values(['Method'], inplace=True, ascending=False)\n",
    "\n",
    "print(to_write.to_latex(index=False, float_format=\"%.0f\", ))\n",
    "\n",
    "# print(to_write.to_latex(index=False, float_format=\"%.2f\", ))\n",
    "\n",
    "# round(to_write[['Method', 'Pred']], 2)"
   ]
  }
 ],
 "metadata": {
  "interpreter": {
   "hash": "ea38de303447ace9d448c28089670fa84711b12cac6767c435896f96584513e1"
  },
  "kernelspec": {
   "display_name": "Python 3.7.13 ('carla_github')",
   "language": "python",
   "name": "python3"
  },
  "language_info": {
   "codemirror_mode": {
    "name": "ipython",
    "version": 3
   },
   "file_extension": ".py",
   "mimetype": "text/x-python",
   "name": "python",
   "nbconvert_exporter": "python",
   "pygments_lexer": "ipython3",
   "version": "3.7.13"
  },
  "orig_nbformat": 4
 },
 "nbformat": 4,
 "nbformat_minor": 2
}
