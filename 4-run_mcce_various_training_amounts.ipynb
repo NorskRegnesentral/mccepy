{
 "cells": [
  {
   "cell_type": "code",
   "execution_count": null,
   "metadata": {},
   "outputs": [],
   "source": [
    "import warnings\n",
    "warnings.filterwarnings('ignore')\n",
    "\n",
    "import pandas as pd\n",
    "import numpy as np\n",
    "\n",
    "from carla.data.catalog import OnlineCatalog\n",
    "from carla.models.catalog import MLModelCatalog\n",
    "from carla.models.negative_instances import predict_negative_instances\n",
    "\n",
    "import torch\n",
    "import time\n",
    "\n",
    "from mcce import MCCE\n",
    "\n",
    "## FOR EACH DATA SET you have to adjust n below - \n",
    "## for adult and gmc, I use 100, 1000, 10000 and the size of the data set\n",
    "## for compas, I use 100, 1000, 5000, and the size of the dat aset \n",
    "\n",
    "data_name = \"adult\"\n",
    "data_name = 'give_me_some_credit'\n",
    "data_name = 'compas'\n",
    "\n",
    "K = 1000\n",
    "n_test = 100\n",
    "seed = 1\n",
    "\n",
    "dataset = OnlineCatalog(data_name)\n",
    "\n",
    "torch.manual_seed(0)\n",
    "ml_model = MLModelCatalog(\n",
    "        dataset, \n",
    "        model_type=\"ann\", \n",
    "        load_online=False, \n",
    "        backend=\"pytorch\"\n",
    "        )\n",
    "\n",
    "if data_name == 'adult':\n",
    "    ml_model.train(\n",
    "    learning_rate=0.002,\n",
    "    epochs=20,\n",
    "    batch_size=1024,\n",
    "    hidden_size=[18, 9, 3],\n",
    "    force_train=True, # don't forget to add this or it might load an older model from disk\n",
    "    )\n",
    "elif data_name == 'give_me_some_credit':\n",
    "    ml_model.train(\n",
    "    learning_rate=0.002,\n",
    "    epochs=20,\n",
    "    batch_size=2048,\n",
    "    hidden_size=[18, 9, 3],\n",
    "    force_train=True, # don't forget to add this or it might load an older model from disk\n",
    "    )\n",
    "elif data_name == 'compas':\n",
    "    ml_model.train(\n",
    "    learning_rate=0.002,\n",
    "    epochs=25,\n",
    "    batch_size=25,\n",
    "    hidden_size=[18, 9, 3],\n",
    "    force_train=True, # don't forget to add this or it might load an older model from disk\n",
    "    )\n",
    "\n",
    "# (2) Find unhappy customers and choose which ones to make counterfactuals for\n",
    "factuals = predict_negative_instances(ml_model, dataset.df)\n",
    "test_factual = factuals.iloc[:n_test]"
   ]
  },
  {
   "cell_type": "code",
   "execution_count": null,
   "metadata": {},
   "outputs": [],
   "source": [
    "y_col = dataset.target\n",
    "cont_feat = dataset.continuous\n",
    "\n",
    "cat_feat = dataset.categorical\n",
    "cat_feat_encoded = dataset.encoder.get_feature_names(dataset.categorical)\n",
    "\n",
    "if data_name == 'adult': \n",
    "    fixed_features_encoded = ['age', 'sex_Male']\n",
    "    fixed_features = ['age', 'sex']\n",
    "elif data_name == 'give_me_some_credit':\n",
    "    fixed_features_encoded = ['age']\n",
    "    fixed_features = ['age']\n",
    "elif data_name == 'compas':\n",
    "    fixed_features_encoded = ['age', 'sex_Male', 'race_Other']\n",
    "    fixed_features = ['age', 'sex', 'race']\n",
    "\n",
    "#  Create dtypes for MCCE()\n",
    "dtypes = dict([(x, \"float\") for x in cont_feat])\n",
    "for x in cat_feat_encoded:\n",
    "    dtypes[x] = \"category\"\n",
    "df = (dataset.df).astype(dtypes)"
   ]
  },
  {
   "cell_type": "markdown",
   "metadata": {},
   "source": [
    "## Loop through various subsets of data and train trees on the smaller subsets - 48832 is the full data set"
   ]
  },
  {
   "cell_type": "code",
   "execution_count": null,
   "metadata": {},
   "outputs": [],
   "source": [
    "if data_name == 'adult': \n",
    "    n_list = [100, 1000, 10000, dataset.df.shape[0]]\n",
    "elif data_name == 'give_me_some_credit':\n",
    "    n_list = [100, 1000, 10000, 50000, dataset.df.shape[0]]\n",
    "elif data_name == 'compas':\n",
    "    n_list = [100, 1000, 5000, dataset.df.shape[0]]"
   ]
  },
  {
   "cell_type": "code",
   "execution_count": null,
   "metadata": {},
   "outputs": [],
   "source": [
    "import random \n",
    "\n",
    "results = []\n",
    "# results_pd = pd.DataFrame()\n",
    "for n in n_list:\n",
    "\n",
    "    if n == dataset.df.shape[0]:\n",
    "        \n",
    "        print(n)\n",
    "        random.seed(0)\n",
    "        rows = random.sample(df.index.to_list(), n)\n",
    "        rows = np.sort(rows)\n",
    "        df_subset = df.loc[rows]\n",
    "        print(df.equals(df_subset))\n",
    "\n",
    "        start = time.time()\n",
    "\n",
    "        mcce = MCCE(fixed_features=fixed_features,\\\n",
    "                fixed_features_encoded=fixed_features_encoded,\n",
    "                    continuous=dataset.continuous, categorical=dataset.categorical,\\\n",
    "                        model=ml_model, seed=1)\n",
    "\n",
    "        mcce.fit(df.drop(dataset.target, axis=1), dtypes)\n",
    "\n",
    "        synth_df = mcce.generate(test_factual.drop(dataset.target, axis=1), k=100)\n",
    "        mcce.postprocess(data=df, synth=synth_df, test=test_factual, response=y_col, \\\n",
    "            inverse_transform=dataset.inverse_transform, cutoff=0.5)\n",
    "\n",
    "        timing = time.time() - start\n",
    "\n",
    "        mcce.results_sparse['time (seconds)'] = timing\n",
    "\n",
    "        results.append([mcce.results_sparse.L0.mean(), mcce.results_sparse.L2.mean(), mcce.results_sparse.feasibility.mean(), mcce.results_sparse.violation.mean(), mcce.results_sparse.shape[0], timing, n, 0])\n",
    "    else:\n",
    "        for s in range(5):\n",
    "            random.seed(s)\n",
    "            rows = random.sample(df.index.to_list(), n)\n",
    "            rows = np.sort(rows)\n",
    "            df_subset = df.loc[rows]\n",
    "\n",
    "            start = time.time()\n",
    "\n",
    "            mcce = MCCE(fixed_features=fixed_features,\\\n",
    "                    fixed_features_encoded=fixed_features_encoded,\n",
    "                        continuous=dataset.continuous, categorical=dataset.categorical,\\\n",
    "                            model=ml_model, seed=1)\n",
    "\n",
    "            mcce.fit(df.drop(dataset.target, axis=1), dtypes)\n",
    "\n",
    "            synth_df = mcce.generate(test_factual.drop(dataset.target, axis=1), k=100)\n",
    "            mcce.postprocess(data=df, synth=synth_df, test=test_factual, response=y_col, \\\n",
    "                inverse_transform=dataset.inverse_transform, cutoff=0.5)\n",
    "\n",
    "            timing = time.time() - start\n",
    "\n",
    "            mcce.results_sparse['time (seconds)'] = timing\n",
    "\n",
    "            temp = mcce.results_sparse\n",
    "            temp['n'] = n\n",
    "\n",
    "            # results_pd = pd.concat([results_pd, temp])\n",
    "\n",
    "            results.append([mcce.results_sparse.L0.mean(), mcce.results_sparse.L2.mean(), mcce.results_sparse.feasibility.mean(), mcce.results_sparse.violation.mean(), mcce.results_sparse.shape[0], timing, n, s])\n"
   ]
  },
  {
   "cell_type": "code",
   "execution_count": null,
   "metadata": {},
   "outputs": [],
   "source": [
    "results2 = pd.DataFrame(results, columns=['L0', 'L2', 'feasibility', 'violation', 'NCE', 'timing', 'Ntest', 'seed'])\n",
    "\n",
    "results2.to_csv(f\"Results/{data_name}_mcce_results_k_{K}_n_{n_test}_with_various_training_amounts.csv\")\n",
    "\n",
    "results2.groupby('Ntest').mean()"
   ]
  },
  {
   "cell_type": "code",
   "execution_count": null,
   "metadata": {},
   "outputs": [],
   "source": [
    "results2 = pd.read_csv(f\"/nr/samba/user/anr/pkg/MCCE_Python/Results/{data_name}_mcce_results_k_{K}_n_{n_test}_with_various_training_amounts.csv\", index_col=0)\n",
    "results2.groupby('Ntest').mean()"
   ]
  },
  {
   "cell_type": "code",
   "execution_count": null,
   "metadata": {},
   "outputs": [],
   "source": [
    "# mcce.results_sparse.to_csv(f\"/nr/samba/user/anr/pkg/MCCE_Python/Results/{data_name}_mcce_results_k_{K}_n_{n_test}.csv\")"
   ]
  },
  {
   "cell_type": "code",
   "execution_count": null,
   "metadata": {},
   "outputs": [],
   "source": [
    "# temp =pd.read_csv(f\"/nr/samba/user/anr/pkg/MCCE_Python/Results/give_me_some_credit_mcce_results_k_10000_n_100_inverse_transform.csv\", index_col=0)\n",
    "# temp.loc[263]"
   ]
  },
  {
   "cell_type": "code",
   "execution_count": null,
   "metadata": {},
   "outputs": [],
   "source": [
    "# dataset = OnlineCatalog(\"adult\")\n",
    "\n",
    "# results = pd.read_csv(f\"/nr/samba/user/anr/pkg/MCCE_Python/Results/adult_mcce_results_k_{K}_n_{n_test}.csv\")\n",
    "\n",
    "# dataset.inverse_transform(results.iloc[0:1])[['age', 'workclass', 'fnlwgt', 'education-num', 'marital-status', 'relationship', 'capital-gain', 'capital-loss', 'hours-per-week', 'native-country']].iloc[0]\n"
   ]
  },
  {
   "cell_type": "code",
   "execution_count": null,
   "metadata": {},
   "outputs": [],
   "source": [
    "# data_name = 'adult'\n",
    "# K = 50000\n",
    "# n_test = 100\n",
    "# import pandas as pd\n",
    "# results = pd.read_csv(f\"/nr/samba/user/anr/pkg/MCCE_Python/Results/{data_name}_mcce_results_k_{K}_n_{n_test}_inverse_transform.csv\")\n",
    "# print(results.L0.mean())\n",
    "# print(results.L1.mean())\n",
    "# print(results.L2.mean())\n"
   ]
  },
  {
   "cell_type": "code",
   "execution_count": null,
   "metadata": {},
   "outputs": [],
   "source": [
    "# # print(mcce.results_sparse.)\n",
    "# print(results.L0.mean())\n",
    "# print(results.L1.mean())\n",
    "# print(results.L2.mean())\n",
    "# print(results.feasibility.mean())\n",
    "# print(results.violation.mean())\n",
    "# print(results.success.mean())\n",
    "# print(results.shape[0])"
   ]
  },
  {
   "cell_type": "code",
   "execution_count": null,
   "metadata": {},
   "outputs": [],
   "source": [
    "# results = pd.read_csv(f\"/nr/samba/user/anr/pkg/MCCE_Python/Results/{data_name}_mcce_results_k_{K}_n_{n_test}.csv\")\n",
    "\n",
    "# results['data'] = data_name\n",
    "# results['method'] = 'mcce'\n",
    "# results.rename(columns={'violation': 'violations'}, inplace=True)\n",
    "\n",
    "# preds = ml_model.predict_proba(results)\n",
    "# new_preds = []\n",
    "# for x in preds:\n",
    "#     new_preds.append(x[1])\n",
    "# results['prediction'] = new_preds\n",
    "# results = dataset.inverse_transform(results)\n",
    "# results.head(1)\n",
    "\n",
    "# results['validity'] = np.where(np.asarray(new_preds) >= 0.5, 1, 0)\n",
    "\n",
    "# results"
   ]
  },
  {
   "cell_type": "code",
   "execution_count": null,
   "metadata": {},
   "outputs": [],
   "source": [
    "# pd.set_option('display.max_columns', None)\n",
    "\n",
    "# dataset = OnlineCatalog(\"give_me_some_credit\")\n",
    "\n",
    "# results = pd.read_csv(f\"/nr/samba/user/anr/pkg/MCCE_Python/give_me_some_credit_mcce_results_k_{K}_n_{n_test}.csv\")\n",
    "\n",
    "# results.rename(columns={'Unnamed: 0': 'index'}, inplace=True)\n",
    "# results.set_index(['index'], inplace=True)\n",
    "# temp = results.sort_values([results.index.name]).iloc[0:1]\n",
    "# dataset.inverse_transform(temp)[['age', 'RevolvingUtilizationOfUnsecuredLines', 'NumberOfTime30-59DaysPastDueNotWorse','DebtRatio', 'MonthlyIncome', 'NumberOfOpenCreditLinesAndLoans', 'NumberOfTimes90DaysLate', 'NumberRealEstateLoansOrLines', 'NumberOfTime60-89DaysPastDueNotWorse', 'NumberOfDependents']].iloc[0]\n"
   ]
  },
  {
   "cell_type": "code",
   "execution_count": null,
   "metadata": {},
   "outputs": [],
   "source": [
    "# print(mcce.results_sparse.)\n",
    "# print(mcce.results_sparse.L0.mean())\n",
    "# print(mcce.results_sparse.L1.mean())\n",
    "# print(mcce.results_sparse.L2.mean())\n",
    "# results_sparse = mcce.results_sparse\n",
    "# results_sparse.index.rename('index', inplace=True)\n",
    "# results_sparse.groupby('index').size().sort_values(ascending=False)"
   ]
  }
 ],
 "metadata": {
  "interpreter": {
   "hash": "ea38de303447ace9d448c28089670fa84711b12cac6767c435896f96584513e1"
  },
  "kernelspec": {
   "display_name": "Python 3.7.13 ('carla_github')",
   "language": "python",
   "name": "python3"
  },
  "language_info": {
   "codemirror_mode": {
    "name": "ipython",
    "version": 3
   },
   "file_extension": ".py",
   "mimetype": "text/x-python",
   "name": "python",
   "nbconvert_exporter": "python",
   "pygments_lexer": "ipython3",
   "version": "3.7.13"
  },
  "orig_nbformat": 4
 },
 "nbformat": 4,
 "nbformat_minor": 2
}
