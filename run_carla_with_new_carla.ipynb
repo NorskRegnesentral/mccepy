{
 "cells": [
  {
   "cell_type": "code",
   "execution_count": null,
   "metadata": {},
   "outputs": [],
   "source": []
  },
  {
   "cell_type": "code",
   "execution_count": 3,
   "metadata": {},
   "outputs": [
    {
     "name": "stdout",
     "output_type": "stream",
     "text": [
      "balance on test set 0.23883245958934032, balance on test set 0.2408256880733945\n",
      "Epoch 0/19\n",
      "----------\n"
     ]
    },
    {
     "name": "stderr",
     "output_type": "stream",
     "text": [
      "/nr/samba/user/anr/anaconda3/envs/carla_github/lib/python3.7/site-packages/carla/models/catalog/ANN_TORCH/model_ann.py:56: UserWarning: Implicit dimension choice for softmax has been deprecated. Change the call to include dim=X as an argument.\n",
      "  x = self.softmax(x)\n"
     ]
    },
    {
     "name": "stdout",
     "output_type": "stream",
     "text": [
      "train Loss: 0.4668 Acc: 0.7734\n",
      "\n",
      "test Loss: 0.4055 Acc: 0.8005\n",
      "\n",
      "Epoch 1/19\n",
      "----------\n",
      "train Loss: 0.3946 Acc: 0.8121\n",
      "\n",
      "test Loss: 0.3910 Acc: 0.8189\n",
      "\n",
      "Epoch 2/19\n",
      "----------\n",
      "train Loss: 0.3784 Acc: 0.8222\n",
      "\n",
      "test Loss: 0.3747 Acc: 0.8226\n",
      "\n",
      "Epoch 3/19\n",
      "----------\n",
      "train Loss: 0.3655 Acc: 0.8290\n",
      "\n",
      "test Loss: 0.3600 Acc: 0.8324\n",
      "\n",
      "Epoch 4/19\n",
      "----------\n",
      "train Loss: 0.3535 Acc: 0.8343\n",
      "\n",
      "test Loss: 0.3505 Acc: 0.8373\n",
      "\n",
      "Epoch 5/19\n",
      "----------\n",
      "train Loss: 0.3460 Acc: 0.8372\n",
      "\n",
      "test Loss: 0.3472 Acc: 0.8389\n",
      "\n",
      "Epoch 6/19\n",
      "----------\n",
      "train Loss: 0.3431 Acc: 0.8387\n",
      "\n",
      "test Loss: 0.3450 Acc: 0.8402\n",
      "\n",
      "Epoch 7/19\n",
      "----------\n",
      "train Loss: 0.3405 Acc: 0.8402\n",
      "\n",
      "test Loss: 0.3435 Acc: 0.8384\n",
      "\n",
      "Epoch 8/19\n",
      "----------\n",
      "train Loss: 0.3404 Acc: 0.8389\n",
      "\n",
      "test Loss: 0.3376 Acc: 0.8396\n",
      "\n",
      "Epoch 9/19\n",
      "----------\n",
      "train Loss: 0.3348 Acc: 0.8421\n",
      "\n",
      "test Loss: 0.3421 Acc: 0.8400\n",
      "\n",
      "Epoch 10/19\n",
      "----------\n",
      "train Loss: 0.3348 Acc: 0.8411\n",
      "\n",
      "test Loss: 0.3362 Acc: 0.8426\n",
      "\n",
      "Epoch 11/19\n",
      "----------\n",
      "train Loss: 0.3345 Acc: 0.8401\n",
      "\n",
      "test Loss: 0.3339 Acc: 0.8435\n",
      "\n",
      "Epoch 12/19\n",
      "----------\n",
      "train Loss: 0.3313 Acc: 0.8430\n",
      "\n",
      "test Loss: 0.3334 Acc: 0.8426\n",
      "\n",
      "Epoch 13/19\n",
      "----------\n",
      "train Loss: 0.3296 Acc: 0.8442\n",
      "\n",
      "test Loss: 0.3353 Acc: 0.8435\n",
      "\n",
      "Epoch 14/19\n",
      "----------\n",
      "train Loss: 0.3324 Acc: 0.8436\n",
      "\n",
      "test Loss: 0.3366 Acc: 0.8395\n",
      "\n",
      "Epoch 15/19\n",
      "----------\n",
      "train Loss: 0.3311 Acc: 0.8431\n",
      "\n",
      "test Loss: 0.3449 Acc: 0.8354\n",
      "\n",
      "Epoch 16/19\n",
      "----------\n",
      "train Loss: 0.3299 Acc: 0.8426\n",
      "\n",
      "test Loss: 0.3344 Acc: 0.8393\n",
      "\n",
      "Epoch 17/19\n",
      "----------\n",
      "train Loss: 0.3296 Acc: 0.8435\n",
      "\n",
      "test Loss: 0.3302 Acc: 0.8430\n",
      "\n",
      "Epoch 18/19\n",
      "----------\n",
      "train Loss: 0.3274 Acc: 0.8442\n",
      "\n",
      "test Loss: 0.3300 Acc: 0.8471\n",
      "\n",
      "Epoch 19/19\n",
      "----------\n",
      "train Loss: 0.3295 Acc: 0.8434\n",
      "\n",
      "test Loss: 0.3283 Acc: 0.8449\n",
      "\n"
     ]
    }
   ],
   "source": [
    "from carla.data.catalog import OnlineCatalog\n",
    "from carla.models.catalog import MLModelCatalog\n",
    "from carla.models.negative_instances import predict_negative_instances\n",
    "import carla.recourse_methods.catalog as recourse_catalog\n",
    "\n",
    "from carla import Benchmark\n",
    "\n",
    "import torch\n",
    "\n",
    "dataset = OnlineCatalog(\"adult\")\n",
    "\n",
    "torch.manual_seed(0)\n",
    "\n",
    "n_test = 10\n",
    "\n",
    "ml_model = MLModelCatalog(\n",
    "        dataset, \n",
    "        model_type=\"ann\", \n",
    "        load_online=False, \n",
    "        backend=\"pytorch\"\n",
    "    )\n",
    "\n",
    "ml_model.train(\n",
    "    learning_rate=0.002,\n",
    "    epochs=20,\n",
    "    batch_size=1024,\n",
    "    hidden_size=[18, 9, 3],\n",
    "    force_train=True, \n",
    ")\n",
    "\n"
   ]
  },
  {
   "cell_type": "code",
   "execution_count": 4,
   "metadata": {},
   "outputs": [
    {
     "name": "stdout",
     "output_type": "stream",
     "text": [
      "Train on 34182 samples, validate on 14650 samples\n",
      "Epoch 1/5\n",
      "34182/34182 [==============================] - 1s 33us/step - loss: 0.0658 - val_loss: 0.0258\n",
      "Epoch 2/5\n",
      "34182/34182 [==============================] - 1s 23us/step - loss: 0.0213 - val_loss: 0.0203\n",
      "Epoch 3/5\n",
      "34182/34182 [==============================] - 1s 21us/step - loss: 0.0173 - val_loss: 0.0181\n",
      "Epoch 4/5\n",
      "34182/34182 [==============================] - 1s 20us/step - loss: 0.0145 - val_loss: 0.0138\n",
      "Epoch 5/5\n",
      "34182/34182 [==============================] - 1s 21us/step - loss: 0.0116 - val_loss: 0.0108\n"
     ]
    }
   ],
   "source": [
    "hyperparams = {\n",
    "    \"data_name\": \"adult\",\n",
    "    \"batch_size\": 1,\n",
    "    \"kappa\": 0.1,\n",
    "    \"init_learning_rate\": 0.01,\n",
    "    \"binary_search_steps\": 9,\n",
    "    \"max_iterations\": 100,\n",
    "    \"initial_const\": 10,\n",
    "    \"beta\": 0.9,\n",
    "    \"gamma\": 1.0, # 0.0, #   1.0\n",
    "    \"mode\": \"PN\",\n",
    "    \"num_classes\": 2,\n",
    "    \"ae_params\": {\"hidden_layer\": [20, 10, 7], \"train_ae\": True, \"epochs\": 5},\n",
    "}\n",
    "\n",
    "from tensorflow import Graph, Session\n",
    "\n",
    "graph = Graph()\n",
    "with graph.as_default():\n",
    "    ann_sess = Session()\n",
    "    with ann_sess.as_default():\n",
    "        ml_model_sess = MLModelCatalog(dataset, \"ann\", \"tensorflow\") # data.catalog.DataCatalog Class\n",
    "\n",
    "        factuals_sess = predict_negative_instances(\n",
    "            ml_model_sess, dataset.df\n",
    "        )\n",
    "        factuals_sess = factuals_sess.iloc[:n_test].reset_index(drop=True)\n",
    "\n",
    "        cem = recourse_catalog.CEM(ann_sess, ml_model_sess, hyperparams)\n",
    "        df_cfs = cem.get_counterfactuals(factuals_sess)\n",
    "        benchmark = Benchmark(ml_model, cem, factuals_sess)\n",
    "\n",
    "distances = benchmark.compute_distances()"
   ]
  },
  {
   "cell_type": "code",
   "execution_count": null,
   "metadata": {},
   "outputs": [],
   "source": [
    "from carla import Benchmark\n",
    "\n",
    "graph = Graph()\n",
    "with graph.as_default():\n",
    "    ann_sess = Session()\n",
    "    with ann_sess.as_default():\n",
    "        ml_model_sess = MLModelCatalog(dataset, \"ann\", \"tensorflow\") # data.catalog.DataCatalog Class\n",
    "\n",
    "        factuals_sess = predict_negative_instances(\n",
    "            ml_model_sess, dataset.df\n",
    "        )\n",
    "        factuals_sess = factuals_sess.iloc[:100].reset_index(drop=True)\n",
    "\n",
    "        cem = recourse_catalog.CEM(ann_sess, ml_model_sess, hyperparams)\n",
    "        benchmark = Benchmark(ml_model, cem, factuals_sess)\n"
   ]
  },
  {
   "cell_type": "code",
   "execution_count": 11,
   "metadata": {},
   "outputs": [
    {
     "data": {
      "text/html": [
       "<div>\n",
       "<style scoped>\n",
       "    .dataframe tbody tr th:only-of-type {\n",
       "        vertical-align: middle;\n",
       "    }\n",
       "\n",
       "    .dataframe tbody tr th {\n",
       "        vertical-align: top;\n",
       "    }\n",
       "\n",
       "    .dataframe thead th {\n",
       "        text-align: right;\n",
       "    }\n",
       "</style>\n",
       "<table border=\"1\" class=\"dataframe\">\n",
       "  <thead>\n",
       "    <tr style=\"text-align: right;\">\n",
       "      <th></th>\n",
       "      <th>age</th>\n",
       "      <th>fnlwgt</th>\n",
       "      <th>education-num</th>\n",
       "      <th>capital-gain</th>\n",
       "      <th>hours-per-week</th>\n",
       "      <th>capital-loss</th>\n",
       "      <th>sex_Male</th>\n",
       "      <th>marital-status_Non-Married</th>\n",
       "      <th>native-country_US</th>\n",
       "      <th>race_White</th>\n",
       "      <th>relationship_Non-Husband</th>\n",
       "      <th>sex_Male</th>\n",
       "      <th>workclass_Private</th>\n",
       "    </tr>\n",
       "  </thead>\n",
       "  <tbody>\n",
       "    <tr>\n",
       "      <th>0</th>\n",
       "      <td>0.30137</td>\n",
       "      <td>0.044131</td>\n",
       "      <td>0.8</td>\n",
       "      <td>0.059</td>\n",
       "      <td>0.397959</td>\n",
       "      <td>0.0</td>\n",
       "      <td>1.0</td>\n",
       "      <td>1.0</td>\n",
       "      <td>1.0</td>\n",
       "      <td>1.0</td>\n",
       "      <td>1.0</td>\n",
       "      <td>1.0</td>\n",
       "      <td>0.0</td>\n",
       "    </tr>\n",
       "  </tbody>\n",
       "</table>\n",
       "</div>"
      ],
      "text/plain": [
       "       age    fnlwgt  education-num  capital-gain  hours-per-week  \\\n",
       "0  0.30137  0.044131            0.8         0.059        0.397959   \n",
       "\n",
       "   capital-loss  sex_Male  marital-status_Non-Married  native-country_US  \\\n",
       "0           0.0       1.0                         1.0                1.0   \n",
       "\n",
       "   race_White  relationship_Non-Husband  sex_Male  workclass_Private  \n",
       "0         1.0                       1.0       1.0                0.0  "
      ]
     },
     "execution_count": 11,
     "metadata": {},
     "output_type": "execute_result"
    }
   ],
   "source": [
    "import pandas as pd\n",
    "pd.set_option('display.max_columns', None)\n",
    "benchmark._counterfactuals.iloc[0:1][dataset.continuous + ['sex_Male', 'marital-status_Non-Married', 'native-country_US', 'race_White', 'relationship_Non-Husband', 'sex_Male', 'workclass_Private']]"
   ]
  },
  {
   "cell_type": "code",
   "execution_count": 12,
   "metadata": {},
   "outputs": [
    {
     "data": {
      "text/html": [
       "<div>\n",
       "<style scoped>\n",
       "    .dataframe tbody tr th:only-of-type {\n",
       "        vertical-align: middle;\n",
       "    }\n",
       "\n",
       "    .dataframe tbody tr th {\n",
       "        vertical-align: top;\n",
       "    }\n",
       "\n",
       "    .dataframe thead th {\n",
       "        text-align: right;\n",
       "    }\n",
       "</style>\n",
       "<table border=\"1\" class=\"dataframe\">\n",
       "  <thead>\n",
       "    <tr style=\"text-align: right;\">\n",
       "      <th></th>\n",
       "      <th>age</th>\n",
       "      <th>fnlwgt</th>\n",
       "      <th>education-num</th>\n",
       "      <th>capital-gain</th>\n",
       "      <th>hours-per-week</th>\n",
       "      <th>capital-loss</th>\n",
       "      <th>sex_Male</th>\n",
       "      <th>marital-status_Non-Married</th>\n",
       "      <th>native-country_US</th>\n",
       "      <th>race_White</th>\n",
       "      <th>relationship_Non-Husband</th>\n",
       "      <th>sex_Male</th>\n",
       "      <th>workclass_Private</th>\n",
       "    </tr>\n",
       "  </thead>\n",
       "  <tbody>\n",
       "    <tr>\n",
       "      <th>0</th>\n",
       "      <td>0.30137</td>\n",
       "      <td>0.044131</td>\n",
       "      <td>0.8</td>\n",
       "      <td>0.02174</td>\n",
       "      <td>0.397959</td>\n",
       "      <td>0.0</td>\n",
       "      <td>1.0</td>\n",
       "      <td>1.0</td>\n",
       "      <td>1.0</td>\n",
       "      <td>1.0</td>\n",
       "      <td>1.0</td>\n",
       "      <td>1.0</td>\n",
       "      <td>0.0</td>\n",
       "    </tr>\n",
       "  </tbody>\n",
       "</table>\n",
       "</div>"
      ],
      "text/plain": [
       "       age    fnlwgt  education-num  capital-gain  hours-per-week  \\\n",
       "0  0.30137  0.044131            0.8       0.02174        0.397959   \n",
       "\n",
       "   capital-loss  sex_Male  marital-status_Non-Married  native-country_US  \\\n",
       "0           0.0       1.0                         1.0                1.0   \n",
       "\n",
       "   race_White  relationship_Non-Husband  sex_Male  workclass_Private  \n",
       "0         1.0                       1.0       1.0                0.0  "
      ]
     },
     "execution_count": 12,
     "metadata": {},
     "output_type": "execute_result"
    }
   ],
   "source": [
    "benchmark._factuals.iloc[0:1][dataset.continuous + ['sex_Male', 'marital-status_Non-Married', 'native-country_US', 'race_White', 'relationship_Non-Husband', 'sex_Male', 'workclass_Private']]"
   ]
  },
  {
   "cell_type": "code",
   "execution_count": 22,
   "metadata": {},
   "outputs": [],
   "source": [
    "import numpy as np\n",
    "\n",
    "arr_f = ml_model.get_ordered_features(benchmark._factuals).to_numpy()\n",
    "arr_cf = ml_model.get_ordered_features(\n",
    "    benchmark._counterfactuals\n",
    ").to_numpy()\n",
    "\n",
    "delta = arr_f - arr_cf\n",
    "\n",
    "d1 = np.sum(delta.round(2) != 0, axis=1, dtype=np.float).tolist()"
   ]
  },
  {
   "cell_type": "code",
   "execution_count": 23,
   "metadata": {},
   "outputs": [
    {
     "data": {
      "text/plain": [
       "[1.0, 1.0, 1.0, 1.0, 1.0, 1.0, 1.0, 1.0, 1.0, 1.0]"
      ]
     },
     "execution_count": 23,
     "metadata": {},
     "output_type": "execute_result"
    }
   ],
   "source": [
    "d1"
   ]
  },
  {
   "cell_type": "code",
   "execution_count": 14,
   "metadata": {},
   "outputs": [
    {
     "data": {
      "text/plain": [
       "0    5.0\n",
       "1    5.0\n",
       "2    5.0\n",
       "3    5.0\n",
       "4    5.0\n",
       "5    5.0\n",
       "6    5.0\n",
       "7    5.0\n",
       "8    5.0\n",
       "9    4.0\n",
       "Name: Distance_1, dtype: float64"
      ]
     },
     "execution_count": 14,
     "metadata": {},
     "output_type": "execute_result"
    }
   ],
   "source": [
    "distances = benchmark.compute_distances()\n",
    "distances.Distance_1"
   ]
  },
  {
   "cell_type": "code",
   "execution_count": 15,
   "metadata": {},
   "outputs": [
    {
     "data": {
      "text/plain": [
       "[5.0, 5.0, 5.0, 5.0, 5.0, 5.0, 5.0, 5.0, 5.0, 4.0]"
      ]
     },
     "execution_count": 15,
     "metadata": {},
     "output_type": "execute_result"
    }
   ],
   "source": [
    "d1"
   ]
  }
 ],
 "metadata": {
  "interpreter": {
   "hash": "ea38de303447ace9d448c28089670fa84711b12cac6767c435896f96584513e1"
  },
  "kernelspec": {
   "display_name": "Python 3.7.13 ('carla_github')",
   "language": "python",
   "name": "python3"
  },
  "language_info": {
   "codemirror_mode": {
    "name": "ipython",
    "version": 3
   },
   "file_extension": ".py",
   "mimetype": "text/x-python",
   "name": "python",
   "nbconvert_exporter": "python",
   "pygments_lexer": "ipython3",
   "version": "3.7.13"
  },
  "orig_nbformat": 4
 },
 "nbformat": 4,
 "nbformat_minor": 2
}
