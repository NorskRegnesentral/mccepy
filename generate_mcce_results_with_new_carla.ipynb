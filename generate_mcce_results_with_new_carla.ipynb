{
 "cells": [
  {
   "cell_type": "code",
   "execution_count": 1,
   "metadata": {},
   "outputs": [
    {
     "name": "stderr",
     "output_type": "stream",
     "text": [
      "/nr/samba/user/anr/anaconda3/envs/carla_github/lib/python3.7/site-packages/tensorflow/python/framework/dtypes.py:516: FutureWarning: Passing (type, 1) or '1type' as a synonym of type is deprecated; in a future version of numpy, it will be understood as (type, (1,)) / '(1,)type'.\n",
      "  _np_qint8 = np.dtype([(\"qint8\", np.int8, 1)])\n",
      "/nr/samba/user/anr/anaconda3/envs/carla_github/lib/python3.7/site-packages/tensorflow/python/framework/dtypes.py:517: FutureWarning: Passing (type, 1) or '1type' as a synonym of type is deprecated; in a future version of numpy, it will be understood as (type, (1,)) / '(1,)type'.\n",
      "  _np_quint8 = np.dtype([(\"quint8\", np.uint8, 1)])\n",
      "/nr/samba/user/anr/anaconda3/envs/carla_github/lib/python3.7/site-packages/tensorflow/python/framework/dtypes.py:518: FutureWarning: Passing (type, 1) or '1type' as a synonym of type is deprecated; in a future version of numpy, it will be understood as (type, (1,)) / '(1,)type'.\n",
      "  _np_qint16 = np.dtype([(\"qint16\", np.int16, 1)])\n",
      "/nr/samba/user/anr/anaconda3/envs/carla_github/lib/python3.7/site-packages/tensorflow/python/framework/dtypes.py:519: FutureWarning: Passing (type, 1) or '1type' as a synonym of type is deprecated; in a future version of numpy, it will be understood as (type, (1,)) / '(1,)type'.\n",
      "  _np_quint16 = np.dtype([(\"quint16\", np.uint16, 1)])\n",
      "/nr/samba/user/anr/anaconda3/envs/carla_github/lib/python3.7/site-packages/tensorflow/python/framework/dtypes.py:520: FutureWarning: Passing (type, 1) or '1type' as a synonym of type is deprecated; in a future version of numpy, it will be understood as (type, (1,)) / '(1,)type'.\n",
      "  _np_qint32 = np.dtype([(\"qint32\", np.int32, 1)])\n",
      "/nr/samba/user/anr/anaconda3/envs/carla_github/lib/python3.7/site-packages/tensorflow/python/framework/dtypes.py:525: FutureWarning: Passing (type, 1) or '1type' as a synonym of type is deprecated; in a future version of numpy, it will be understood as (type, (1,)) / '(1,)type'.\n",
      "  np_resource = np.dtype([(\"resource\", np.ubyte, 1)])\n",
      "/nr/samba/user/anr/anaconda3/envs/carla_github/lib/python3.7/site-packages/tensorboard/compat/tensorflow_stub/dtypes.py:541: FutureWarning: Passing (type, 1) or '1type' as a synonym of type is deprecated; in a future version of numpy, it will be understood as (type, (1,)) / '(1,)type'.\n",
      "  _np_qint8 = np.dtype([(\"qint8\", np.int8, 1)])\n",
      "/nr/samba/user/anr/anaconda3/envs/carla_github/lib/python3.7/site-packages/tensorboard/compat/tensorflow_stub/dtypes.py:542: FutureWarning: Passing (type, 1) or '1type' as a synonym of type is deprecated; in a future version of numpy, it will be understood as (type, (1,)) / '(1,)type'.\n",
      "  _np_quint8 = np.dtype([(\"quint8\", np.uint8, 1)])\n",
      "/nr/samba/user/anr/anaconda3/envs/carla_github/lib/python3.7/site-packages/tensorboard/compat/tensorflow_stub/dtypes.py:543: FutureWarning: Passing (type, 1) or '1type' as a synonym of type is deprecated; in a future version of numpy, it will be understood as (type, (1,)) / '(1,)type'.\n",
      "  _np_qint16 = np.dtype([(\"qint16\", np.int16, 1)])\n",
      "/nr/samba/user/anr/anaconda3/envs/carla_github/lib/python3.7/site-packages/tensorboard/compat/tensorflow_stub/dtypes.py:544: FutureWarning: Passing (type, 1) or '1type' as a synonym of type is deprecated; in a future version of numpy, it will be understood as (type, (1,)) / '(1,)type'.\n",
      "  _np_quint16 = np.dtype([(\"quint16\", np.uint16, 1)])\n",
      "/nr/samba/user/anr/anaconda3/envs/carla_github/lib/python3.7/site-packages/tensorboard/compat/tensorflow_stub/dtypes.py:545: FutureWarning: Passing (type, 1) or '1type' as a synonym of type is deprecated; in a future version of numpy, it will be understood as (type, (1,)) / '(1,)type'.\n",
      "  _np_qint32 = np.dtype([(\"qint32\", np.int32, 1)])\n",
      "/nr/samba/user/anr/anaconda3/envs/carla_github/lib/python3.7/site-packages/tensorboard/compat/tensorflow_stub/dtypes.py:550: FutureWarning: Passing (type, 1) or '1type' as a synonym of type is deprecated; in a future version of numpy, it will be understood as (type, (1,)) / '(1,)type'.\n",
      "  np_resource = np.dtype([(\"resource\", np.ubyte, 1)])\n",
      "/nr/samba/user/anr/anaconda3/envs/carla_github/lib/python3.7/site-packages/tqdm/auto.py:22: TqdmWarning: IProgress not found. Please update jupyter and ipywidgets. See https://ipywidgets.readthedocs.io/en/stable/user_install.html\n",
      "  from .autonotebook import tqdm as notebook_tqdm\n",
      "Using TensorFlow backend.\n"
     ]
    },
    {
     "name": "stdout",
     "output_type": "stream",
     "text": [
      "[INFO] Using Python-MIP package version 1.12.0 [model.py <module>]\n"
     ]
    }
   ],
   "source": [
    "import sys\n",
    "import yaml\n",
    "import argparse\n",
    "import pandas as pd\n",
    "import numpy as np\n",
    "\n",
    "from carla.data.catalog import OnlineCatalog\n",
    "from carla.models.catalog import MLModelCatalog\n",
    "from carla.models.negative_instances import predict_negative_instances\n",
    "import carla.recourse_methods.catalog as recourse_catalog\n",
    "\n",
    "import torch\n",
    "\n",
    "from mcce import MCCE\n",
    "\n",
    "dataset = [\"adult\"]\n",
    "# dataset = ['give_me_some_credit']\n",
    "# dataset = ['compas']\n",
    "K = 10000\n",
    "n_test = 100\n",
    "seed = 1\n",
    "results_all = None"
   ]
  },
  {
   "cell_type": "code",
   "execution_count": null,
   "metadata": {},
   "outputs": [],
   "source": [
    "\n",
    "\n",
    "# Use CARLA to load dataset and predictive model\n",
    "print(\"Loading data from Carla...\")\n",
    "\n",
    "for data_name in dataset:\n",
    "    dataset = OnlineCatalog(data_name)\n",
    "    # y_col = dataset.target\n",
    "    # x_col = dataset.raw.columns.to_list()\n",
    "    # x_col.remove(y_col)\n",
    "    \n",
    "    # (1) Load predictive model and predict probabilities\n",
    "\n",
    "    torch.manual_seed(0)\n",
    "    ml_model = MLModelCatalog(\n",
    "            dataset, \n",
    "            model_type=\"ann\", \n",
    "            load_online=False, \n",
    "            backend=\"pytorch\"\n",
    "        )\n",
    "\n",
    "\n",
    "    if data_name == 'adult':\n",
    "        ml_model.train(\n",
    "        learning_rate=0.002,\n",
    "        epochs=20,\n",
    "        batch_size=1024,\n",
    "        hidden_size=[18, 9, 3],\n",
    "        force_train=True, # don't forget to add this or it might load an older model from disk\n",
    "        )\n",
    "    elif data_name == 'give_me_some_credit':\n",
    "        ml_model.train(\n",
    "        learning_rate=0.002,\n",
    "        epochs=20,\n",
    "        batch_size=2048,\n",
    "        hidden_size=[18, 9, 3],\n",
    "        force_train=True, # don't forget to add this or it might load an older model from disk\n",
    "        )\n",
    "    elif data_name == 'compas':\n",
    "        ml_model.train(\n",
    "        learning_rate=0.002,\n",
    "        epochs=25,\n",
    "        batch_size=25,\n",
    "        hidden_size=[18, 9, 3],\n",
    "        force_train=True, # don't forget to add this or it might load an older model from disk\n",
    "        )\n",
    "\n",
    "    # (2) Find unhappy customers and choose which ones to make counterfactuals for\n",
    "    \n",
    "    factuals = predict_negative_instances(ml_model, dataset.df)\n",
    "    test_factual = factuals.iloc[:n_test]\n",
    "    # test_factual_inverse = dataset.inverse_transform(test_factual)\n",
    "    \n",
    "    y_col = dataset.target\n",
    "    features_and_response = dataset.df.columns\n",
    "    cont_feat = dataset.continuous\n",
    "    cat_feat = [x for x in features_and_response if x not in cont_feat] #  these have new names since encode_normalize_order_factuals()\n",
    "    \n",
    "    if data_name == 'adult': \n",
    "        fixed_features = ['age', 'sex_Male']\n",
    "    elif data_name == 'give_me_some_credit':\n",
    "        fixed_features = ['age']\n",
    "    elif data_name == 'compas':\n",
    "        fixed_features = ['age', 'sex_Male', 'race_Other']\n",
    "    \n",
    "    #  Create dtypes for MCCE()\n",
    "    dtypes = dict([(x, \"float\") for x in cont_feat])\n",
    "    for x in cat_feat:\n",
    "        dtypes[x] = \"category\"\n",
    "    df = (dataset.df).astype(dtypes)\n",
    "\n",
    "    import time\n",
    "    start = time.time()\n",
    "    # (3) Fit MCCE object\n",
    "    print(\"Fitting MCCE model...\")\n",
    "    mcce = MCCE(fixed_features=fixed_features, model=ml_model, seed=1)\n",
    "    mcce.fit(df.drop(y_col, axis=1), dtypes)\n",
    "    print(\"Generating counterfactuals with MCCE...\")\n",
    "    synth_df = mcce.generate(test_factual.drop(y_col, axis=1), k=K)"
   ]
  },
  {
   "cell_type": "code",
   "execution_count": null,
   "metadata": {},
   "outputs": [],
   "source": [
    "# (4) Postprocess generated counterfactuals\n",
    "print(\"Postprocessing counterfactuals with MCCE...\")\n",
    "mcce.postprocess(df, synth_df, test_factual, y_col, scaler=dataset.inverse_transform, cutoff=0.5)\n",
    "\n",
    "timing = time.time() - start\n",
    "print(timing)\n",
    "\n",
    "mcce.results_sparse['time (seconds)'] = timing\n",
    "# 20 minutes for give_me_some_credit"
   ]
  },
  {
   "cell_type": "code",
   "execution_count": 2,
   "metadata": {},
   "outputs": [
    {
     "ename": "NameError",
     "evalue": "name 'mcce' is not defined",
     "output_type": "error",
     "traceback": [
      "\u001b[0;31m---------------------------------------------------------------------------\u001b[0m",
      "\u001b[0;31mNameError\u001b[0m                                 Traceback (most recent call last)",
      "\u001b[0;32m/tmp/ipykernel_4377/413777450.py\u001b[0m in \u001b[0;36m<module>\u001b[0;34m\u001b[0m\n\u001b[0;32m----> 1\u001b[0;31m \u001b[0mmcce\u001b[0m\u001b[0;34m.\u001b[0m\u001b[0mresults_sparse\u001b[0m\u001b[0;34m.\u001b[0m\u001b[0mto_csv\u001b[0m\u001b[0;34m(\u001b[0m\u001b[0;34mf\"/nr/samba/user/anr/pkg/MCCE_Python/{data_name}_mcce_results_k_{K}.csv\"\u001b[0m\u001b[0;34m)\u001b[0m\u001b[0;34m\u001b[0m\u001b[0;34m\u001b[0m\u001b[0m\n\u001b[0m",
      "\u001b[0;31mNameError\u001b[0m: name 'mcce' is not defined"
     ]
    }
   ],
   "source": [
    "mcce.results_sparse.to_csv(f\"/nr/samba/user/anr/pkg/MCCE_Python/{data_name}_mcce_results_k_{K}.csv\", index=False)"
   ]
  },
  {
   "cell_type": "code",
   "execution_count": 16,
   "metadata": {},
   "outputs": [
    {
     "data": {
      "text/plain": [
       "age                        39\n",
       "workclass         Non-Private\n",
       "fnlwgt                 112731\n",
       "education-num              13\n",
       "marital-status    Non-Married\n",
       "relationship      Non-Husband\n",
       "capital-gain             7430\n",
       "capital-loss                0\n",
       "hours-per-week             40\n",
       "native-country             US\n",
       "Name: 0, dtype: object"
      ]
     },
     "execution_count": 16,
     "metadata": {},
     "output_type": "execute_result"
    }
   ],
   "source": [
    "dataset = OnlineCatalog(\"adult\")\n",
    "\n",
    "results = pd.read_csv(f\"/nr/samba/user/anr/pkg/MCCE_Python/adult_mcce_results_k_{K}.csv\")\n",
    "\n",
    "dataset.inverse_transform(results.iloc[0:1])[['age', 'workclass', 'fnlwgt', 'education-num', 'marital-status', 'relationship', 'capital-gain', 'capital-loss', 'hours-per-week', 'native-country']].iloc[0]"
   ]
  },
  {
   "cell_type": "code",
   "execution_count": 47,
   "metadata": {},
   "outputs": [
    {
     "data": {
      "text/plain": [
       "age                                       40.000000\n",
       "RevolvingUtilizationOfUnsecuredLines       0.941073\n",
       "NumberOfTime30-59DaysPastDueNotWorse       3.000000\n",
       "DebtRatio                                  0.924615\n",
       "MonthlyIncome                           5305.000000\n",
       "NumberOfOpenCreditLinesAndLoans           10.000000\n",
       "NumberOfTimes90DaysLate                    0.000000\n",
       "NumberRealEstateLoansOrLines               1.000000\n",
       "NumberOfTime60-89DaysPastDueNotWorse       1.000000\n",
       "NumberOfDependents                         2.000000\n",
       "Name: 9, dtype: float64"
      ]
     },
     "execution_count": 47,
     "metadata": {},
     "output_type": "execute_result"
    }
   ],
   "source": [
    "pd.set_option('display.max_columns', None)\n",
    "dataset = OnlineCatalog(\"give_me_some_credit\")\n",
    "\n",
    "results = pd.read_csv(f\"/nr/samba/user/anr/pkg/MCCE_Python/give_me_some_credit_mcce_results_k_{K}.csv\")\n",
    "\n",
    "results.rename(columns={'Unnamed: 0': 'index'}, inplace=True)\n",
    "results.set_index(['index'], inplace=True)\n",
    "temp = results.sort_values([results.index.name]).iloc[0:1]\n",
    "dataset.inverse_transform(temp)[['age', 'RevolvingUtilizationOfUnsecuredLines', 'NumberOfTime30-59DaysPastDueNotWorse','DebtRatio', 'MonthlyIncome', 'NumberOfOpenCreditLinesAndLoans', 'NumberOfTimes90DaysLate', 'NumberRealEstateLoansOrLines', 'NumberOfTime60-89DaysPastDueNotWorse', 'NumberOfDependents']].iloc[0]"
   ]
  },
  {
   "cell_type": "markdown",
   "metadata": {},
   "source": []
  },
  {
   "cell_type": "code",
   "execution_count": null,
   "metadata": {},
   "outputs": [],
   "source": [
    "# print(mcce.results_sparse.)\n",
    "print(mcce.results_sparse.L0.mean())\n",
    "print(mcce.results_sparse.L1.mean())\n",
    "print(mcce.results_sparse.L2.mean())"
   ]
  },
  {
   "cell_type": "code",
   "execution_count": null,
   "metadata": {},
   "outputs": [],
   "source": [
    "results_sparse = mcce.results_sparse\n",
    "results_sparse.index.rename('index', inplace=True)\n",
    "results_sparse.groupby('index').size().sort_values(ascending=False)"
   ]
  }
 ],
 "metadata": {
  "interpreter": {
   "hash": "ea38de303447ace9d448c28089670fa84711b12cac6767c435896f96584513e1"
  },
  "kernelspec": {
   "display_name": "Python 3.7.13 ('carla_github')",
   "language": "python",
   "name": "python3"
  },
  "language_info": {
   "codemirror_mode": {
    "name": "ipython",
    "version": 3
   },
   "file_extension": ".py",
   "mimetype": "text/x-python",
   "name": "python",
   "nbconvert_exporter": "python",
   "pygments_lexer": "ipython3",
   "version": "3.7.13"
  },
  "orig_nbformat": 4
 },
 "nbformat": 4,
 "nbformat_minor": 2
}
