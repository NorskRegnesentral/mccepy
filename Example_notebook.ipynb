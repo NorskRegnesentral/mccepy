{
 "cells": [
  {
   "cell_type": "code",
   "execution_count": 1,
   "metadata": {},
   "outputs": [],
   "source": [
    "import warnings\n",
    "warnings.filterwarnings('ignore')\n",
    "\n",
    "from data import Data\n",
    "import pandas as pd\n",
    "\n",
    "feature_order = ['age', 'workclass', 'fnlwgt', 'education-num', 'marital-status', 'occupation', 'relationship', 'race', 'sex', 'capital-gain', 'capital-loss', 'hours-per-week', 'country', 'income']\n",
    "         \n",
    "dtypes = {\"age\": \"float\", \"workclass\": \"category\", \"fnlwgt\": \"float\", \"education-num\": \"float\",\\\n",
    "    \"marital-status\": \"category\", \"occupation\": \"category\", \"relationship\": \"category\", \"race\": \"category\",\\\n",
    "        \"sex\": \"category\", \"capital-gain\": \"float\", \"capital-loss\": \"float\", \\\n",
    "            \"hours-per-week\": \"float\", \"country\": \"category\", \"income\": \"category\"}\n",
    "\n",
    "response = 'income'\n",
    "\n",
    "fixed_features = ['age', 'sex']\n",
    "\n",
    "path = '/nr/samba/user/anr/pkg/MCCE/Datasets/Adult/train_not_normalized_data_from_carla.csv'\n",
    "dataset = Data(path, feature_order, dtypes, response, fixed_features, \"OneHot_drop_first\", \"MinMax\")"
   ]
  },
  {
   "cell_type": "code",
   "execution_count": 15,
   "metadata": {},
   "outputs": [],
   "source": [
    "from sklearn.ensemble import RandomForestClassifier\n",
    "\n",
    "class RandomForestModel():\n",
    "    \"\"\"The default way of implementing RandomForest from sklearn\n",
    "    https://scikit-learn.org/stable/modules/generated/sklearn.ensemble.RandomForestClassifier.html\"\"\"\n",
    "\n",
    "    def __init__(self, data):\n",
    "        # super().__init__(data)\n",
    "\n",
    "        # get preprocessed data\n",
    "        df_train = data.df\n",
    "        \n",
    "        x_train = df_train[data.continuous + data.categorical_encoded]\n",
    "        y_train = df_train[data.target]\n",
    "\n",
    "        self._feature_input_order = data.continuous + data.categorical_encoded\n",
    "\n",
    "        param = {\n",
    "            \"max_depth\": None,  # determines how deep the tree can go\n",
    "            \"n_estimators\": 5,\n",
    "            \"min_samples_split\": 3 # number of features to consider at each split\n",
    "        }\n",
    "        self._mymodel = RandomForestClassifier(**param)\n",
    "        self._mymodel.fit(\n",
    "                x_train,\n",
    "                y_train,\n",
    "            )\n",
    "\n",
    "    @property\n",
    "    def feature_input_order(self):\n",
    "        return self._feature_input_order\n",
    "\n",
    "    @property\n",
    "    def backend(self):\n",
    "        return \"TensorFlow\"\n",
    "\n",
    "    @property\n",
    "    def raw_model(self):\n",
    "        return self._mymodel\n",
    "\n",
    "    @property\n",
    "    def tree_iterator(self):\n",
    "        # make a copy of the trees, else feature names are not saved\n",
    "        booster_it = [booster for booster in self.raw_model.get_booster()]\n",
    "        # set the feature names\n",
    "        for booster in booster_it:\n",
    "            booster.feature_names = self.feature_input_order\n",
    "        return booster_it\n",
    "\n",
    "    def predict(self, x):\n",
    "        return self._mymodel.predict(self.get_ordered_features(x))\n",
    "\n",
    "    def predict_proba(self, x):\n",
    "        return self._mymodel.predict_proba(self.get_ordered_features(x))\n",
    "    \n",
    "    def get_ordered_features(self, x):\n",
    "        return x[self.feature_input_order]\n",
    "        "
   ]
  },
  {
   "cell_type": "code",
   "execution_count": 16,
   "metadata": {},
   "outputs": [],
   "source": [
    "ml_model = RandomForestModel(dataset)"
   ]
  },
  {
   "cell_type": "code",
   "execution_count": 17,
   "metadata": {},
   "outputs": [
    {
     "ename": "AttributeError",
     "evalue": "'RandomForestModel' object has no attribute 'get_ordered_features'",
     "output_type": "error",
     "traceback": [
      "\u001b[0;31m---------------------------------------------------------------------------\u001b[0m",
      "\u001b[0;31mAttributeError\u001b[0m                            Traceback (most recent call last)",
      "\u001b[0;32m/tmp/ipykernel_31556/3262792441.py\u001b[0m in \u001b[0;36m<module>\u001b[0;34m\u001b[0m\n\u001b[1;32m      1\u001b[0m \u001b[0;32mimport\u001b[0m \u001b[0mnumpy\u001b[0m \u001b[0;32mas\u001b[0m \u001b[0mnp\u001b[0m\u001b[0;34m\u001b[0m\u001b[0;34m\u001b[0m\u001b[0m\n\u001b[0;32m----> 2\u001b[0;31m \u001b[0mpreds\u001b[0m \u001b[0;34m=\u001b[0m \u001b[0mml_model\u001b[0m\u001b[0;34m.\u001b[0m\u001b[0mpredict_proba\u001b[0m\u001b[0;34m(\u001b[0m\u001b[0mdataset\u001b[0m\u001b[0;34m.\u001b[0m\u001b[0mdf\u001b[0m\u001b[0;34m)\u001b[0m\u001b[0;34m[\u001b[0m\u001b[0;34m:\u001b[0m\u001b[0;34m,\u001b[0m\u001b[0;36m1\u001b[0m\u001b[0;34m]\u001b[0m\u001b[0;34m\u001b[0m\u001b[0;34m\u001b[0m\u001b[0m\n\u001b[0m\u001b[1;32m      3\u001b[0m \u001b[0mfactual_id\u001b[0m \u001b[0;34m=\u001b[0m \u001b[0mnp\u001b[0m\u001b[0;34m.\u001b[0m\u001b[0mwhere\u001b[0m\u001b[0;34m(\u001b[0m\u001b[0mpreds\u001b[0m \u001b[0;34m<\u001b[0m \u001b[0;36m0.5\u001b[0m\u001b[0;34m)\u001b[0m\u001b[0;34m\u001b[0m\u001b[0;34m\u001b[0m\u001b[0m\n\u001b[1;32m      4\u001b[0m \u001b[0mfactuals\u001b[0m \u001b[0;34m=\u001b[0m \u001b[0mdataset\u001b[0m\u001b[0;34m.\u001b[0m\u001b[0mdf\u001b[0m\u001b[0;34m.\u001b[0m\u001b[0mloc\u001b[0m\u001b[0;34m[\u001b[0m\u001b[0mfactual_id\u001b[0m\u001b[0;34m]\u001b[0m\u001b[0;34m\u001b[0m\u001b[0;34m\u001b[0m\u001b[0m\n\u001b[1;32m      5\u001b[0m \u001b[0mtest_factual\u001b[0m \u001b[0;34m=\u001b[0m \u001b[0mfactuals\u001b[0m\u001b[0;34m.\u001b[0m\u001b[0miloc\u001b[0m\u001b[0;34m[\u001b[0m\u001b[0;34m:\u001b[0m\u001b[0;36m5\u001b[0m\u001b[0;34m]\u001b[0m\u001b[0;34m\u001b[0m\u001b[0;34m\u001b[0m\u001b[0m\n",
      "\u001b[0;32m/tmp/ipykernel_31556/1984665050.py\u001b[0m in \u001b[0;36mpredict_proba\u001b[0;34m(self, x)\u001b[0m\n\u001b[1;32m     52\u001b[0m \u001b[0;34m\u001b[0m\u001b[0m\n\u001b[1;32m     53\u001b[0m     \u001b[0;32mdef\u001b[0m \u001b[0mpredict_proba\u001b[0m\u001b[0;34m(\u001b[0m\u001b[0mself\u001b[0m\u001b[0;34m,\u001b[0m \u001b[0mx\u001b[0m\u001b[0;34m)\u001b[0m\u001b[0;34m:\u001b[0m\u001b[0;34m\u001b[0m\u001b[0;34m\u001b[0m\u001b[0m\n\u001b[0;32m---> 54\u001b[0;31m         \u001b[0;32mreturn\u001b[0m \u001b[0mself\u001b[0m\u001b[0;34m.\u001b[0m\u001b[0m_mymodel\u001b[0m\u001b[0;34m.\u001b[0m\u001b[0mpredict_proba\u001b[0m\u001b[0;34m(\u001b[0m\u001b[0mself\u001b[0m\u001b[0;34m.\u001b[0m\u001b[0mget_ordered_features\u001b[0m\u001b[0;34m(\u001b[0m\u001b[0mx\u001b[0m\u001b[0;34m)\u001b[0m\u001b[0;34m)\u001b[0m\u001b[0;34m\u001b[0m\u001b[0;34m\u001b[0m\u001b[0m\n\u001b[0m",
      "\u001b[0;31mAttributeError\u001b[0m: 'RandomForestModel' object has no attribute 'get_ordered_features'"
     ]
    }
   ],
   "source": [
    "import numpy as np\n",
    "preds = ml_model.predict_proba(dataset.df)[:,1]\n",
    "factual_id = np.where(preds < 0.5)\n",
    "factuals = dataset.df.loc[factual_id]\n",
    "test_factual = factuals.iloc[:5]"
   ]
  },
  {
   "cell_type": "code",
   "execution_count": null,
   "metadata": {},
   "outputs": [],
   "source": [
    "y_col = dataset.target\n",
    "cont_feat = dataset.continuous\n",
    "\n",
    "cat_feat = dataset.categorical\n",
    "cat_feat_encoded = dataset.categorical_encoded\n",
    "\n",
    "#  Create dtypes for MCCE()\n",
    "dtypes = dict([(x, \"float\") for x in cont_feat])\n",
    "for x in cat_feat_encoded:\n",
    "    dtypes[x] = \"category\"\n",
    "df = (dataset.df).astype(dtypes)"
   ]
  },
  {
   "cell_type": "code",
   "execution_count": null,
   "metadata": {},
   "outputs": [],
   "source": [
    "from mcce import MCCE\n",
    "\n",
    "mcce = MCCE(fixed_features=dataset.fixed_features,\\\n",
    "    fixed_features_encoded=dataset.fixed_features_encoded,\n",
    "        continuous=dataset.continuous, categorical=dataset.categorical,\\\n",
    "            model=ml_model, seed=1)\n",
    "\n",
    "mcce.fit(df.drop(dataset.target, axis=1), dtypes)\n",
    "\n",
    "synth_df = mcce.generate(test_factual.drop(dataset.target, axis=1), k=100)\n",
    "\n",
    "mcce.postprocess(data=df, synth=synth_df, test=test_factual, response=y_col, \\\n",
    "    inverse_transform=dataset.inverse_transform, cutoff=0.5)"
   ]
  },
  {
   "cell_type": "code",
   "execution_count": null,
   "metadata": {},
   "outputs": [],
   "source": [
    "results = mcce.results_sparse#[[dataset.feature_order]]\n",
    "dataset.inverse_transform(results)"
   ]
  },
  {
   "cell_type": "code",
   "execution_count": null,
   "metadata": {},
   "outputs": [],
   "source": [
    "# mcce.postprocess(data=df, synth=synth_df, test=test_factual, response=dataset.response, \\\n",
    "#     inverse_transform=min_max_scaler, cutoff=0.5)\n",
    "\n",
    "data=df\n",
    "synth=synth_df\n",
    "test=test_factual\n",
    "response=dataset.target\n",
    "inverse_transform=dataset.inverse_transform\n",
    "cutoff=0.5\n",
    "\n",
    "mcce.cutoff = cutoff\n",
    "\n",
    "# Predict response of generated data\n",
    "synth[response] = mcce.model.predict(synth)\n",
    "synth_positive = synth[synth[response]>=cutoff] # drop negative responses\n",
    "\n",
    "# Duplicate original test observations N times where N is number of positive counterfactuals\n",
    "n_counterfactuals = synth_positive.groupby(synth_positive.index).size()\n",
    "n_counterfactuals = pd.DataFrame(n_counterfactuals, columns = ['N'])\n",
    "\n",
    "test_repeated = test.copy()\n",
    "\n",
    "test_repeated = test_repeated.join(n_counterfactuals)\n",
    "test_repeated.dropna(inplace = True)\n",
    "\n",
    "test_repeated = test_repeated.reindex(test_repeated.index.repeat(test_repeated.N))\n",
    "test_repeated.drop(['N'], axis=1, inplace=True)\n",
    "\n",
    "mcce.test_repeated = test_repeated\n"
   ]
  },
  {
   "cell_type": "code",
   "execution_count": null,
   "metadata": {},
   "outputs": [],
   "source": [
    "results = mcce.calculate_metrics(synth=synth_positive, test=test_repeated, data=data, \\\n",
    "            model=mcce.model, response=response, inverse_transform=inverse_transform) "
   ]
  }
 ],
 "metadata": {
  "interpreter": {
   "hash": "ea38de303447ace9d448c28089670fa84711b12cac6767c435896f96584513e1"
  },
  "kernelspec": {
   "display_name": "Python 3.7.13 ('carla_github')",
   "language": "python",
   "name": "python3"
  },
  "language_info": {
   "codemirror_mode": {
    "name": "ipython",
    "version": 3
   },
   "file_extension": ".py",
   "mimetype": "text/x-python",
   "name": "python",
   "nbconvert_exporter": "python",
   "pygments_lexer": "ipython3",
   "version": "3.7.13"
  },
  "orig_nbformat": 4
 },
 "nbformat": 4,
 "nbformat_minor": 2
}
