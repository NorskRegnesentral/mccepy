{
 "cells": [
  {
   "cell_type": "code",
   "execution_count": 1,
   "metadata": {},
   "outputs": [
    {
     "name": "stderr",
     "output_type": "stream",
     "text": [
      "/nr/samba/user/anr/anaconda3/envs/carla_github/lib/python3.7/site-packages/tensorflow/python/framework/dtypes.py:516: FutureWarning: Passing (type, 1) or '1type' as a synonym of type is deprecated; in a future version of numpy, it will be understood as (type, (1,)) / '(1,)type'.\n",
      "  _np_qint8 = np.dtype([(\"qint8\", np.int8, 1)])\n",
      "/nr/samba/user/anr/anaconda3/envs/carla_github/lib/python3.7/site-packages/tensorflow/python/framework/dtypes.py:517: FutureWarning: Passing (type, 1) or '1type' as a synonym of type is deprecated; in a future version of numpy, it will be understood as (type, (1,)) / '(1,)type'.\n",
      "  _np_quint8 = np.dtype([(\"quint8\", np.uint8, 1)])\n",
      "/nr/samba/user/anr/anaconda3/envs/carla_github/lib/python3.7/site-packages/tensorflow/python/framework/dtypes.py:518: FutureWarning: Passing (type, 1) or '1type' as a synonym of type is deprecated; in a future version of numpy, it will be understood as (type, (1,)) / '(1,)type'.\n",
      "  _np_qint16 = np.dtype([(\"qint16\", np.int16, 1)])\n",
      "/nr/samba/user/anr/anaconda3/envs/carla_github/lib/python3.7/site-packages/tensorflow/python/framework/dtypes.py:519: FutureWarning: Passing (type, 1) or '1type' as a synonym of type is deprecated; in a future version of numpy, it will be understood as (type, (1,)) / '(1,)type'.\n",
      "  _np_quint16 = np.dtype([(\"quint16\", np.uint16, 1)])\n",
      "/nr/samba/user/anr/anaconda3/envs/carla_github/lib/python3.7/site-packages/tensorflow/python/framework/dtypes.py:520: FutureWarning: Passing (type, 1) or '1type' as a synonym of type is deprecated; in a future version of numpy, it will be understood as (type, (1,)) / '(1,)type'.\n",
      "  _np_qint32 = np.dtype([(\"qint32\", np.int32, 1)])\n",
      "/nr/samba/user/anr/anaconda3/envs/carla_github/lib/python3.7/site-packages/tensorflow/python/framework/dtypes.py:525: FutureWarning: Passing (type, 1) or '1type' as a synonym of type is deprecated; in a future version of numpy, it will be understood as (type, (1,)) / '(1,)type'.\n",
      "  np_resource = np.dtype([(\"resource\", np.ubyte, 1)])\n",
      "/nr/samba/user/anr/anaconda3/envs/carla_github/lib/python3.7/site-packages/tensorboard/compat/tensorflow_stub/dtypes.py:541: FutureWarning: Passing (type, 1) or '1type' as a synonym of type is deprecated; in a future version of numpy, it will be understood as (type, (1,)) / '(1,)type'.\n",
      "  _np_qint8 = np.dtype([(\"qint8\", np.int8, 1)])\n",
      "/nr/samba/user/anr/anaconda3/envs/carla_github/lib/python3.7/site-packages/tensorboard/compat/tensorflow_stub/dtypes.py:542: FutureWarning: Passing (type, 1) or '1type' as a synonym of type is deprecated; in a future version of numpy, it will be understood as (type, (1,)) / '(1,)type'.\n",
      "  _np_quint8 = np.dtype([(\"quint8\", np.uint8, 1)])\n",
      "/nr/samba/user/anr/anaconda3/envs/carla_github/lib/python3.7/site-packages/tensorboard/compat/tensorflow_stub/dtypes.py:543: FutureWarning: Passing (type, 1) or '1type' as a synonym of type is deprecated; in a future version of numpy, it will be understood as (type, (1,)) / '(1,)type'.\n",
      "  _np_qint16 = np.dtype([(\"qint16\", np.int16, 1)])\n",
      "/nr/samba/user/anr/anaconda3/envs/carla_github/lib/python3.7/site-packages/tensorboard/compat/tensorflow_stub/dtypes.py:544: FutureWarning: Passing (type, 1) or '1type' as a synonym of type is deprecated; in a future version of numpy, it will be understood as (type, (1,)) / '(1,)type'.\n",
      "  _np_quint16 = np.dtype([(\"quint16\", np.uint16, 1)])\n",
      "/nr/samba/user/anr/anaconda3/envs/carla_github/lib/python3.7/site-packages/tensorboard/compat/tensorflow_stub/dtypes.py:545: FutureWarning: Passing (type, 1) or '1type' as a synonym of type is deprecated; in a future version of numpy, it will be understood as (type, (1,)) / '(1,)type'.\n",
      "  _np_qint32 = np.dtype([(\"qint32\", np.int32, 1)])\n",
      "/nr/samba/user/anr/anaconda3/envs/carla_github/lib/python3.7/site-packages/tensorboard/compat/tensorflow_stub/dtypes.py:550: FutureWarning: Passing (type, 1) or '1type' as a synonym of type is deprecated; in a future version of numpy, it will be understood as (type, (1,)) / '(1,)type'.\n",
      "  np_resource = np.dtype([(\"resource\", np.ubyte, 1)])\n",
      "/nr/samba/user/anr/anaconda3/envs/carla_github/lib/python3.7/site-packages/tqdm/auto.py:22: TqdmWarning: IProgress not found. Please update jupyter and ipywidgets. See https://ipywidgets.readthedocs.io/en/stable/user_install.html\n",
      "  from .autonotebook import tqdm as notebook_tqdm\n",
      "Using TensorFlow backend.\n"
     ]
    },
    {
     "name": "stdout",
     "output_type": "stream",
     "text": [
      "[INFO] Using Python-MIP package version 1.12.0 [model.py <module>]\n"
     ]
    }
   ],
   "source": [
    "import pandas as pd\n",
    "\n",
    "from carla.data.catalog import OnlineCatalog\n",
    "from carla.models.catalog import MLModelCatalog\n",
    "from carla.models.negative_instances import predict_negative_instances\n",
    "\n",
    "import torch\n",
    "\n",
    "from mcce import MCCE\n",
    "\n",
    "data_name = \"adult\"\n",
    "# data_name = 'give_me_some_credit'\n",
    "data_name = 'compas'\n",
    "K = 1000\n",
    "n_test = 100\n",
    "seed = 1\n",
    "\n",
    "dataset = OnlineCatalog(data_name)"
   ]
  },
  {
   "cell_type": "code",
   "execution_count": 2,
   "metadata": {},
   "outputs": [
    {
     "name": "stdout",
     "output_type": "stream",
     "text": [
      "balance on test set 0.8131345863037374, balance on test set 0.8191834089436163\n",
      "Epoch 0/24\n",
      "----------\n"
     ]
    },
    {
     "name": "stderr",
     "output_type": "stream",
     "text": [
      "/nr/samba/user/anr/anaconda3/envs/carla_github/lib/python3.7/site-packages/carla/models/catalog/ANN_TORCH/model_ann.py:56: UserWarning: Implicit dimension choice for softmax has been deprecated. Change the call to include dim=X as an argument.\n",
      "  x = self.softmax(x)\n"
     ]
    },
    {
     "name": "stdout",
     "output_type": "stream",
     "text": [
      "train Loss: 0.5018 Acc: 0.7280\n",
      "\n",
      "test Loss: 0.4022 Acc: 0.8192\n",
      "\n",
      "Epoch 1/24\n",
      "----------\n",
      "train Loss: 0.4002 Acc: 0.8283\n",
      "\n",
      "test Loss: 0.3704 Acc: 0.8471\n",
      "\n",
      "Epoch 2/24\n",
      "----------\n",
      "train Loss: 0.3796 Acc: 0.8356\n",
      "\n",
      "test Loss: 0.3557 Acc: 0.8419\n",
      "\n",
      "Epoch 3/24\n",
      "----------\n",
      "train Loss: 0.3665 Acc: 0.8423\n",
      "\n",
      "test Loss: 0.3405 Acc: 0.8477\n",
      "\n",
      "Epoch 4/24\n",
      "----------\n",
      "train Loss: 0.3620 Acc: 0.8438\n",
      "\n",
      "test Loss: 0.3483 Acc: 0.8464\n",
      "\n",
      "Epoch 5/24\n",
      "----------\n",
      "train Loss: 0.3589 Acc: 0.8445\n",
      "\n",
      "test Loss: 0.3409 Acc: 0.8542\n",
      "\n",
      "Epoch 6/24\n",
      "----------\n",
      "train Loss: 0.3592 Acc: 0.8434\n",
      "\n",
      "test Loss: 0.3361 Acc: 0.8555\n",
      "\n",
      "Epoch 7/24\n",
      "----------\n",
      "train Loss: 0.3579 Acc: 0.8451\n",
      "\n",
      "test Loss: 0.3358 Acc: 0.8529\n",
      "\n",
      "Epoch 8/24\n",
      "----------\n",
      "train Loss: 0.3564 Acc: 0.8445\n",
      "\n",
      "test Loss: 0.3367 Acc: 0.8548\n",
      "\n",
      "Epoch 9/24\n",
      "----------\n",
      "train Loss: 0.3559 Acc: 0.8440\n",
      "\n",
      "test Loss: 0.3383 Acc: 0.8516\n",
      "\n",
      "Epoch 10/24\n",
      "----------\n",
      "train Loss: 0.3564 Acc: 0.8471\n",
      "\n",
      "test Loss: 0.3534 Acc: 0.8542\n",
      "\n",
      "Epoch 11/24\n",
      "----------\n",
      "train Loss: 0.3556 Acc: 0.8447\n",
      "\n",
      "test Loss: 0.3376 Acc: 0.8535\n",
      "\n",
      "Epoch 12/24\n",
      "----------\n",
      "train Loss: 0.3557 Acc: 0.8460\n",
      "\n",
      "test Loss: 0.3478 Acc: 0.8483\n",
      "\n",
      "Epoch 13/24\n",
      "----------\n",
      "train Loss: 0.3560 Acc: 0.8451\n",
      "\n",
      "test Loss: 0.3391 Acc: 0.8620\n",
      "\n",
      "Epoch 14/24\n",
      "----------\n",
      "train Loss: 0.3553 Acc: 0.8449\n",
      "\n",
      "test Loss: 0.3326 Acc: 0.8529\n",
      "\n",
      "Epoch 15/24\n",
      "----------\n",
      "train Loss: 0.3546 Acc: 0.8447\n",
      "\n",
      "test Loss: 0.3349 Acc: 0.8542\n",
      "\n",
      "Epoch 16/24\n",
      "----------\n",
      "train Loss: 0.3543 Acc: 0.8460\n",
      "\n",
      "test Loss: 0.3347 Acc: 0.8633\n",
      "\n",
      "Epoch 17/24\n",
      "----------\n",
      "train Loss: 0.3543 Acc: 0.8440\n",
      "\n",
      "test Loss: 0.3499 Acc: 0.8600\n",
      "\n",
      "Epoch 18/24\n",
      "----------\n",
      "train Loss: 0.3543 Acc: 0.8421\n",
      "\n",
      "test Loss: 0.3377 Acc: 0.8600\n",
      "\n",
      "Epoch 19/24\n",
      "----------\n",
      "train Loss: 0.3533 Acc: 0.8442\n",
      "\n",
      "test Loss: 0.3341 Acc: 0.8600\n",
      "\n",
      "Epoch 20/24\n",
      "----------\n",
      "train Loss: 0.3541 Acc: 0.8458\n",
      "\n",
      "test Loss: 0.3323 Acc: 0.8626\n",
      "\n",
      "Epoch 21/24\n",
      "----------\n",
      "train Loss: 0.3533 Acc: 0.8462\n",
      "\n",
      "test Loss: 0.3345 Acc: 0.8581\n",
      "\n",
      "Epoch 22/24\n",
      "----------\n",
      "train Loss: 0.3546 Acc: 0.8421\n",
      "\n",
      "test Loss: 0.3316 Acc: 0.8561\n",
      "\n",
      "Epoch 23/24\n",
      "----------\n",
      "train Loss: 0.3539 Acc: 0.8434\n",
      "\n",
      "test Loss: 0.3373 Acc: 0.8633\n",
      "\n",
      "Epoch 24/24\n",
      "----------\n",
      "train Loss: 0.3537 Acc: 0.8432\n",
      "\n",
      "test Loss: 0.3385 Acc: 0.8620\n",
      "\n"
     ]
    }
   ],
   "source": [
    "torch.manual_seed(0)\n",
    "ml_model = MLModelCatalog(\n",
    "        dataset, \n",
    "        model_type=\"ann\", \n",
    "        load_online=False, \n",
    "        backend=\"pytorch\"\n",
    "    )\n",
    "\n",
    "if data_name == 'adult':\n",
    "    ml_model.train(\n",
    "    learning_rate=0.002,\n",
    "    epochs=20,\n",
    "    batch_size=1024,\n",
    "    hidden_size=[18, 9, 3],\n",
    "    force_train=True, # don't forget to add this or it might load an older model from disk\n",
    "    )\n",
    "elif data_name == 'give_me_some_credit':\n",
    "    ml_model.train(\n",
    "    learning_rate=0.002,\n",
    "    epochs=20,\n",
    "    batch_size=2048,\n",
    "    hidden_size=[18, 9, 3],\n",
    "    force_train=True, # don't forget to add this or it might load an older model from disk\n",
    "    )\n",
    "elif data_name == 'compas':\n",
    "    ml_model.train(\n",
    "    learning_rate=0.002,\n",
    "    epochs=25,\n",
    "    batch_size=25,\n",
    "    hidden_size=[18, 9, 3],\n",
    "    force_train=True, # don't forget to add this or it might load an older model from disk\n",
    "    )\n",
    "\n",
    "factuals = predict_negative_instances(ml_model, dataset.df)\n",
    "test_factual = factuals.iloc[:n_test]"
   ]
  },
  {
   "cell_type": "code",
   "execution_count": 3,
   "metadata": {},
   "outputs": [
    {
     "data": {
      "text/plain": [
       "0.8791315618924174"
      ]
     },
     "execution_count": 3,
     "metadata": {},
     "output_type": "execute_result"
    }
   ],
   "source": [
    "1 - factuals.shape[0] / dataset.df.shape[0]"
   ]
  },
  {
   "cell_type": "code",
   "execution_count": 4,
   "metadata": {},
   "outputs": [],
   "source": [
    "y_col = dataset.target\n",
    "cont_feat = dataset.continuous\n",
    "\n",
    "cat_feat = dataset.categorical\n",
    "cat_feat_encoded = dataset.encoder.get_feature_names(dataset.categorical)\n",
    "\n",
    "if data_name == 'adult': \n",
    "    fixed_features = ['age', 'sex_Male']\n",
    "elif data_name == 'give_me_some_credit':\n",
    "    fixed_features = ['age']\n",
    "elif data_name == 'compas':\n",
    "    fixed_features = ['age', 'sex_Male', 'race_Other']\n",
    "\n",
    "#  Create dtypes for MCCE()\n",
    "dtypes = dict([(x, \"float\") for x in cont_feat])\n",
    "for x in cat_feat_encoded:\n",
    "    dtypes[x] = \"category\"\n",
    "df = (dataset.df).astype(dtypes)"
   ]
  },
  {
   "cell_type": "code",
   "execution_count": 6,
   "metadata": {},
   "outputs": [
    {
     "name": "stdout",
     "output_type": "stream",
     "text": [
      "0.236433744430542\n",
      "0.26670312881469727\n"
     ]
    },
    {
     "name": "stderr",
     "output_type": "stream",
     "text": [
      "/nr/samba/user/anr/anaconda3/envs/carla_github/lib/python3.7/site-packages/carla/models/catalog/ANN_TORCH/model_ann.py:56: UserWarning: Implicit dimension choice for softmax has been deprecated. Change the call to include dim=X as an argument.\n",
      "  x = self.softmax(x)\n"
     ]
    },
    {
     "name": "stdout",
     "output_type": "stream",
     "text": [
      "74.08056855201721\n"
     ]
    }
   ],
   "source": [
    "results = []\n",
    "\n",
    "import time\n",
    "start = time.time()\n",
    "time1 = time.time()\n",
    "# fixed_features = names in dataset\n",
    "# categorical = original feature names\n",
    "\n",
    "mcce = MCCE(fixed_features=fixed_features, continuous=dataset.continuous, categorical=dataset.categorical,\\\n",
    "            model=ml_model, seed=1, catalog=dataset.catalog)\n",
    "\n",
    "mcce.fit(df.drop(y_col, axis=1), dtypes)\n",
    "\n",
    "time2 = time.time()\n",
    "print(time2 - time1) # 0.24\n",
    "\n",
    "synth_df = mcce.generate(test_factual.drop(y_col, axis=1), k=K)\n",
    "\n",
    "time3 = time.time()\n",
    "print(time3 - time2) # 2.41\n",
    "\n",
    "mcce.postprocess(data=df, synth=synth_df, test=test_factual, response=y_col, \\\n",
    "    inverse_transform=dataset.inverse_transform, cutoff=0.5)\n",
    "\n",
    "time4 = time.time()\n",
    "print(time4 - time3) # \n",
    "\n",
    "timing = time.time() - start\n",
    "\n",
    "mcce.results_sparse['time (seconds)'] = timing\n",
    "\n",
    "results.append([mcce.results_sparse.L0.mean(), mcce.results_sparse.L2.mean(), mcce.results_sparse.feasibility.mean(),\\\n",
    "     mcce.results_sparse.violation.mean(), mcce.results_sparse.shape[0], timing])"
   ]
  },
  {
   "cell_type": "code",
   "execution_count": 7,
   "metadata": {},
   "outputs": [],
   "source": [
    "# mcce.results_sparse.to_csv(f\"Results/{data_name}_mcce_results_k_{K}_n_{n_test}.csv\")"
   ]
  },
  {
   "cell_type": "code",
   "execution_count": 8,
   "metadata": {},
   "outputs": [],
   "source": [
    "# data=df\n",
    "# synth=synth_df\n",
    "# test=test_factual\n",
    "# response=y_col\n",
    "# inverse_transform=dataset.inverse_transform\n",
    "# cutoff=0.5\n",
    "\n",
    "# # Predict response of generated data\n",
    "# synth[response] = mcce.model.predict(synth)\n",
    "# synth_positive = synth[synth[response]>=cutoff] # drop negative responses\n",
    "\n",
    "# # Duplicate original test observations N times where N is number of positive counterfactuals\n",
    "# n_counterfactuals = synth_positive.groupby(synth_positive.index).size()\n",
    "# n_counterfactuals = pd.DataFrame(n_counterfactuals, columns = ['N'])\n",
    "\n",
    "# test_repeated = test.copy()\n",
    "\n",
    "# test_repeated = test_repeated.join(n_counterfactuals)\n",
    "# test_repeated.dropna(inplace = True)\n",
    "\n",
    "# test_repeated = test_repeated.reindex(test_repeated.index.repeat(test_repeated.N))\n",
    "# test_repeated.drop(['N'], axis=1, inplace=True)\n",
    "\n",
    "# mcce.test_repeated = test_repeated"
   ]
  },
  {
   "cell_type": "code",
   "execution_count": 9,
   "metadata": {},
   "outputs": [],
   "source": [
    "# synth=synth_positive\n",
    "# test=mcce.test_repeated\n",
    "# data=data\n",
    "# model=mcce.model\n",
    "# response=response\n",
    "# inverse_transform=inverse_transform"
   ]
  },
  {
   "cell_type": "code",
   "execution_count": 10,
   "metadata": {},
   "outputs": [],
   "source": [
    "# import metrics\n",
    "\n",
    "# features = synth.columns.to_list()\n",
    "# features.remove(response)\n",
    "# synth.sort_index(inplace=True)\n",
    "\n",
    "# if inverse_transform:  # necessary for violation rate\n",
    "#     df_decoded_cfs = inverse_transform(synth.copy())\n",
    "#     df_decoded_factuals = inverse_transform(test.copy())\n",
    "\n",
    "# else:\n",
    "#     df_decoded_cfs = synth.copy()\n",
    "#     df_decoded_factuals = test.copy()\n",
    "\n",
    "\n",
    "# synth_metrics = synth.copy()\n",
    "\n",
    "# # 1) Distance: Sparsity and Euclidean distance\n",
    "# factual = test[features]#.sort_index().to_numpy()\n",
    "# counterfactuals = synth[features]#.sort_index().to_numpy()\n",
    "\n",
    "# time1 = time.time()\n",
    "# distances = pd.DataFrame(metrics.distance(counterfactuals, factual, mcce.model), index=factual.index)\n",
    "\n",
    "# time2 = time.time()\n",
    "# mcce.distance_cpu_time = time2 - time1\n",
    "# synth_metrics = pd.concat([synth_metrics, distances], axis=1)"
   ]
  },
  {
   "cell_type": "code",
   "execution_count": 11,
   "metadata": {},
   "outputs": [],
   "source": [
    "# counterfactuals.shape"
   ]
  },
  {
   "cell_type": "code",
   "execution_count": 12,
   "metadata": {},
   "outputs": [],
   "source": [
    "# cols = data.columns.to_list()\n",
    "# cols.remove(response)\n",
    "\n",
    "# time1 = time.time()\n",
    "# synth_metrics['feasibility'] = metrics.feasibility(counterfactuals, factual, cols, response)\n",
    "\n",
    "# time2 = time.time()\n",
    "# mcce.feasibility_cpu_time = time2 - time1\n",
    "\n",
    "# # 3) Success\n",
    "# synth_metrics['success'] = 1"
   ]
  },
  {
   "cell_type": "code",
   "execution_count": 13,
   "metadata": {},
   "outputs": [],
   "source": [
    "# time1 = time.time()\n",
    "# violations = metrics.constraint_violation(df_decoded_cfs, df_decoded_factuals, \\\n",
    "#     mcce.continuous, mcce.categorical, mcce.catalog['immutable'])\n",
    "\n",
    "# synth_metrics['violation'] = violations\n",
    "# time2 = time.time()\n",
    "# mcce.violation_cpu_time = time2 - time1\n"
   ]
  },
  {
   "cell_type": "code",
   "execution_count": null,
   "metadata": {},
   "outputs": [],
   "source": [
    "\n"
   ]
  },
  {
   "cell_type": "code",
   "execution_count": null,
   "metadata": {},
   "outputs": [],
   "source": []
  },
  {
   "cell_type": "code",
   "execution_count": 14,
   "metadata": {},
   "outputs": [],
   "source": [
    "# results2 = pd.DataFrame(results, columns=['L0', 'L2', 'feasibility', 'violation', 'NCE', 'timing'])"
   ]
  }
 ],
 "metadata": {
  "interpreter": {
   "hash": "ea38de303447ace9d448c28089670fa84711b12cac6767c435896f96584513e1"
  },
  "kernelspec": {
   "display_name": "Python 3.7.13 ('carla_github')",
   "language": "python",
   "name": "python3"
  },
  "language_info": {
   "codemirror_mode": {
    "name": "ipython",
    "version": 3
   },
   "file_extension": ".py",
   "mimetype": "text/x-python",
   "name": "python",
   "nbconvert_exporter": "python",
   "pygments_lexer": "ipython3",
   "version": "3.7.13"
  },
  "orig_nbformat": 4
 },
 "nbformat": 4,
 "nbformat_minor": 2
}
