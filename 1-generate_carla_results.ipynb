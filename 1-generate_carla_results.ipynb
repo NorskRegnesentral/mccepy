{
 "cells": [
  {
   "cell_type": "markdown",
   "metadata": {},
   "source": [
    "## Results for Tables 1, 2, 3 for CARLA methods"
   ]
  },
  {
   "cell_type": "code",
   "execution_count": 1,
   "metadata": {},
   "outputs": [
    {
     "name": "stderr",
     "output_type": "stream",
     "text": [
      "/nr/samba/user/anr/anaconda3/envs/carla_github/lib/python3.7/site-packages/tensorflow/python/framework/dtypes.py:516: FutureWarning: Passing (type, 1) or '1type' as a synonym of type is deprecated; in a future version of numpy, it will be understood as (type, (1,)) / '(1,)type'.\n",
      "  _np_qint8 = np.dtype([(\"qint8\", np.int8, 1)])\n",
      "/nr/samba/user/anr/anaconda3/envs/carla_github/lib/python3.7/site-packages/tensorflow/python/framework/dtypes.py:517: FutureWarning: Passing (type, 1) or '1type' as a synonym of type is deprecated; in a future version of numpy, it will be understood as (type, (1,)) / '(1,)type'.\n",
      "  _np_quint8 = np.dtype([(\"quint8\", np.uint8, 1)])\n",
      "/nr/samba/user/anr/anaconda3/envs/carla_github/lib/python3.7/site-packages/tensorflow/python/framework/dtypes.py:518: FutureWarning: Passing (type, 1) or '1type' as a synonym of type is deprecated; in a future version of numpy, it will be understood as (type, (1,)) / '(1,)type'.\n",
      "  _np_qint16 = np.dtype([(\"qint16\", np.int16, 1)])\n",
      "/nr/samba/user/anr/anaconda3/envs/carla_github/lib/python3.7/site-packages/tensorflow/python/framework/dtypes.py:519: FutureWarning: Passing (type, 1) or '1type' as a synonym of type is deprecated; in a future version of numpy, it will be understood as (type, (1,)) / '(1,)type'.\n",
      "  _np_quint16 = np.dtype([(\"quint16\", np.uint16, 1)])\n",
      "/nr/samba/user/anr/anaconda3/envs/carla_github/lib/python3.7/site-packages/tensorflow/python/framework/dtypes.py:520: FutureWarning: Passing (type, 1) or '1type' as a synonym of type is deprecated; in a future version of numpy, it will be understood as (type, (1,)) / '(1,)type'.\n",
      "  _np_qint32 = np.dtype([(\"qint32\", np.int32, 1)])\n",
      "/nr/samba/user/anr/anaconda3/envs/carla_github/lib/python3.7/site-packages/tensorflow/python/framework/dtypes.py:525: FutureWarning: Passing (type, 1) or '1type' as a synonym of type is deprecated; in a future version of numpy, it will be understood as (type, (1,)) / '(1,)type'.\n",
      "  np_resource = np.dtype([(\"resource\", np.ubyte, 1)])\n",
      "/nr/samba/user/anr/anaconda3/envs/carla_github/lib/python3.7/site-packages/tensorboard/compat/tensorflow_stub/dtypes.py:541: FutureWarning: Passing (type, 1) or '1type' as a synonym of type is deprecated; in a future version of numpy, it will be understood as (type, (1,)) / '(1,)type'.\n",
      "  _np_qint8 = np.dtype([(\"qint8\", np.int8, 1)])\n",
      "/nr/samba/user/anr/anaconda3/envs/carla_github/lib/python3.7/site-packages/tensorboard/compat/tensorflow_stub/dtypes.py:542: FutureWarning: Passing (type, 1) or '1type' as a synonym of type is deprecated; in a future version of numpy, it will be understood as (type, (1,)) / '(1,)type'.\n",
      "  _np_quint8 = np.dtype([(\"quint8\", np.uint8, 1)])\n",
      "/nr/samba/user/anr/anaconda3/envs/carla_github/lib/python3.7/site-packages/tensorboard/compat/tensorflow_stub/dtypes.py:543: FutureWarning: Passing (type, 1) or '1type' as a synonym of type is deprecated; in a future version of numpy, it will be understood as (type, (1,)) / '(1,)type'.\n",
      "  _np_qint16 = np.dtype([(\"qint16\", np.int16, 1)])\n",
      "/nr/samba/user/anr/anaconda3/envs/carla_github/lib/python3.7/site-packages/tensorboard/compat/tensorflow_stub/dtypes.py:544: FutureWarning: Passing (type, 1) or '1type' as a synonym of type is deprecated; in a future version of numpy, it will be understood as (type, (1,)) / '(1,)type'.\n",
      "  _np_quint16 = np.dtype([(\"quint16\", np.uint16, 1)])\n",
      "/nr/samba/user/anr/anaconda3/envs/carla_github/lib/python3.7/site-packages/tensorboard/compat/tensorflow_stub/dtypes.py:545: FutureWarning: Passing (type, 1) or '1type' as a synonym of type is deprecated; in a future version of numpy, it will be understood as (type, (1,)) / '(1,)type'.\n",
      "  _np_qint32 = np.dtype([(\"qint32\", np.int32, 1)])\n",
      "/nr/samba/user/anr/anaconda3/envs/carla_github/lib/python3.7/site-packages/tensorboard/compat/tensorflow_stub/dtypes.py:550: FutureWarning: Passing (type, 1) or '1type' as a synonym of type is deprecated; in a future version of numpy, it will be understood as (type, (1,)) / '(1,)type'.\n",
      "  np_resource = np.dtype([(\"resource\", np.ubyte, 1)])\n",
      "/nr/samba/user/anr/anaconda3/envs/carla_github/lib/python3.7/site-packages/tqdm/auto.py:22: TqdmWarning: IProgress not found. Please update jupyter and ipywidgets. See https://ipywidgets.readthedocs.io/en/stable/user_install.html\n",
      "  from .autonotebook import tqdm as notebook_tqdm\n",
      "Using TensorFlow backend.\n"
     ]
    },
    {
     "name": "stdout",
     "output_type": "stream",
     "text": [
      "[INFO] Using Python-MIP package version 1.12.0 [model.py <module>]\n"
     ]
    }
   ],
   "source": [
    "from carla.data.catalog import OnlineCatalog\n",
    "import pandas as pd\n",
    "import numpy as np\n",
    "\n",
    "# load catalog dataset\n",
    "data_name = \"adult\"\n",
    "# data_name = \"give_me_some_credit\"\n",
    "# data_name = 'compas'\n",
    "dataset = OnlineCatalog(data_name)\n"
   ]
  },
  {
   "cell_type": "code",
   "execution_count": 2,
   "metadata": {},
   "outputs": [
    {
     "name": "stdout",
     "output_type": "stream",
     "text": [
      "balance on test set 0.23883245958934032, balance on test set 0.2408256880733945\n",
      "Epoch 0/19\n",
      "----------\n"
     ]
    },
    {
     "name": "stderr",
     "output_type": "stream",
     "text": [
      "/nr/samba/user/anr/anaconda3/envs/carla_github/lib/python3.7/site-packages/carla/models/catalog/ANN_TORCH/model_ann.py:56: UserWarning: Implicit dimension choice for softmax has been deprecated. Change the call to include dim=X as an argument.\n",
      "  x = self.softmax(x)\n"
     ]
    },
    {
     "name": "stdout",
     "output_type": "stream",
     "text": [
      "train Loss: 0.4668 Acc: 0.7734\n",
      "\n",
      "test Loss: 0.4055 Acc: 0.8005\n",
      "\n",
      "Epoch 1/19\n",
      "----------\n",
      "train Loss: 0.3946 Acc: 0.8121\n",
      "\n",
      "test Loss: 0.3910 Acc: 0.8189\n",
      "\n",
      "Epoch 2/19\n",
      "----------\n",
      "train Loss: 0.3784 Acc: 0.8222\n",
      "\n",
      "test Loss: 0.3747 Acc: 0.8226\n",
      "\n",
      "Epoch 3/19\n",
      "----------\n",
      "train Loss: 0.3655 Acc: 0.8290\n",
      "\n",
      "test Loss: 0.3600 Acc: 0.8324\n",
      "\n",
      "Epoch 4/19\n",
      "----------\n",
      "train Loss: 0.3535 Acc: 0.8343\n",
      "\n",
      "test Loss: 0.3505 Acc: 0.8373\n",
      "\n",
      "Epoch 5/19\n",
      "----------\n",
      "train Loss: 0.3460 Acc: 0.8372\n",
      "\n",
      "test Loss: 0.3472 Acc: 0.8389\n",
      "\n",
      "Epoch 6/19\n",
      "----------\n",
      "train Loss: 0.3431 Acc: 0.8387\n",
      "\n",
      "test Loss: 0.3450 Acc: 0.8402\n",
      "\n",
      "Epoch 7/19\n",
      "----------\n",
      "train Loss: 0.3405 Acc: 0.8402\n",
      "\n",
      "test Loss: 0.3435 Acc: 0.8384\n",
      "\n",
      "Epoch 8/19\n",
      "----------\n",
      "train Loss: 0.3404 Acc: 0.8389\n",
      "\n",
      "test Loss: 0.3376 Acc: 0.8396\n",
      "\n",
      "Epoch 9/19\n",
      "----------\n",
      "train Loss: 0.3348 Acc: 0.8421\n",
      "\n",
      "test Loss: 0.3421 Acc: 0.8400\n",
      "\n",
      "Epoch 10/19\n",
      "----------\n",
      "train Loss: 0.3348 Acc: 0.8411\n",
      "\n",
      "test Loss: 0.3362 Acc: 0.8426\n",
      "\n",
      "Epoch 11/19\n",
      "----------\n",
      "train Loss: 0.3345 Acc: 0.8401\n",
      "\n",
      "test Loss: 0.3339 Acc: 0.8435\n",
      "\n",
      "Epoch 12/19\n",
      "----------\n",
      "train Loss: 0.3313 Acc: 0.8430\n",
      "\n",
      "test Loss: 0.3334 Acc: 0.8426\n",
      "\n",
      "Epoch 13/19\n",
      "----------\n",
      "train Loss: 0.3296 Acc: 0.8442\n",
      "\n",
      "test Loss: 0.3353 Acc: 0.8435\n",
      "\n",
      "Epoch 14/19\n",
      "----------\n",
      "train Loss: 0.3324 Acc: 0.8436\n",
      "\n",
      "test Loss: 0.3366 Acc: 0.8395\n",
      "\n",
      "Epoch 15/19\n",
      "----------\n",
      "train Loss: 0.3311 Acc: 0.8431\n",
      "\n",
      "test Loss: 0.3449 Acc: 0.8354\n",
      "\n",
      "Epoch 16/19\n",
      "----------\n",
      "train Loss: 0.3299 Acc: 0.8426\n",
      "\n",
      "test Loss: 0.3344 Acc: 0.8393\n",
      "\n",
      "Epoch 17/19\n",
      "----------\n",
      "train Loss: 0.3296 Acc: 0.8435\n",
      "\n",
      "test Loss: 0.3302 Acc: 0.8430\n",
      "\n",
      "Epoch 18/19\n",
      "----------\n",
      "train Loss: 0.3274 Acc: 0.8442\n",
      "\n",
      "test Loss: 0.3300 Acc: 0.8471\n",
      "\n",
      "Epoch 19/19\n",
      "----------\n",
      "train Loss: 0.3295 Acc: 0.8434\n",
      "\n",
      "test Loss: 0.3283 Acc: 0.8449\n",
      "\n"
     ]
    }
   ],
   "source": [
    "from carla.models.catalog import MLModelCatalog\n",
    "import torch\n",
    "torch.manual_seed(0)\n",
    "\n",
    "ml_model = MLModelCatalog(\n",
    "        dataset, \n",
    "        model_type=\"ann\", \n",
    "        load_online=False, \n",
    "        backend=\"pytorch\"\n",
    "    )\n",
    "if data_name == 'adult':\n",
    "    ml_model.train(\n",
    "    learning_rate=0.002,\n",
    "    epochs=20,\n",
    "    batch_size=1024,\n",
    "    hidden_size=[18, 9, 3],\n",
    "    force_train=True, # don't forget to add this or it might load an older model from disk\n",
    "    )\n",
    "elif data_name == 'give_me_some_credit':\n",
    "    ml_model.train(\n",
    "    learning_rate=0.002,\n",
    "    epochs=20,\n",
    "    batch_size=2048,\n",
    "    hidden_size=[18, 9, 3],\n",
    "    force_train=True, # don't forget to add this or it might load an older model from disk\n",
    "    )\n",
    "elif data_name == 'compas':\n",
    "    ml_model.train(\n",
    "    learning_rate=0.002,\n",
    "    epochs=25,\n",
    "    batch_size=25,\n",
    "    hidden_size=[18, 9, 3],\n",
    "    force_train=True, # don't forget to add this or it might load an older model from disk\n",
    "    )\n"
   ]
  },
  {
   "cell_type": "code",
   "execution_count": 3,
   "metadata": {},
   "outputs": [
    {
     "data": {
      "text/plain": [
       "0.8999147090860513"
      ]
     },
     "execution_count": 3,
     "metadata": {},
     "output_type": "execute_result"
    }
   ],
   "source": [
    "from sklearn import metrics\n",
    "\n",
    "if data_name == 'adult':\n",
    "    y = dataset.df_test['income']\n",
    "elif data_name == 'give_me_some_credit':\n",
    "    y = dataset.df_test['SeriousDlqin2yrs']\n",
    "elif data_name == 'compas':\n",
    "    y = dataset.df_test['score']\n",
    "\n",
    "pred = ml_model.predict_proba(dataset.df_test)\n",
    "pred = [row[1] for row in pred]\n",
    "fpr, tpr, thresholds = metrics.roc_curve(y, pred, pos_label=1)\n",
    "metrics.auc(fpr, tpr)"
   ]
  },
  {
   "cell_type": "code",
   "execution_count": 4,
   "metadata": {},
   "outputs": [],
   "source": [
    "from carla.models.negative_instances import predict_negative_instances\n",
    "import carla.recourse_methods.catalog as recourse_catalog\n",
    "\n",
    "factuals = predict_negative_instances(ml_model, dataset.df)\n",
    "test_factual = factuals.iloc[:100]"
   ]
  },
  {
   "cell_type": "code",
   "execution_count": 5,
   "metadata": {},
   "outputs": [
    {
     "name": "stdout",
     "output_type": "stream",
     "text": [
      "Factuals: 39476\n",
      "Factuals: 0.8084043250327654\n"
     ]
    }
   ],
   "source": [
    "print((f\"Factuals: {factuals.shape[0]}\"))\n",
    "print((f\"Factuals: {(factuals.shape[0]) / dataset.df.shape[0]}\"))"
   ]
  },
  {
   "cell_type": "markdown",
   "metadata": {},
   "source": [
    "## Compute performance metrics"
   ]
  },
  {
   "cell_type": "code",
   "execution_count": 5,
   "metadata": {},
   "outputs": [
    {
     "name": "stderr",
     "output_type": "stream",
     "text": [
      "/nr/samba/user/anr/anaconda3/envs/carla_github/lib/python3.7/site-packages/carla/models/catalog/ANN_TORCH/model_ann.py:56: UserWarning: Implicit dimension choice for softmax has been deprecated. Change the call to include dim=X as an argument.\n",
      "  x = self.softmax(x)\n",
      "/nr/samba/user/anr/anaconda3/envs/carla_github/lib/python3.7/site-packages/carla/models/catalog/ANN_TORCH/model_ann.py:56: UserWarning: Implicit dimension choice for softmax has been deprecated. Change the call to include dim=X as an argument.\n",
      "  x = self.softmax(x)\n",
      "/nr/samba/user/anr/anaconda3/envs/carla_github/lib/python3.7/site-packages/carla/models/catalog/ANN_TORCH/model_ann.py:56: UserWarning: Implicit dimension choice for softmax has been deprecated. Change the call to include dim=X as an argument.\n",
      "  x = self.softmax(x)\n",
      "/nr/samba/user/anr/anaconda3/envs/carla_github/lib/python3.7/site-packages/carla/models/catalog/ANN_TORCH/model_ann.py:56: UserWarning: Implicit dimension choice for softmax has been deprecated. Change the call to include dim=X as an argument.\n",
      "  x = self.softmax(x)\n",
      "/nr/samba/user/anr/anaconda3/envs/carla_github/lib/python3.7/site-packages/carla/models/catalog/ANN_TORCH/model_ann.py:56: UserWarning: Implicit dimension choice for softmax has been deprecated. Change the call to include dim=X as an argument.\n",
      "  x = self.softmax(x)\n",
      "/nr/samba/user/anr/anaconda3/envs/carla_github/lib/python3.7/site-packages/carla/models/catalog/ANN_TORCH/model_ann.py:56: UserWarning: Implicit dimension choice for softmax has been deprecated. Change the call to include dim=X as an argument.\n",
      "  x = self.softmax(x)\n",
      "/nr/samba/user/anr/anaconda3/envs/carla_github/lib/python3.7/site-packages/carla/models/catalog/ANN_TORCH/model_ann.py:56: UserWarning: Implicit dimension choice for softmax has been deprecated. Change the call to include dim=X as an argument.\n",
      "  x = self.softmax(x)\n"
     ]
    }
   ],
   "source": [
    "from metrics import distance, constraint_violation, feasibility, success_rate\n",
    "\n",
    "final_results = pd.DataFrame()\n",
    "for method in ['cchvae', 'cem-vae', 'revise', 'clue', 'crud', 'face']:\n",
    "    if data_name == 'adult':\n",
    "        cfs = pd.read_csv(\"Results/adult_manifold_results.csv\", index_col=0)\n",
    "    elif data_name == 'give_me_some_credit':\n",
    "        cfs = pd.read_csv(\"Results/give_me_some_credit_manifold_results.csv\", index_col=0)\n",
    "    elif data_name == 'compas':\n",
    "        cfs = pd.read_csv(\"Results/compas_manifold_results.csv\", index_col=0)\n",
    "    factuals = predict_negative_instances(ml_model, dataset.df)\n",
    "    test_factual = factuals.iloc[:100]\n",
    "\n",
    "    df_cfs = cfs[cfs['method'] == method].drop(['method',\t'data'], axis=1)\n",
    "\n",
    "    # missing values\n",
    "    nan_idx = df_cfs.index[df_cfs.isnull().any(axis=1)]\n",
    "    non_nan_idx = df_cfs.index[~(df_cfs.isnull()).any(axis=1)]\n",
    "\n",
    "    output_factuals = test_factual.copy()\n",
    "    output_counterfactuals = df_cfs.copy()\n",
    "\n",
    "    factual_without_nans = output_factuals.drop(index=nan_idx)\n",
    "    counterfactuals_without_nans = output_counterfactuals.drop(index=nan_idx)\n",
    "\n",
    "    \n",
    "    # counterfactuals\n",
    "    results = pd.concat([dataset.inverse_transform(counterfactuals_without_nans)])\n",
    "    results['method'] = method\n",
    "    results['data'] = data_name\n",
    "\n",
    "    # distances\n",
    "    distances = pd.DataFrame(distance(counterfactuals_without_nans, factual_without_nans, ml_model))\n",
    "    distances.set_index(non_nan_idx, inplace=True)\n",
    "    results = pd.concat([results, distances], axis=1)\n",
    "\n",
    "    results['feasibility'] = feasibility(counterfactuals_without_nans, factual_without_nans, \\\n",
    "        dataset.df.columns, dataset.target)\n",
    "        \n",
    "    # violations\n",
    "    violations = []\n",
    "\n",
    "    df_decoded_cfs = dataset.inverse_transform(counterfactuals_without_nans)\n",
    "    df_factuals = dataset.inverse_transform(factual_without_nans)\n",
    "    \n",
    "    total_violations = constraint_violation(df_decoded_cfs, df_factuals, \\\n",
    "        dataset.continuous, dataset.categorical, dataset.immutables)\n",
    "    for x in total_violations:\n",
    "        violations.append(x[0])\n",
    "    results['violation'] = violations\n",
    "    \n",
    "    # success\n",
    "    results['success'] = success_rate(counterfactuals_without_nans, ml_model, cutoff=0.5)\n",
    "\n",
    "    # time\n",
    "    results['time (seconds)'] = df_cfs['time (seconds)'].mean() \n",
    "    \n",
    "    results['prediction'] = ml_model.predict_proba(counterfactuals_without_nans)[:, [1]]\n",
    "\n",
    "    final_results = pd.concat([final_results, results], axis=0)"
   ]
  },
  {
   "cell_type": "code",
   "execution_count": 6,
   "metadata": {},
   "outputs": [
    {
     "data": {
      "text/html": [
       "<div>\n",
       "<style scoped>\n",
       "    .dataframe tbody tr th:only-of-type {\n",
       "        vertical-align: middle;\n",
       "    }\n",
       "\n",
       "    .dataframe tbody tr th {\n",
       "        vertical-align: top;\n",
       "    }\n",
       "\n",
       "    .dataframe thead th {\n",
       "        text-align: right;\n",
       "    }\n",
       "</style>\n",
       "<table border=\"1\" class=\"dataframe\">\n",
       "  <thead>\n",
       "    <tr style=\"text-align: right;\">\n",
       "      <th></th>\n",
       "      <th>L0</th>\n",
       "      <th>L1</th>\n",
       "      <th>L2</th>\n",
       "      <th>feasibility</th>\n",
       "      <th>violation</th>\n",
       "      <th>success</th>\n",
       "      <th>time (seconds)</th>\n",
       "    </tr>\n",
       "    <tr>\n",
       "      <th>method</th>\n",
       "      <th></th>\n",
       "      <th></th>\n",
       "      <th></th>\n",
       "      <th></th>\n",
       "      <th></th>\n",
       "      <th></th>\n",
       "      <th></th>\n",
       "    </tr>\n",
       "  </thead>\n",
       "  <tbody>\n",
       "    <tr>\n",
       "      <th>cchvae</th>\n",
       "      <td>9.390000</td>\n",
       "      <td>3.251791</td>\n",
       "      <td>2.665717</td>\n",
       "      <td>0.929134</td>\n",
       "      <td>1.290000</td>\n",
       "      <td>1.00</td>\n",
       "      <td>85.685519</td>\n",
       "    </tr>\n",
       "    <tr>\n",
       "      <th>cem-vae</th>\n",
       "      <td>6.520000</td>\n",
       "      <td>2.582742</td>\n",
       "      <td>2.191779</td>\n",
       "      <td>0.984036</td>\n",
       "      <td>1.040000</td>\n",
       "      <td>0.52</td>\n",
       "      <td>81.218853</td>\n",
       "    </tr>\n",
       "    <tr>\n",
       "      <th>clue</th>\n",
       "      <td>13.000000</td>\n",
       "      <td>3.539297</td>\n",
       "      <td>1.555389</td>\n",
       "      <td>1.131642</td>\n",
       "      <td>1.290000</td>\n",
       "      <td>1.00</td>\n",
       "      <td>354.790007</td>\n",
       "    </tr>\n",
       "    <tr>\n",
       "      <th>crud</th>\n",
       "      <td>9.390000</td>\n",
       "      <td>3.628566</td>\n",
       "      <td>2.928893</td>\n",
       "      <td>1.064555</td>\n",
       "      <td>1.290000</td>\n",
       "      <td>1.00</td>\n",
       "      <td>1145.259907</td>\n",
       "    </tr>\n",
       "    <tr>\n",
       "      <th>face</th>\n",
       "      <td>6.960000</td>\n",
       "      <td>3.231820</td>\n",
       "      <td>2.718594</td>\n",
       "      <td>1.025250</td>\n",
       "      <td>1.360000</td>\n",
       "      <td>1.00</td>\n",
       "      <td>955.889991</td>\n",
       "    </tr>\n",
       "    <tr>\n",
       "      <th>revise</th>\n",
       "      <td>8.631579</td>\n",
       "      <td>3.506800</td>\n",
       "      <td>2.819670</td>\n",
       "      <td>1.476456</td>\n",
       "      <td>1.394737</td>\n",
       "      <td>1.00</td>\n",
       "      <td>907.056455</td>\n",
       "    </tr>\n",
       "  </tbody>\n",
       "</table>\n",
       "</div>"
      ],
      "text/plain": [
       "                L0        L1        L2  feasibility  violation  success  \\\n",
       "method                                                                    \n",
       "cchvae    9.390000  3.251791  2.665717     0.929134   1.290000     1.00   \n",
       "cem-vae   6.520000  2.582742  2.191779     0.984036   1.040000     0.52   \n",
       "clue     13.000000  3.539297  1.555389     1.131642   1.290000     1.00   \n",
       "crud      9.390000  3.628566  2.928893     1.064555   1.290000     1.00   \n",
       "face      6.960000  3.231820  2.718594     1.025250   1.360000     1.00   \n",
       "revise    8.631579  3.506800  2.819670     1.476456   1.394737     1.00   \n",
       "\n",
       "         time (seconds)  \n",
       "method                   \n",
       "cchvae        85.685519  \n",
       "cem-vae       81.218853  \n",
       "clue         354.790007  \n",
       "crud        1145.259907  \n",
       "face         955.889991  \n",
       "revise       907.056455  "
      ]
     },
     "execution_count": 6,
     "metadata": {},
     "output_type": "execute_result"
    }
   ],
   "source": [
    "final_results[['method', 'L0', 'L1', 'L2', 'feasibility', 'violation', 'success', 'time (seconds)']].groupby(['method']).mean()"
   ]
  },
  {
   "cell_type": "markdown",
   "metadata": {},
   "source": [
    "## Here we combine CARLA and MCCE results to make Tables 1, 2, 3"
   ]
  },
  {
   "cell_type": "code",
   "execution_count": 19,
   "metadata": {},
   "outputs": [
    {
     "data": {
      "text/plain": [
       "Index(['age', 'fnlwgt', 'education-num', 'capital-gain', 'capital-loss',\n",
       "       'hours-per-week', 'income', 'L0', 'L1', 'L2', 'feasibility', 'success',\n",
       "       'violation', 'time (seconds)', 'data', 'method', 'prediction',\n",
       "       'marital-status', 'native-country', 'occupation', 'race',\n",
       "       'relationship', 'sex', 'workclass'],\n",
       "      dtype='object')"
      ]
     },
     "execution_count": 19,
     "metadata": {},
     "output_type": "execute_result"
    }
   ],
   "source": [
    "import pandas as pd\n",
    "K = 100\n",
    "n_test = 100\n",
    "results = pd.read_csv(f\"Results/{data_name}_mcce_results_k_{K}_n_{n_test}_inverse_transform.csv\", index_col=0)\n",
    "results['data'] = data_name\n",
    "results['method'] = 'mcce'\n",
    "\n",
    "results.columns\n"
   ]
  },
  {
   "cell_type": "markdown",
   "metadata": {},
   "source": [
    "## Load original factuals"
   ]
  },
  {
   "cell_type": "code",
   "execution_count": 21,
   "metadata": {},
   "outputs": [
    {
     "name": "stderr",
     "output_type": "stream",
     "text": [
      "/nr/samba/user/anr/anaconda3/envs/carla_github/lib/python3.7/site-packages/carla/models/catalog/ANN_TORCH/model_ann.py:56: UserWarning: Implicit dimension choice for softmax has been deprecated. Change the call to include dim=X as an argument.\n",
      "  x = self.softmax(x)\n"
     ]
    }
   ],
   "source": [
    "temp = pd.concat([final_results, results[final_results.columns]])\n",
    "\n",
    "temp2 = factuals.copy()\n",
    "preds = ml_model.predict_proba(temp2)\n",
    "new_preds = []\n",
    "for x in preds:\n",
    "    new_preds.append(x[1])\n",
    "temp2['prediction'] = new_preds\n",
    "temp2 = dataset.inverse_transform(temp2)\n",
    "temp2.head(1)\n",
    "temp2['L0'] = np.nan\n",
    "temp2['L1'] = np.nan\n",
    "temp2['L2'] = np.nan\n",
    "temp2['success'] = np.nan\n",
    "temp2['violation'] = np.nan\n",
    "temp2['feasibility'] = np.nan\n",
    "temp2['time (seconds)'] = np.nan\n",
    "temp2['method'] = 'original'\n",
    "temp2['data'] = data_name\n",
    "\n",
    "temp = pd.concat([temp, temp2.iloc[0:100][temp.columns]], axis=0)"
   ]
  },
  {
   "cell_type": "code",
   "execution_count": null,
   "metadata": {},
   "outputs": [],
   "source": [
    "if data_name == 'give_me_some_credit':\n",
    "    cols = ['method', 'data', 'prediction', 'L0', 'L1', 'L2', 'feasibility', 'violation', 'success', 'time (seconds)'] + temp.columns[9:-1].to_list()\n",
    "    temp = temp[cols]\n",
    "elif data_name == 'adult':\n",
    "    cols = ['method', 'data', 'prediction', 'L0', 'L1', 'L2', 'feasibility', 'violation', 'success', 'time (seconds)'] + temp.columns[9:16].to_list() + temp.columns[17:].to_list()\n",
    "    temp = temp[cols]\n",
    "\n",
    "elif data_name == 'compas':\n",
    "    cols = ['method', 'data', 'prediction', 'L0', 'L1', 'L2', 'feasibility', 'violation', 'success', 'time (seconds)'] + temp.columns[9:13].to_list() + temp.columns[15:].to_list()\n",
    "    temp = temp[cols]\n",
    "temp.to_csv(f\"Final_results/{data_name}_results_mcce_and_carla_K_{K}_n_{n_test}.csv\")"
   ]
  },
  {
   "cell_type": "markdown",
   "metadata": {},
   "source": [
    "## To get Adult and GMC Table 1"
   ]
  },
  {
   "cell_type": "code",
   "execution_count": null,
   "metadata": {},
   "outputs": [],
   "source": [
    "temp = pd.read_csv(\"Final_results/adult_results_mcce_and_carla_K_10000_n_100.csv\", index_col=0)\n",
    "\n",
    "to_write = temp[['method', 'L0', 'L2', 'feasibility', 'violation', 'success', 'time (seconds)']].groupby(['method']).mean()\n",
    "\n",
    "to_write.reset_index(inplace=True)\n",
    "\n",
    "CE_N = temp.groupby(['method']).size().reset_index().rename(columns={0: 'CE_N'})\n",
    "to_write = pd.concat([to_write, CE_N.CE_N], axis=1)\n",
    "\n",
    "# to_write.sort_values(['method'], inplace=True, ascending=False)\n",
    "to_write = to_write[['method', 'L0', 'L2', 'feasibility', 'violation', 'success', 'CE_N', 'time (seconds)']]\n",
    "\n",
    "print(to_write.to_latex(index=False, float_format=\"%.2f\", ))"
   ]
  },
  {
   "cell_type": "code",
   "execution_count": null,
   "metadata": {},
   "outputs": [],
   "source": [
    "temp = pd.read_csv(\"Final_results/give_me_some_credit_results_mcce_and_carla_K_10000_n_100.csv\", index_col=0)\n",
    "\n",
    "to_write = temp[['method', 'L0', 'L2', 'feasibility', 'violation', 'success', 'time (seconds)']].groupby(['method']).mean()\n",
    "\n",
    "to_write.reset_index(inplace=True)\n",
    "\n",
    "CE_N = temp.groupby(['method']).size().reset_index().rename(columns={0: 'CE_N'})\n",
    "to_write = pd.concat([to_write, CE_N.CE_N], axis=1)\n",
    "\n",
    "to_write = to_write[['method', 'L0', 'L2', 'feasibility', 'violation', 'success', 'CE_N', 'time (seconds)']]\n",
    "\n",
    "print(to_write.to_latex(index=False, float_format=\"%.2f\", ))"
   ]
  },
  {
   "cell_type": "code",
   "execution_count": null,
   "metadata": {},
   "outputs": [],
   "source": [
    "temp = pd.read_csv(\"Final_results/compas_results_mcce_and_carla_K_10000_n_100.csv\", index_col=0)\n",
    "\n",
    "to_write = temp[['method', 'L0', 'L2', 'feasibility', 'violation', 'success', 'time (seconds)']].groupby(['method']).mean()\n",
    "\n",
    "to_write.reset_index(inplace=True)\n",
    "\n",
    "CE_N = temp.groupby(['method']).size().reset_index().rename(columns={0: 'CE_N'})\n",
    "to_write = pd.concat([to_write, CE_N.CE_N], axis=1)\n",
    "\n",
    "# to_write.sort_values(['method'], inplace=True, ascending=False)\n",
    "to_write = to_write[['method', 'L0', 'L2', 'feasibility', 'violation', 'success', 'CE_N', 'time (seconds)']]\n",
    "\n",
    "print(to_write.to_latex(index=False, float_format=\"%.2f\", ))"
   ]
  },
  {
   "cell_type": "markdown",
   "metadata": {},
   "source": [
    "## To get Adult examples in table 2"
   ]
  },
  {
   "cell_type": "code",
   "execution_count": null,
   "metadata": {},
   "outputs": [],
   "source": [
    "pd.set_option('display.max_columns', None)\n",
    "\n",
    "import pandas as pd\n",
    "\n",
    "temp = pd.read_csv(\"Final_results/adult_results_mcce_and_carla_K_10000_n_100.csv\", index_col=0)\n",
    "\n",
    "to_write = temp.loc[31]\n",
    "\n",
    "to_write"
   ]
  },
  {
   "cell_type": "code",
   "execution_count": null,
   "metadata": {},
   "outputs": [],
   "source": [
    "# print(to_write.Pred.to_latex(index=False, float_format=\"%.2f\", ))\n",
    "feature = 'marital-status'\n",
    "dct = {'Married': 'M', 'Non-Married': 'NM'}\n",
    "to_write[feature] = [dct[item] for item in to_write[feature]]\n",
    "\n",
    "feature = 'native-country'\n",
    "dct = {'Non-US': 'NUS', 'US': 'US'}\n",
    "to_write[feature] = [dct[item] for item in to_write[feature]]\n",
    "\n",
    "feature = 'occupation'\n",
    "dct = {'Managerial-Specialist': 'MS', 'Other': 'O'}\n",
    "to_write[feature] = [dct[item] for item in to_write[feature]]\n",
    "\n",
    "feature = 'race'\n",
    "dct = {'White': 'W', 'Non-White': 'NW'}\n",
    "to_write[feature] = [dct[item] for item in to_write[feature]]\n",
    "\n",
    "feature = 'relationship'\n",
    "dct = {'Husband': 'H', 'Non-Husband': 'NH'}\n",
    "to_write[feature] = [dct[item] for item in to_write[feature]]\n",
    "\n",
    "feature = 'sex'\n",
    "dct = {'Male': 'M'}\n",
    "to_write[feature] = [dct[item] for item in to_write[feature]]\n",
    "\n",
    "\n",
    "feature = 'workclass'\n",
    "dct = {'Self-emp-not-inc': 'SENI', 'Private': 'P', 'Non-Private': 'NP'}\n",
    "to_write[feature] = [dct[item] for item in to_write[feature]]"
   ]
  },
  {
   "cell_type": "code",
   "execution_count": null,
   "metadata": {},
   "outputs": [],
   "source": [
    "cols = ['method', 'age', 'fnlwgt', 'education-num', 'capital-gain', 'capital-loss', \\\n",
    "       'hours-per-week', 'marital-status', 'native-country', \\\n",
    "       'occupation', 'race', 'relationship', 'sex', 'workclass']\n",
    "\n",
    "print(to_write[cols].to_latex(index=False, float_format=\"%.0f\", ))"
   ]
  },
  {
   "cell_type": "markdown",
   "metadata": {},
   "source": [
    "## To get GMC examples in table 3"
   ]
  },
  {
   "cell_type": "code",
   "execution_count": null,
   "metadata": {},
   "outputs": [],
   "source": [
    "temp = pd.read_csv(\"Final_results/give_me_some_credit_results_mcce_and_carla_K_10000_n_100.csv\", index_col=0)\n",
    "# temp.loc[263]\n",
    "\n",
    "cols = ['method', 'prediction', 'age', 'RevolvingUtilizationOfUnsecuredLines', 'NumberOfTime30-59DaysPastDueNotWorse', 'DebtRatio', 'MonthlyIncome', 'NumberOfOpenCreditLinesAndLoans', 'NumberOfTimes90DaysLate', 'NumberRealEstateLoansOrLines', 'NumberOfTime60-89DaysPastDueNotWorse', 'NumberOfDependents']\n",
    "\n",
    "to_write = temp[cols].loc[263]\n",
    "\n",
    "cols = ['Method', 'Pred', 'Age', 'Unsec. Lines', 'Nb Days Past 30', 'Debt Ratio', 'Month Inc.', 'Nb Credit Lines', 'Nb Times 90 Days Late', 'Nb Real Estate Loans', 'Nb Times 60 Days Past', 'Nb Dep.']\n",
    "\n",
    "to_write.columns = cols\n",
    "# to_write.sort_values(['Method'], inplace=True, ascending=False)\n",
    "\n",
    "# print(to_write.to_latex(index=False, float_format=\"%.0f\", ))\n",
    "\n",
    "print(to_write.to_latex(index=False, float_format=\"%.2f\", ))"
   ]
  },
  {
   "cell_type": "code",
   "execution_count": null,
   "metadata": {},
   "outputs": [],
   "source": [
    "if data_name == 'give_me_some_credit':\n",
    "    features = [ 'age', 'RevolvingUtilizationOfUnsecuredLines', 'NumberOfTime30-59DaysPastDueNotWorse','DebtRatio', 'MonthlyIncome', 'NumberOfOpenCreditLinesAndLoans', 'NumberOfTimes90DaysLate', 'NumberRealEstateLoansOrLines', 'NumberOfTime60-89DaysPastDueNotWorse', 'NumberOfDependents']\n",
    "    metric_names = ['method', 'L0', 'L1', 'violations', 'validity', 'prediction']\n",
    "\n",
    "    temp = dataset.inverse_transform(final_results.dropna()[features])\n",
    "    temp = pd.concat([final_results[metric_names], temp], axis=1)\n",
    "    # temp.sort_values(temp.index.name)"
   ]
  },
  {
   "cell_type": "code",
   "execution_count": null,
   "metadata": {},
   "outputs": [],
   "source": [
    "if data_name == 'give_me_some_credit':\n",
    "    mcce_results = pd.read_csv(f\"/nr/samba/user/anr/pkg/MCCE_Python/give_me_some_credit_mcce_results_k_10000.csv\")\n",
    "    mcce_results.rename(columns={'Unnamed: 0': 'index'}, inplace=True)\n",
    "    mcce_results.set_index(['index'], inplace=True)\n",
    "\n",
    "    predictions = ml_model.predict_proba(mcce_results)\n",
    "    temp3 = []\n",
    "    for x in predictions:\n",
    "        temp3.append(x[1]) #  >= 0.5\n",
    "        \n",
    "    # temp.index = final_results.index\n",
    "    mcce_results['prediction'] = temp3\n"
   ]
  },
  {
   "cell_type": "code",
   "execution_count": null,
   "metadata": {},
   "outputs": [],
   "source": [
    "if data_name == 'give_me_some_credit':\n",
    "    mcce_results.sort_values(mcce_results.index.name, inplace=True)\n",
    "    mcce_results['method'] = 'mcce'\n",
    "    mcce_results.rename(columns={'success': 'validity', 'violation': 'violations'}, inplace=True)\n",
    "    temp_mcce = dataset.inverse_transform(mcce_results.dropna()[features])\n",
    "    temp_mcce = pd.concat([mcce_results[metric_names], temp_mcce], axis=1)\n",
    "    # temp_mcce.sort_values(temp_mcce.index.name)"
   ]
  },
  {
   "cell_type": "code",
   "execution_count": null,
   "metadata": {},
   "outputs": [],
   "source": [
    "if data_name == 'give_me_some_credit':\n",
    "    pd.set_option('display.max_columns', None)\n",
    "    temp2 = pd.concat([temp, temp_mcce], axis=0)\n",
    "\n",
    "    temp2.sort_values(temp2.index.name)\n",
    "\n",
    "    features = ['method', 'prediction', 'age', 'RevolvingUtilizationOfUnsecuredLines', 'NumberOfTime30-59DaysPastDueNotWorse','DebtRatio', 'MonthlyIncome', 'NumberOfOpenCreditLinesAndLoans', 'NumberOfTimes90DaysLate', 'NumberRealEstateLoansOrLines', 'NumberOfTime60-89DaysPastDueNotWorse', 'NumberOfDependents']\n",
    "\n",
    "    temp2.loc[263][features]"
   ]
  },
  {
   "cell_type": "code",
   "execution_count": null,
   "metadata": {},
   "outputs": [],
   "source": [
    "if data_name == 'give_me_some_credit':\n",
    "    factuals = predict_negative_instances(ml_model, dataset.df)\n",
    "    dataset.inverse_transform(factuals.iloc[3:4])[['age', 'RevolvingUtilizationOfUnsecuredLines', 'NumberOfTime30-59DaysPastDueNotWorse','DebtRatio', 'MonthlyIncome', 'NumberOfOpenCreditLinesAndLoans', 'NumberOfTimes90DaysLate', 'NumberRealEstateLoansOrLines', 'NumberOfTime60-89DaysPastDueNotWorse', 'NumberOfDependents']]\n",
    "\n",
    "    ml_model.predict_proba(factuals.iloc[3:4])\n"
   ]
  },
  {
   "cell_type": "markdown",
   "metadata": {},
   "source": [
    "## To get COMPAS results"
   ]
  },
  {
   "cell_type": "code",
   "execution_count": null,
   "metadata": {},
   "outputs": [],
   "source": [
    "temp = pd.read_csv(\"Final_results/compas_results_mcce_and_carla_K_10000_n_100.csv\", index_col=0)"
   ]
  },
  {
   "cell_type": "code",
   "execution_count": null,
   "metadata": {},
   "outputs": [],
   "source": [
    "\n",
    "cols = ['method', 'prediction', 'age', 'two_year_recid', 'priors_count', 'length_of_stay', 'c_charge_degree', 'race', 'sex']\n",
    "\n",
    "to_write = temp[cols].loc[40]\n",
    "\n",
    "cols = ['Method', 'Pred', 'Age', 'Two Year Recid', 'Priors Count', 'Length of Stay', 'C Charge Degree', 'Race', 'Sex']\n",
    "\n",
    "to_write.columns = cols\n",
    "# to_write.sort_values(['Method'], inplace=True, ascending=False)\n",
    "\n",
    "# print(to_write.to_latex(index=False, float_format=\"%.0f\", ))\n",
    "\n",
    "print(to_write.to_latex(index=False, float_format=\"%.2f\", ))\n",
    "\n",
    "round(to_write[['Method', 'Pred']], 2)"
   ]
  }
 ],
 "metadata": {
  "interpreter": {
   "hash": "ea38de303447ace9d448c28089670fa84711b12cac6767c435896f96584513e1"
  },
  "kernelspec": {
   "display_name": "Python 3.7.13 ('carla_github')",
   "language": "python",
   "name": "python3"
  },
  "language_info": {
   "codemirror_mode": {
    "name": "ipython",
    "version": 3
   },
   "file_extension": ".py",
   "mimetype": "text/x-python",
   "name": "python",
   "nbconvert_exporter": "python",
   "pygments_lexer": "ipython3",
   "version": "3.7.13"
  },
  "orig_nbformat": 4
 },
 "nbformat": 4,
 "nbformat_minor": 2
}
