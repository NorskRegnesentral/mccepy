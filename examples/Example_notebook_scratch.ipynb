{
 "cells": [
  {
   "cell_type": "markdown",
   "metadata": {},
   "source": [
    "## Use MCCE method without using the Data or RandomForest class"
   ]
  },
  {
   "cell_type": "code",
   "execution_count": null,
   "metadata": {},
   "outputs": [],
   "source": [
    "import warnings\n",
    "warnings.filterwarnings('ignore')\n",
    "\n",
    "import re\n",
    "import numpy as np\n",
    "import pandas as pd\n",
    "pd.set_option('display.max_columns', None)\n",
    "\n",
    "from sklearn import preprocessing, metrics\n",
    "from sklearn.ensemble import RandomForestClassifier\n",
    "from sklearn.model_selection import train_test_split\n",
    "\n",
    "from mcce.mcce import MCCE\n",
    "from mcce.metrics import distance, feasibility, constraint_violation, success_rate"
   ]
  },
  {
   "cell_type": "markdown",
   "metadata": {},
   "source": [
    "## Load data"
   ]
  },
  {
   "cell_type": "code",
   "execution_count": 2,
   "metadata": {},
   "outputs": [
    {
     "name": "stdout",
     "output_type": "stream",
     "text": [
      "The fixed features are ['age', 'sex']\n"
     ]
    }
   ],
   "source": [
    "feature_order = ['age', 'workclass', 'fnlwgt', 'education-num', 'marital-status', 'occupation', \n",
    "                 'relationship', 'race', 'sex', 'hours-per-week',]\n",
    "                 \n",
    "dtypes = {\"age\": \"float\", \n",
    "          \"workclass\": \"category\", \n",
    "          \"fnlwgt\": \"float\", \n",
    "          \"education-num\": \"float\",\n",
    "          \"marital-status\": \"category\", \n",
    "          \"occupation\": \"category\", \n",
    "          \"relationship\": \"category\", \n",
    "          \"race\": \"category\",\n",
    "          \"sex\": \"category\", \n",
    "          \"hours-per-week\": \"float\",\n",
    "          \"income\": \"category\"}\n",
    "\n",
    "categorical = ['workclass', 'marital-status', 'occupation', 'relationship', 'race', 'sex']\n",
    "continuous = ['age', 'fnlwgt', 'education-num', 'hours-per-week']\n",
    "fixed_features = ['age', 'sex']\n",
    "target = ['income']\n",
    "features = categorical + continuous\n",
    "\n",
    "path = '../Data/adult_data.csv'\n",
    "\n",
    "df = pd.read_csv(path)\n",
    "df = df[features + target]\n",
    "\n",
    "print(f\"The fixed features are {fixed_features}\")"
   ]
  },
  {
   "cell_type": "markdown",
   "metadata": {},
   "source": [
    "## Scale the continuous features between 0 and 1. Encode the categorical features using one-hot encoding"
   ]
  },
  {
   "cell_type": "code",
   "execution_count": 3,
   "metadata": {},
   "outputs": [
    {
     "name": "stdout",
     "output_type": "stream",
     "text": [
      "The encoded categorical features are ['workclass_1', 'workclass_2', 'workclass_3', 'marital-status_1', 'marital-status_2', 'marital-status_3', 'occupation_1', 'occupation_2', 'occupation_3', 'relationship_1', 'relationship_2', 'relationship_3', 'race_1', 'race_2', 'race_3', 'sex_1']\n"
     ]
    }
   ],
   "source": [
    "encoder = preprocessing.OneHotEncoder(drop=\"first\", sparse=False).fit(df[categorical])\n",
    "df_encoded = encoder.transform(df[categorical])\n",
    "\n",
    "scaler = preprocessing.MinMaxScaler().fit(df[continuous])\n",
    "df_scaled = scaler.transform(df[continuous])\n",
    "\n",
    "categorical_encoded = encoder.get_feature_names(categorical).tolist()\n",
    "df_scaled = pd.DataFrame(df_scaled, columns=continuous)\n",
    "df_encoded = pd.DataFrame(df_encoded, columns=categorical_encoded)\n",
    "\n",
    "df = pd.concat([df_scaled, df_encoded, df[target]], axis=1)\n",
    "\n",
    "print(f\"The encoded categorical features are {categorical_encoded}\")"
   ]
  },
  {
   "cell_type": "markdown",
   "metadata": {},
   "source": [
    "## Define an inverse_transform function to go easily back to the non-scaled/encoded feature version"
   ]
  },
  {
   "cell_type": "code",
   "execution_count": 4,
   "metadata": {},
   "outputs": [],
   "source": [
    "def inverse_transform(df, \n",
    "                      scaler, \n",
    "                      encoder, \n",
    "                      continuous,\n",
    "                      categorical,\n",
    "                      categorical_encoded, \n",
    "                      ):\n",
    "\n",
    "    df_categorical = pd.DataFrame(encoder.inverse_transform(df[categorical_encoded]), columns=categorical)\n",
    "    df_continuous = pd.DataFrame(scaler.inverse_transform(df[continuous]), columns=continuous)\n",
    "\n",
    "    return pd.concat([df_categorical, df_continuous], axis=1)"
   ]
  },
  {
   "cell_type": "markdown",
   "metadata": {},
   "source": [
    "## Find the fixed features in their encoded form"
   ]
  },
  {
   "cell_type": "code",
   "execution_count": 5,
   "metadata": {},
   "outputs": [
    {
     "name": "stdout",
     "output_type": "stream",
     "text": [
      "Encoded fixed features are: ['age', 'sex_1']\n"
     ]
    }
   ],
   "source": [
    "fixed_features_encoded = []\n",
    "for fixed in fixed_features:\n",
    "    if fixed in categorical:\n",
    "        for new_col in categorical_encoded:\n",
    "            match = re.search(fixed, new_col)\n",
    "            if match:\n",
    "                fixed_features_encoded.append(new_col)\n",
    "    else:\n",
    "        fixed_features_encoded.append(fixed)\n",
    "\n",
    "print(f\"Encoded fixed features are: {fixed_features_encoded}\")"
   ]
  },
  {
   "cell_type": "markdown",
   "metadata": {},
   "source": [
    "## Train predictive model"
   ]
  },
  {
   "cell_type": "code",
   "execution_count": 6,
   "metadata": {},
   "outputs": [
    {
     "name": "stdout",
     "output_type": "stream",
     "text": [
      "The out-of-sample AUC is 0.73\n"
     ]
    }
   ],
   "source": [
    "y = df[target]\n",
    "X = df.drop(target, axis=1)\n",
    "test_size = 0.33\n",
    "\n",
    "X_train, X_test, y_train, y_test = train_test_split(X, y, test_size=test_size, random_state=42)\n",
    "clf = RandomForestClassifier(max_depth=None, random_state=0)\n",
    "ml_model = clf.fit(X_train, y_train)\n",
    "\n",
    "pred_train = ml_model.predict(X_train)\n",
    "pred_test = ml_model.predict(X_test)\n",
    "\n",
    "fpr, tpr, _ = metrics.roc_curve(y_train, pred_train, pos_label=1)\n",
    "train_auc = metrics.auc(fpr, tpr)\n",
    "\n",
    "fpr, tpr, _ = metrics.roc_curve(y_test, pred_test, pos_label=1)\n",
    "test_auc = metrics.auc(fpr, tpr)\n",
    "\n",
    "model_prediction = clf.predict(X)\n",
    "\n",
    "print(f\"The out-of-sample AUC is {round(test_auc, 2)}\")"
   ]
  },
  {
   "cell_type": "markdown",
   "metadata": {},
   "source": [
    "## Select observations to generate counterfactuals for"
   ]
  },
  {
   "cell_type": "code",
   "execution_count": 7,
   "metadata": {},
   "outputs": [
    {
     "name": "stdout",
     "output_type": "stream",
     "text": [
      "        age    fnlwgt  education-num  hours-per-week  workclass_1  \\\n",
      "0  0.301370  0.044131       0.800000        0.397959          0.0   \n",
      "2  0.287671  0.137581       0.533333        0.397959          0.0   \n",
      "\n",
      "   workclass_2  workclass_3  marital-status_1  marital-status_2  \\\n",
      "0          0.0          1.0               1.0               0.0   \n",
      "2          0.0          0.0               0.0               1.0   \n",
      "\n",
      "   marital-status_3  occupation_1  occupation_2  occupation_3  relationship_1  \\\n",
      "0               0.0           0.0           0.0           1.0             1.0   \n",
      "2               0.0           0.0           0.0           1.0             1.0   \n",
      "\n",
      "   relationship_2  relationship_3  race_1  race_2  race_3  sex_1  income  \n",
      "0             0.0             0.0     0.0     0.0     0.0    0.0       0  \n",
      "2             0.0             0.0     0.0     0.0     0.0    0.0       0  \n"
     ]
    }
   ],
   "source": [
    "preds = ml_model.predict_proba(df.drop(target, axis=1))[:,1]\n",
    "factual_id = np.where(preds < 0.5)\n",
    "factuals = df.loc[factual_id]\n",
    "test_factual = factuals.iloc[:5]\n",
    "\n",
    "print(test_factual.head(2))"
   ]
  },
  {
   "cell_type": "markdown",
   "metadata": {},
   "source": [
    "## Create objects to feed into MCCE method"
   ]
  },
  {
   "cell_type": "code",
   "execution_count": 8,
   "metadata": {},
   "outputs": [],
   "source": [
    "class Dataset():\n",
    "    def __init__(self, \n",
    "                 fixed_features, \n",
    "                 target,\n",
    "                 categorical,\n",
    "                 fixed_features_encoded,\n",
    "                 continuous,\n",
    "                 features,\n",
    "                 encoder,\n",
    "                 scaler,\n",
    "                 inverse_transform,\n",
    "                 ):\n",
    "        \n",
    "        self.fixed_features = fixed_features\n",
    "        self.target = target\n",
    "        self.feature_order = feature_order\n",
    "        self.dtypes = dtypes\n",
    "\n",
    "        self.categorical = categorical\n",
    "        self.continuous = continuous\n",
    "        self.features = self.categorical + self.continuous\n",
    "        self.cols = self.features + [self.target]\n",
    "        self.fixed_features_encoded = fixed_features_encoded\n",
    "        self.encoder = encoder\n",
    "        self.scaler = scaler\n",
    "        self.inverse_transform = inverse_transform\n",
    "        \n",
    "        "
   ]
  },
  {
   "cell_type": "code",
   "execution_count": 9,
   "metadata": {},
   "outputs": [],
   "source": [
    "dataset = Dataset(fixed_features, \n",
    "                  target,\n",
    "                  categorical,\n",
    "                  fixed_features_encoded,\n",
    "                  continuous,\n",
    "                  features,\n",
    "                  encoder,\n",
    "                  scaler,\n",
    "                  inverse_transform)"
   ]
  },
  {
   "cell_type": "code",
   "execution_count": 10,
   "metadata": {},
   "outputs": [],
   "source": [
    "dtypes = dict([(x, \"float\") for x in continuous])\n",
    "for x in categorical_encoded:\n",
    "    dtypes[x] = \"category\"\n",
    "df = (df).astype(dtypes)"
   ]
  },
  {
   "cell_type": "markdown",
   "metadata": {},
   "source": [
    "## Fit MCCE method"
   ]
  },
  {
   "cell_type": "code",
   "execution_count": 11,
   "metadata": {},
   "outputs": [
    {
     "name": "stdout",
     "output_type": "stream",
     "text": [
      "Fit trees\n",
      "Sample observations for the specific test observations\n",
      "Process the sampled observations\n"
     ]
    }
   ],
   "source": [
    "mcce = MCCE(dataset=dataset,\n",
    "            model=ml_model)\n",
    "\n",
    "print(\"Fit trees\")\n",
    "mcce.fit(df.drop(target, axis=1), dtypes)\n",
    "\n",
    "print(\"Sample observations for the specific test observations\")\n",
    "cfs = mcce.generate(test_factual.drop(target, axis=1), k=100)\n",
    "\n",
    "print(\"Process the sampled observations\")\n",
    "mcce.postprocess(cfs=cfs, test_factual=test_factual, cutoff=0.5)\n"
   ]
  },
  {
   "cell_type": "markdown",
   "metadata": {},
   "source": [
    "## Print counterfactuals"
   ]
  },
  {
   "cell_type": "code",
   "execution_count": 18,
   "metadata": {},
   "outputs": [
    {
     "name": "stdout",
     "output_type": "stream",
     "text": [
      "Original factuals:\n"
     ]
    },
    {
     "data": {
      "text/html": [
       "<div>\n",
       "<style scoped>\n",
       "    .dataframe tbody tr th:only-of-type {\n",
       "        vertical-align: middle;\n",
       "    }\n",
       "\n",
       "    .dataframe tbody tr th {\n",
       "        vertical-align: top;\n",
       "    }\n",
       "\n",
       "    .dataframe thead th {\n",
       "        text-align: right;\n",
       "    }\n",
       "</style>\n",
       "<table border=\"1\" class=\"dataframe\">\n",
       "  <thead>\n",
       "    <tr style=\"text-align: right;\">\n",
       "      <th></th>\n",
       "      <th>age</th>\n",
       "      <th>workclass</th>\n",
       "      <th>fnlwgt</th>\n",
       "      <th>education-num</th>\n",
       "      <th>marital-status</th>\n",
       "      <th>occupation</th>\n",
       "      <th>relationship</th>\n",
       "      <th>race</th>\n",
       "      <th>sex</th>\n",
       "      <th>hours-per-week</th>\n",
       "    </tr>\n",
       "  </thead>\n",
       "  <tbody>\n",
       "    <tr>\n",
       "      <th>0</th>\n",
       "      <td>39.0</td>\n",
       "      <td>3</td>\n",
       "      <td>77516.0</td>\n",
       "      <td>13.0</td>\n",
       "      <td>1</td>\n",
       "      <td>3</td>\n",
       "      <td>1</td>\n",
       "      <td>0</td>\n",
       "      <td>0</td>\n",
       "      <td>40.0</td>\n",
       "    </tr>\n",
       "    <tr>\n",
       "      <th>1</th>\n",
       "      <td>38.0</td>\n",
       "      <td>0</td>\n",
       "      <td>215646.0</td>\n",
       "      <td>9.0</td>\n",
       "      <td>2</td>\n",
       "      <td>3</td>\n",
       "      <td>1</td>\n",
       "      <td>0</td>\n",
       "      <td>0</td>\n",
       "      <td>40.0</td>\n",
       "    </tr>\n",
       "    <tr>\n",
       "      <th>2</th>\n",
       "      <td>53.0</td>\n",
       "      <td>0</td>\n",
       "      <td>234721.0</td>\n",
       "      <td>7.0</td>\n",
       "      <td>0</td>\n",
       "      <td>3</td>\n",
       "      <td>0</td>\n",
       "      <td>1</td>\n",
       "      <td>0</td>\n",
       "      <td>40.0</td>\n",
       "    </tr>\n",
       "    <tr>\n",
       "      <th>3</th>\n",
       "      <td>28.0</td>\n",
       "      <td>0</td>\n",
       "      <td>338409.0</td>\n",
       "      <td>13.0</td>\n",
       "      <td>0</td>\n",
       "      <td>0</td>\n",
       "      <td>3</td>\n",
       "      <td>1</td>\n",
       "      <td>1</td>\n",
       "      <td>40.0</td>\n",
       "    </tr>\n",
       "    <tr>\n",
       "      <th>4</th>\n",
       "      <td>37.0</td>\n",
       "      <td>0</td>\n",
       "      <td>284582.0</td>\n",
       "      <td>14.0</td>\n",
       "      <td>0</td>\n",
       "      <td>2</td>\n",
       "      <td>3</td>\n",
       "      <td>0</td>\n",
       "      <td>1</td>\n",
       "      <td>40.0</td>\n",
       "    </tr>\n",
       "  </tbody>\n",
       "</table>\n",
       "</div>"
      ],
      "text/plain": [
       "    age  workclass    fnlwgt  education-num  marital-status  occupation  \\\n",
       "0  39.0          3   77516.0           13.0               1           3   \n",
       "1  38.0          0  215646.0            9.0               2           3   \n",
       "2  53.0          0  234721.0            7.0               0           3   \n",
       "3  28.0          0  338409.0           13.0               0           0   \n",
       "4  37.0          0  284582.0           14.0               0           2   \n",
       "\n",
       "   relationship  race  sex  hours-per-week  \n",
       "0             1     0    0            40.0  \n",
       "1             1     0    0            40.0  \n",
       "2             0     1    0            40.0  \n",
       "3             3     1    1            40.0  \n",
       "4             3     0    1            40.0  "
      ]
     },
     "execution_count": 18,
     "metadata": {},
     "output_type": "execute_result"
    }
   ],
   "source": [
    "cfs = mcce.results_sparse\n",
    "cfs['income'] = test_factual['income'] # add back the original response\n",
    "\n",
    "# invert the features to their original form\n",
    "print(\"Original factuals:\")\n",
    "decoded_factuals = dataset.inverse_transform(test_factual,\n",
    "                                             scaler, \n",
    "                                             encoder, \n",
    "                                             continuous,\n",
    "                                             categorical,\n",
    "                                             categorical_encoded)[feature_order]\n",
    "\n",
    "decoded_factuals"
   ]
  },
  {
   "cell_type": "code",
   "execution_count": 17,
   "metadata": {},
   "outputs": [
    {
     "name": "stdout",
     "output_type": "stream",
     "text": [
      "Generated counterfactuals:\n"
     ]
    },
    {
     "data": {
      "text/html": [
       "<div>\n",
       "<style scoped>\n",
       "    .dataframe tbody tr th:only-of-type {\n",
       "        vertical-align: middle;\n",
       "    }\n",
       "\n",
       "    .dataframe tbody tr th {\n",
       "        vertical-align: top;\n",
       "    }\n",
       "\n",
       "    .dataframe thead th {\n",
       "        text-align: right;\n",
       "    }\n",
       "</style>\n",
       "<table border=\"1\" class=\"dataframe\">\n",
       "  <thead>\n",
       "    <tr style=\"text-align: right;\">\n",
       "      <th></th>\n",
       "      <th>age</th>\n",
       "      <th>workclass</th>\n",
       "      <th>fnlwgt</th>\n",
       "      <th>education-num</th>\n",
       "      <th>marital-status</th>\n",
       "      <th>occupation</th>\n",
       "      <th>relationship</th>\n",
       "      <th>race</th>\n",
       "      <th>sex</th>\n",
       "      <th>hours-per-week</th>\n",
       "    </tr>\n",
       "  </thead>\n",
       "  <tbody>\n",
       "    <tr>\n",
       "      <th>0</th>\n",
       "      <td>39.0</td>\n",
       "      <td>0</td>\n",
       "      <td>175232.0</td>\n",
       "      <td>13.0</td>\n",
       "      <td>1</td>\n",
       "      <td>0</td>\n",
       "      <td>1</td>\n",
       "      <td>0</td>\n",
       "      <td>0</td>\n",
       "      <td>40.0</td>\n",
       "    </tr>\n",
       "    <tr>\n",
       "      <th>1</th>\n",
       "      <td>38.0</td>\n",
       "      <td>0</td>\n",
       "      <td>86643.0</td>\n",
       "      <td>16.0</td>\n",
       "      <td>2</td>\n",
       "      <td>0</td>\n",
       "      <td>1</td>\n",
       "      <td>0</td>\n",
       "      <td>0</td>\n",
       "      <td>45.0</td>\n",
       "    </tr>\n",
       "    <tr>\n",
       "      <th>2</th>\n",
       "      <td>53.0</td>\n",
       "      <td>0</td>\n",
       "      <td>184176.0</td>\n",
       "      <td>9.0</td>\n",
       "      <td>0</td>\n",
       "      <td>3</td>\n",
       "      <td>0</td>\n",
       "      <td>0</td>\n",
       "      <td>0</td>\n",
       "      <td>40.0</td>\n",
       "    </tr>\n",
       "    <tr>\n",
       "      <th>3</th>\n",
       "      <td>28.0</td>\n",
       "      <td>0</td>\n",
       "      <td>132686.0</td>\n",
       "      <td>14.0</td>\n",
       "      <td>0</td>\n",
       "      <td>0</td>\n",
       "      <td>0</td>\n",
       "      <td>0</td>\n",
       "      <td>1</td>\n",
       "      <td>40.0</td>\n",
       "    </tr>\n",
       "    <tr>\n",
       "      <th>4</th>\n",
       "      <td>37.0</td>\n",
       "      <td>0</td>\n",
       "      <td>174150.0</td>\n",
       "      <td>14.0</td>\n",
       "      <td>0</td>\n",
       "      <td>2</td>\n",
       "      <td>0</td>\n",
       "      <td>0</td>\n",
       "      <td>1</td>\n",
       "      <td>40.0</td>\n",
       "    </tr>\n",
       "  </tbody>\n",
       "</table>\n",
       "</div>"
      ],
      "text/plain": [
       "    age  workclass    fnlwgt  education-num  marital-status  occupation  \\\n",
       "0  39.0          0  175232.0           13.0               1           0   \n",
       "1  38.0          0   86643.0           16.0               2           0   \n",
       "2  53.0          0  184176.0            9.0               0           3   \n",
       "3  28.0          0  132686.0           14.0               0           0   \n",
       "4  37.0          0  174150.0           14.0               0           2   \n",
       "\n",
       "   relationship  race  sex  hours-per-week  \n",
       "0             1     0    0            40.0  \n",
       "1             1     0    0            45.0  \n",
       "2             0     0    0            40.0  \n",
       "3             0     0    1            40.0  \n",
       "4             0     0    1            40.0  "
      ]
     },
     "execution_count": 17,
     "metadata": {},
     "output_type": "execute_result"
    }
   ],
   "source": [
    "print(\"Generated counterfactuals:\")\n",
    "decoded_cfs = dataset.inverse_transform(cfs,\n",
    "                                        scaler, \n",
    "                                        encoder, \n",
    "                                        continuous,\n",
    "                                        categorical,\n",
    "                                        categorical_encoded)[feature_order]\n",
    "decoded_cfs"
   ]
  },
  {
   "cell_type": "markdown",
   "metadata": {},
   "source": [
    "## Calculate some metrics"
   ]
  },
  {
   "cell_type": "code",
   "execution_count": 23,
   "metadata": {},
   "outputs": [],
   "source": [
    "distance_pd = pd.DataFrame(distance(cfs, test_factual, dataset))\n",
    "\n",
    "feasibility_pd = pd.DataFrame(feasibility(cfs, df, categorical_encoded + continuous), columns=['feasibility'])\n",
    "\n",
    "const_pd = pd.DataFrame(constraint_violation(decoded_cfs, decoded_factuals, dataset), columns=['violation'])\n",
    "\n",
    "success_pd = pd.DataFrame(success_rate(cfs[categorical_encoded + continuous], ml_model), columns=['success'])\n"
   ]
  },
  {
   "cell_type": "code",
   "execution_count": 24,
   "metadata": {},
   "outputs": [
    {
     "data": {
      "text/html": [
       "<div>\n",
       "<style scoped>\n",
       "    .dataframe tbody tr th:only-of-type {\n",
       "        vertical-align: middle;\n",
       "    }\n",
       "\n",
       "    .dataframe tbody tr th {\n",
       "        vertical-align: top;\n",
       "    }\n",
       "\n",
       "    .dataframe thead th {\n",
       "        text-align: right;\n",
       "    }\n",
       "</style>\n",
       "<table border=\"1\" class=\"dataframe\">\n",
       "  <thead>\n",
       "    <tr style=\"text-align: right;\">\n",
       "      <th></th>\n",
       "      <th>age</th>\n",
       "      <th>workclass</th>\n",
       "      <th>fnlwgt</th>\n",
       "      <th>education-num</th>\n",
       "      <th>marital-status</th>\n",
       "      <th>occupation</th>\n",
       "      <th>relationship</th>\n",
       "      <th>race</th>\n",
       "      <th>sex</th>\n",
       "      <th>hours-per-week</th>\n",
       "      <th>L0</th>\n",
       "      <th>L1</th>\n",
       "      <th>L2</th>\n",
       "      <th>feasibility</th>\n",
       "      <th>violation</th>\n",
       "      <th>success</th>\n",
       "    </tr>\n",
       "  </thead>\n",
       "  <tbody>\n",
       "    <tr>\n",
       "      <th>0</th>\n",
       "      <td>39.0</td>\n",
       "      <td>0</td>\n",
       "      <td>175232.0</td>\n",
       "      <td>13.0</td>\n",
       "      <td>1</td>\n",
       "      <td>0</td>\n",
       "      <td>1</td>\n",
       "      <td>0</td>\n",
       "      <td>0</td>\n",
       "      <td>40.0</td>\n",
       "      <td>3.0</td>\n",
       "      <td>2.066109</td>\n",
       "      <td>2.004370</td>\n",
       "      <td>0.024600</td>\n",
       "      <td>0</td>\n",
       "      <td>0</td>\n",
       "    </tr>\n",
       "    <tr>\n",
       "      <th>1</th>\n",
       "      <td>38.0</td>\n",
       "      <td>0</td>\n",
       "      <td>86643.0</td>\n",
       "      <td>16.0</td>\n",
       "      <td>2</td>\n",
       "      <td>0</td>\n",
       "      <td>1</td>\n",
       "      <td>0</td>\n",
       "      <td>0</td>\n",
       "      <td>45.0</td>\n",
       "      <td>4.0</td>\n",
       "      <td>1.604962</td>\n",
       "      <td>1.227998</td>\n",
       "      <td>0.102196</td>\n",
       "      <td>0</td>\n",
       "      <td>0</td>\n",
       "    </tr>\n",
       "    <tr>\n",
       "      <th>2</th>\n",
       "      <td>53.0</td>\n",
       "      <td>0</td>\n",
       "      <td>184176.0</td>\n",
       "      <td>9.0</td>\n",
       "      <td>0</td>\n",
       "      <td>3</td>\n",
       "      <td>0</td>\n",
       "      <td>0</td>\n",
       "      <td>0</td>\n",
       "      <td>40.0</td>\n",
       "      <td>3.0</td>\n",
       "      <td>1.167529</td>\n",
       "      <td>1.018947</td>\n",
       "      <td>0.005980</td>\n",
       "      <td>0</td>\n",
       "      <td>0</td>\n",
       "    </tr>\n",
       "    <tr>\n",
       "      <th>3</th>\n",
       "      <td>28.0</td>\n",
       "      <td>0</td>\n",
       "      <td>132686.0</td>\n",
       "      <td>14.0</td>\n",
       "      <td>0</td>\n",
       "      <td>0</td>\n",
       "      <td>0</td>\n",
       "      <td>0</td>\n",
       "      <td>1</td>\n",
       "      <td>40.0</td>\n",
       "      <td>4.0</td>\n",
       "      <td>2.205846</td>\n",
       "      <td>2.023815</td>\n",
       "      <td>1.000421</td>\n",
       "      <td>0</td>\n",
       "      <td>0</td>\n",
       "    </tr>\n",
       "    <tr>\n",
       "      <th>4</th>\n",
       "      <td>37.0</td>\n",
       "      <td>0</td>\n",
       "      <td>174150.0</td>\n",
       "      <td>14.0</td>\n",
       "      <td>0</td>\n",
       "      <td>2</td>\n",
       "      <td>0</td>\n",
       "      <td>0</td>\n",
       "      <td>1</td>\n",
       "      <td>40.0</td>\n",
       "      <td>2.0</td>\n",
       "      <td>1.074711</td>\n",
       "      <td>1.005582</td>\n",
       "      <td>1.000401</td>\n",
       "      <td>0</td>\n",
       "      <td>0</td>\n",
       "    </tr>\n",
       "  </tbody>\n",
       "</table>\n",
       "</div>"
      ],
      "text/plain": [
       "    age  workclass    fnlwgt  education-num  marital-status  occupation  \\\n",
       "0  39.0          0  175232.0           13.0               1           0   \n",
       "1  38.0          0   86643.0           16.0               2           0   \n",
       "2  53.0          0  184176.0            9.0               0           3   \n",
       "3  28.0          0  132686.0           14.0               0           0   \n",
       "4  37.0          0  174150.0           14.0               0           2   \n",
       "\n",
       "   relationship  race  sex  hours-per-week   L0        L1        L2  \\\n",
       "0             1     0    0            40.0  3.0  2.066109  2.004370   \n",
       "1             1     0    0            45.0  4.0  1.604962  1.227998   \n",
       "2             0     0    0            40.0  3.0  1.167529  1.018947   \n",
       "3             0     0    1            40.0  4.0  2.205846  2.023815   \n",
       "4             0     0    1            40.0  2.0  1.074711  1.005582   \n",
       "\n",
       "   feasibility  violation  success  \n",
       "0     0.024600          0        0  \n",
       "1     0.102196          0        0  \n",
       "2     0.005980          0        0  \n",
       "3     1.000421          0        0  \n",
       "4     1.000401          0        0  "
      ]
     },
     "execution_count": 24,
     "metadata": {},
     "output_type": "execute_result"
    }
   ],
   "source": [
    "results = pd.concat([decoded_cfs, distance_pd, feasibility_pd, const_pd, success_pd], axis=1)\n",
    "results"
   ]
  }
 ],
 "metadata": {
  "kernelspec": {
   "display_name": "Python 3.7.11 ('mcce_conda')",
   "language": "python",
   "name": "python3"
  },
  "language_info": {
   "codemirror_mode": {
    "name": "ipython",
    "version": 3
   },
   "file_extension": ".py",
   "mimetype": "text/x-python",
   "name": "python",
   "nbconvert_exporter": "python",
   "pygments_lexer": "ipython3",
   "version": "3.7.11"
  },
  "orig_nbformat": 4,
  "vscode": {
   "interpreter": {
    "hash": "a44bf8784b08e3144ad1af5a608ce5234af2c57b06f9752973990c0f80f551f6"
   }
  }
 },
 "nbformat": 4,
 "nbformat_minor": 2
}
