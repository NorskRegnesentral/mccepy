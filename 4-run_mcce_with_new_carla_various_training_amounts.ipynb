{
 "cells": [
  {
   "cell_type": "code",
   "execution_count": 6,
   "metadata": {},
   "outputs": [
    {
     "name": "stdout",
     "output_type": "stream",
     "text": [
      "balance on test set 0.23883245958934032, balance on test set 0.2408256880733945\n",
      "Epoch 0/19\n",
      "----------\n"
     ]
    },
    {
     "name": "stderr",
     "output_type": "stream",
     "text": [
      "/nr/samba/user/anr/anaconda3/envs/carla_github/lib/python3.7/site-packages/carla/models/catalog/ANN_TORCH/model_ann.py:56: UserWarning: Implicit dimension choice for softmax has been deprecated. Change the call to include dim=X as an argument.\n",
      "  x = self.softmax(x)\n"
     ]
    },
    {
     "name": "stdout",
     "output_type": "stream",
     "text": [
      "train Loss: 0.4668 Acc: 0.7734\n",
      "\n",
      "test Loss: 0.4055 Acc: 0.8005\n",
      "\n",
      "Epoch 1/19\n",
      "----------\n",
      "train Loss: 0.3946 Acc: 0.8121\n",
      "\n",
      "test Loss: 0.3910 Acc: 0.8189\n",
      "\n",
      "Epoch 2/19\n",
      "----------\n",
      "train Loss: 0.3784 Acc: 0.8222\n",
      "\n",
      "test Loss: 0.3747 Acc: 0.8226\n",
      "\n",
      "Epoch 3/19\n",
      "----------\n",
      "train Loss: 0.3655 Acc: 0.8290\n",
      "\n",
      "test Loss: 0.3600 Acc: 0.8324\n",
      "\n",
      "Epoch 4/19\n",
      "----------\n",
      "train Loss: 0.3535 Acc: 0.8343\n",
      "\n",
      "test Loss: 0.3505 Acc: 0.8373\n",
      "\n",
      "Epoch 5/19\n",
      "----------\n",
      "train Loss: 0.3460 Acc: 0.8372\n",
      "\n",
      "test Loss: 0.3472 Acc: 0.8389\n",
      "\n",
      "Epoch 6/19\n",
      "----------\n",
      "train Loss: 0.3431 Acc: 0.8387\n",
      "\n",
      "test Loss: 0.3450 Acc: 0.8402\n",
      "\n",
      "Epoch 7/19\n",
      "----------\n",
      "train Loss: 0.3405 Acc: 0.8402\n",
      "\n",
      "test Loss: 0.3435 Acc: 0.8384\n",
      "\n",
      "Epoch 8/19\n",
      "----------\n",
      "train Loss: 0.3404 Acc: 0.8389\n",
      "\n",
      "test Loss: 0.3376 Acc: 0.8396\n",
      "\n",
      "Epoch 9/19\n",
      "----------\n",
      "train Loss: 0.3348 Acc: 0.8421\n",
      "\n",
      "test Loss: 0.3421 Acc: 0.8400\n",
      "\n",
      "Epoch 10/19\n",
      "----------\n",
      "train Loss: 0.3348 Acc: 0.8411\n",
      "\n",
      "test Loss: 0.3362 Acc: 0.8426\n",
      "\n",
      "Epoch 11/19\n",
      "----------\n",
      "train Loss: 0.3345 Acc: 0.8401\n",
      "\n",
      "test Loss: 0.3339 Acc: 0.8435\n",
      "\n",
      "Epoch 12/19\n",
      "----------\n",
      "train Loss: 0.3313 Acc: 0.8430\n",
      "\n",
      "test Loss: 0.3334 Acc: 0.8426\n",
      "\n",
      "Epoch 13/19\n",
      "----------\n",
      "train Loss: 0.3296 Acc: 0.8442\n",
      "\n",
      "test Loss: 0.3353 Acc: 0.8435\n",
      "\n",
      "Epoch 14/19\n",
      "----------\n",
      "train Loss: 0.3324 Acc: 0.8436\n",
      "\n",
      "test Loss: 0.3366 Acc: 0.8395\n",
      "\n",
      "Epoch 15/19\n",
      "----------\n",
      "train Loss: 0.3311 Acc: 0.8431\n",
      "\n",
      "test Loss: 0.3449 Acc: 0.8354\n",
      "\n",
      "Epoch 16/19\n",
      "----------\n",
      "train Loss: 0.3299 Acc: 0.8426\n",
      "\n",
      "test Loss: 0.3344 Acc: 0.8393\n",
      "\n",
      "Epoch 17/19\n",
      "----------\n",
      "train Loss: 0.3296 Acc: 0.8435\n",
      "\n",
      "test Loss: 0.3302 Acc: 0.8430\n",
      "\n",
      "Epoch 18/19\n",
      "----------\n",
      "train Loss: 0.3274 Acc: 0.8442\n",
      "\n",
      "test Loss: 0.3300 Acc: 0.8471\n",
      "\n",
      "Epoch 19/19\n",
      "----------\n",
      "train Loss: 0.3295 Acc: 0.8434\n",
      "\n",
      "test Loss: 0.3283 Acc: 0.8449\n",
      "\n"
     ]
    }
   ],
   "source": [
    "import pandas as pd\n",
    "import numpy as np\n",
    "\n",
    "from carla.data.catalog import OnlineCatalog\n",
    "from carla.models.catalog import MLModelCatalog\n",
    "from carla.models.negative_instances import predict_negative_instances\n",
    "\n",
    "import torch\n",
    "\n",
    "from mcce import MCCE\n",
    "\n",
    "data_name = \"adult\"\n",
    "# data_name = 'give_me_some_credit'\n",
    "# dataset = ['compas']\n",
    "K = 10000\n",
    "n_test = 100\n",
    "seed = 1\n",
    "\n",
    "# for data_name in dataset:\n",
    "dataset = OnlineCatalog(data_name)\n",
    "\n",
    "torch.manual_seed(0)\n",
    "ml_model = MLModelCatalog(\n",
    "        dataset, \n",
    "        model_type=\"ann\", \n",
    "        load_online=False, \n",
    "        backend=\"pytorch\"\n",
    "        )\n",
    "\n",
    "if data_name == 'adult':\n",
    "    ml_model.train(\n",
    "    learning_rate=0.002,\n",
    "    epochs=20,\n",
    "    batch_size=1024,\n",
    "    hidden_size=[18, 9, 3],\n",
    "    force_train=True, # don't forget to add this or it might load an older model from disk\n",
    "    )\n",
    "elif data_name == 'give_me_some_credit':\n",
    "    ml_model.train(\n",
    "    learning_rate=0.002,\n",
    "    epochs=20,\n",
    "    batch_size=2048,\n",
    "    hidden_size=[18, 9, 3],\n",
    "    force_train=True, # don't forget to add this or it might load an older model from disk\n",
    "    )\n",
    "elif data_name == 'compas':\n",
    "    ml_model.train(\n",
    "    learning_rate=0.002,\n",
    "    epochs=25,\n",
    "    batch_size=25,\n",
    "    hidden_size=[18, 9, 3],\n",
    "    force_train=True, # don't forget to add this or it might load an older model from disk\n",
    "    )\n",
    "\n",
    "# (2) Find unhappy customers and choose which ones to make counterfactuals for\n",
    "\n",
    "factuals = predict_negative_instances(ml_model, dataset.df)\n",
    "test_factual = factuals.iloc[:n_test]\n",
    "# test_factual_inverse = dataset.inverse_transform(test_factual)"
   ]
  },
  {
   "cell_type": "code",
   "execution_count": 7,
   "metadata": {},
   "outputs": [],
   "source": [
    "y_col = dataset.target\n",
    "features_and_response = dataset.df.columns\n",
    "cont_feat = dataset.continuous\n",
    "cat_feat = [x for x in features_and_response if x not in cont_feat] #  these have new names since encode_normalize_order_factuals()\n",
    "\n",
    "if data_name == 'adult': \n",
    "    fixed_features = ['age', 'sex_Male']\n",
    "    immutables = ['age', 'sex']\n",
    "elif data_name == 'give_me_some_credit':\n",
    "    fixed_features = ['age']\n",
    "    immutables = ['age']\n",
    "elif data_name == 'compas':\n",
    "    fixed_features = ['age', 'sex_Male', 'race_Other']\n",
    "    immutables = ['age', 'sex', 'race']\n",
    "\n",
    "#  Create dtypes for MCCE()\n",
    "dtypes = dict([(x, \"float\") for x in cont_feat])\n",
    "for x in cat_feat:\n",
    "    dtypes[x] = \"category\"\n",
    "df = (dataset.df).astype(dtypes)"
   ]
  },
  {
   "cell_type": "code",
   "execution_count": 11,
   "metadata": {},
   "outputs": [
    {
     "data": {
      "text/plain": [
       "age                            float64\n",
       "fnlwgt                         float64\n",
       "education-num                  float64\n",
       "capital-gain                   float64\n",
       "capital-loss                   float64\n",
       "hours-per-week                 float64\n",
       "income                        category\n",
       "marital-status_Non-Married    category\n",
       "native-country_US             category\n",
       "occupation_Other              category\n",
       "race_White                    category\n",
       "relationship_Non-Husband      category\n",
       "sex_Male                      category\n",
       "workclass_Private             category\n",
       "dtype: object"
      ]
     },
     "execution_count": 11,
     "metadata": {},
     "output_type": "execute_result"
    }
   ],
   "source": [
    "print(df.dtypes)"
   ]
  },
  {
   "cell_type": "code",
   "execution_count": 14,
   "metadata": {},
   "outputs": [
    {
     "name": "stdout",
     "output_type": "stream",
     "text": [
      "True\n"
     ]
    },
    {
     "name": "stderr",
     "output_type": "stream",
     "text": [
      "/nr/samba/user/anr/anaconda3/envs/carla_github/lib/python3.7/site-packages/carla/models/catalog/ANN_TORCH/model_ann.py:56: UserWarning: Implicit dimension choice for softmax has been deprecated. Change the call to include dim=X as an argument.\n",
      "  x = self.softmax(x)\n"
     ]
    }
   ],
   "source": [
    "# import random\n",
    "# results = []\n",
    "\n",
    "# dim = df.shape[0]\n",
    "# random.seed(0)\n",
    "# rows = random.sample(df.index.to_list(), dim)\n",
    "# rows = np.sort(rows)\n",
    "\n",
    "# df_subset = df.loc[rows]\n",
    "\n",
    "# print(df.equals(df_subset))\n",
    "\n",
    "# import time\n",
    "# start = time.time()\n",
    "\n",
    "# mcce = MCCE(fixed_features=fixed_features, immutables=immutables, model=ml_model, seed=1, continuous=cont_feat, categorical=cat_feat)\n",
    "\n",
    "# mcce.fit(df_subset.drop(y_col, axis=1), dtypes)\n",
    "\n",
    "# synth_df = mcce.generate(test_factual.drop(y_col, axis=1), k=K)\n",
    "\n",
    "# mcce.postprocess(data=df_subset, synth=synth_df, test=test_factual, response=y_col, \\\n",
    "#     inverse_transform=dataset.inverse_transform, cutoff=0.5)\n",
    "\n",
    "# timing = time.time() - start\n",
    "\n",
    "# mcce.results_sparse['time (seconds)'] = timing\n",
    "\n",
    "# results.append([mcce.results_sparse.L0.mean(), mcce.results_sparse.L2.mean(), mcce.results_sparse.feasibility.mean(), mcce.results_sparse.violation.mean(), mcce.results_sparse.shape[0], timing, n, 0])"
   ]
  },
  {
   "cell_type": "code",
   "execution_count": 15,
   "metadata": {},
   "outputs": [
    {
     "data": {
      "text/plain": [
       "L0                 3.040000\n",
       "L2                 0.738469\n",
       "feasibility        0.047668\n",
       "violation          0.000000\n",
       "NCE              100.000000\n",
       "timing           107.087060\n",
       "s              48831.000000\n",
       "n                  0.000000\n",
       "dtype: float64"
      ]
     },
     "execution_count": 15,
     "metadata": {},
     "output_type": "execute_result"
    }
   ],
   "source": [
    "# results2 = pd.DataFrame(results, columns=['L0', 'L2', 'feasibility', 'violation', 'NCE', 'timing', 's', 'n'])\n",
    "# results2.mean()"
   ]
  },
  {
   "cell_type": "code",
   "execution_count": 16,
   "metadata": {},
   "outputs": [
    {
     "name": "stdout",
     "output_type": "stream",
     "text": [
      "False\n",
      "Postprocessing counterfactuals with MCCE...\n"
     ]
    },
    {
     "name": "stderr",
     "output_type": "stream",
     "text": [
      "/nr/samba/user/anr/anaconda3/envs/carla_github/lib/python3.7/site-packages/carla/models/catalog/ANN_TORCH/model_ann.py:56: UserWarning: Implicit dimension choice for softmax has been deprecated. Change the call to include dim=X as an argument.\n",
      "  x = self.softmax(x)\n"
     ]
    }
   ],
   "source": [
    "import random \n",
    "\n",
    "results = []\n",
    "for n in [100, 1000, 10000]: # 20000, 30000, 40000\n",
    "\n",
    "    if n == 48832:\n",
    "        random.seed(0)\n",
    "        rows = random.sample(df.index.to_list(), n)\n",
    "        rows = np.sort(rows)\n",
    "        df_subset = df.loc[rows]\n",
    "        print(df.equals(df_subset))\n",
    "\n",
    "        import time\n",
    "        start = time.time()\n",
    "\n",
    "        mcce = MCCE(fixed_features=fixed_features, immutables=immutables, model=ml_model, seed=1,\\\n",
    "            continuous=cont_feat, categorical=cat_feat)\n",
    "\n",
    "        mcce.fit(df_subset.drop(y_col, axis=1), dtypes)\n",
    "\n",
    "        synth_df = mcce.generate(test_factual.drop(y_col, axis=1), k=K)\n",
    "\n",
    "        # (4) Postprocess generated counterfactuals\n",
    "        print(\"Postprocessing counterfactuals with MCCE...\")\n",
    "        mcce.postprocess(data=df, synth=synth_df, test=test_factual, response=y_col, \\\n",
    "            inverse_transform=dataset.inverse_transform, cutoff=0.5)\n",
    "\n",
    "        timing = time.time() - start\n",
    "\n",
    "        mcce.results_sparse['time (seconds)'] = timing\n",
    "\n",
    "        results.append([mcce.results_sparse.L0.mean(), mcce.results_sparse.L2.mean(), mcce.results_sparse.feasibility.mean(), mcce.results_sparse.violation.mean(), mcce.results_sparse.shape[0], timing, n, 0])\n",
    "    else:\n",
    "        for s in range(5):\n",
    "\n",
    "            random.seed(s)\n",
    "            rows = random.sample(df.index.to_list(), n)\n",
    "            rows = np.sort(rows)\n",
    "            df_subset = df.loc[rows]\n",
    "            print(df.equals(df_subset))\n",
    "\n",
    "            import time\n",
    "            start = time.time()\n",
    "\n",
    "            mcce = MCCE(fixed_features=fixed_features, immutables=immutables, model=ml_model, seed=1,\\\n",
    "                continuous=cont_feat, categorical=cat_feat)\n",
    "\n",
    "            mcce.fit(df_subset.drop(y_col, axis=1), dtypes)\n",
    "\n",
    "            synth_df = mcce.generate(test_factual.drop(y_col, axis=1), k=K)\n",
    "\n",
    "            # (4) Postprocess generated counterfactuals\n",
    "            print(\"Postprocessing counterfactuals with MCCE...\")\n",
    "            mcce.postprocess(data=df, synth=synth_df, test=test_factual, response=y_col, \\\n",
    "                inverse_transform=dataset.inverse_transform, cutoff=0.5)\n",
    "\n",
    "            timing = time.time() - start\n",
    "\n",
    "            mcce.results_sparse['time (seconds)'] = timing\n",
    "\n",
    "            results.append([mcce.results_sparse.L0.mean(), mcce.results_sparse.L2.mean(), mcce.results_sparse.feasibility.mean(), mcce.results_sparse.violation.mean(), mcce.results_sparse.shape[0], timing, n, s])\n"
   ]
  },
  {
   "cell_type": "code",
   "execution_count": null,
   "metadata": {},
   "outputs": [],
   "source": [
    "results2 = pd.DataFrame(results, columns=['L0', 'L2', 'feasibility', 'violation', 'NCE', 'timing', 'Ntest', 'seed'])\n",
    "results2.groupby('Ntest').mean()"
   ]
  },
  {
   "cell_type": "code",
   "execution_count": null,
   "metadata": {},
   "outputs": [],
   "source": [
    "# results2.to_csv(\"/nr/samba/user/anr/pkg/MCCE_Python/Results/{data_name}_mcce_results_k_{K}_n_{n_test}_with_various_training_amounts.csv\")"
   ]
  },
  {
   "cell_type": "code",
   "execution_count": null,
   "metadata": {},
   "outputs": [],
   "source": [
    "# results3 = pd.read_csv(\"/nr/samba/user/anr/pkg/MCCE_Python/Results/{data_name}_mcce_results_k_{K}_n_{n_test}_with_various_training_amounts.csv\", index_col=0)\n"
   ]
  },
  {
   "cell_type": "code",
   "execution_count": null,
   "metadata": {},
   "outputs": [],
   "source": [
    "# results3.groupby('Ntest').mean()"
   ]
  },
  {
   "cell_type": "code",
   "execution_count": null,
   "metadata": {},
   "outputs": [],
   "source": [
    "# mcce.results_sparse.to_csv(f\"/nr/samba/user/anr/pkg/MCCE_Python/Results/{data_name}_mcce_results_k_{K}_n_{n_test}.csv\")"
   ]
  },
  {
   "cell_type": "code",
   "execution_count": null,
   "metadata": {},
   "outputs": [],
   "source": [
    "# temp =pd.read_csv(\"/nr/samba/user/anr/pkg/MCCE_Python/Results/give_me_some_credit_mcce_results_k_10000_n_100_inverse_transform.csv\", index_col=0)\n",
    "# temp.loc[263]"
   ]
  },
  {
   "cell_type": "code",
   "execution_count": null,
   "metadata": {},
   "outputs": [],
   "source": [
    "# dataset = OnlineCatalog(\"adult\")\n",
    "\n",
    "# results = pd.read_csv(f\"/nr/samba/user/anr/pkg/MCCE_Python/Results/adult_mcce_results_k_{K}_n_{n_test}.csv\")\n",
    "\n",
    "# dataset.inverse_transform(results.iloc[0:1])[['age', 'workclass', 'fnlwgt', 'education-num', 'marital-status', 'relationship', 'capital-gain', 'capital-loss', 'hours-per-week', 'native-country']].iloc[0]\n"
   ]
  },
  {
   "cell_type": "code",
   "execution_count": null,
   "metadata": {},
   "outputs": [],
   "source": [
    "# data_name = 'adult'\n",
    "# K = 50000\n",
    "# n_test = 100\n",
    "# import pandas as pd\n",
    "# results = pd.read_csv(f\"/nr/samba/user/anr/pkg/MCCE_Python/Results/{data_name}_mcce_results_k_{K}_n_{n_test}_inverse_transform.csv\")\n",
    "# print(results.L0.mean())\n",
    "# print(results.L1.mean())\n",
    "# print(results.L2.mean())\n"
   ]
  },
  {
   "cell_type": "code",
   "execution_count": null,
   "metadata": {},
   "outputs": [],
   "source": [
    "# # print(mcce.results_sparse.)\n",
    "# print(results.L0.mean())\n",
    "# print(results.L1.mean())\n",
    "# print(results.L2.mean())\n",
    "# print(results.feasibility.mean())\n",
    "# print(results.violation.mean())\n",
    "# print(results.success.mean())\n",
    "# print(results.shape[0])"
   ]
  },
  {
   "cell_type": "code",
   "execution_count": null,
   "metadata": {},
   "outputs": [],
   "source": [
    "# results = pd.read_csv(f\"/nr/samba/user/anr/pkg/MCCE_Python/Results/{data_name}_mcce_results_k_{K}_n_{n_test}.csv\")\n",
    "\n",
    "# results['data'] = data_name\n",
    "# results['method'] = 'mcce'\n",
    "# results.rename(columns={'violation': 'violations'}, inplace=True)\n",
    "\n",
    "# preds = ml_model.predict_proba(results)\n",
    "# new_preds = []\n",
    "# for x in preds:\n",
    "#     new_preds.append(x[1])\n",
    "# results['prediction'] = new_preds\n",
    "# results = dataset.inverse_transform(results)\n",
    "# results.head(1)\n",
    "\n",
    "# results['validity'] = np.where(np.asarray(new_preds) >= 0.5, 1, 0)\n",
    "\n",
    "# results"
   ]
  },
  {
   "cell_type": "code",
   "execution_count": null,
   "metadata": {},
   "outputs": [],
   "source": [
    "# pd.set_option('display.max_columns', None)\n",
    "\n",
    "# dataset = OnlineCatalog(\"give_me_some_credit\")\n",
    "\n",
    "# results = pd.read_csv(f\"/nr/samba/user/anr/pkg/MCCE_Python/give_me_some_credit_mcce_results_k_{K}_n_{n_test}.csv\")\n",
    "\n",
    "# results.rename(columns={'Unnamed: 0': 'index'}, inplace=True)\n",
    "# results.set_index(['index'], inplace=True)\n",
    "# temp = results.sort_values([results.index.name]).iloc[0:1]\n",
    "# dataset.inverse_transform(temp)[['age', 'RevolvingUtilizationOfUnsecuredLines', 'NumberOfTime30-59DaysPastDueNotWorse','DebtRatio', 'MonthlyIncome', 'NumberOfOpenCreditLinesAndLoans', 'NumberOfTimes90DaysLate', 'NumberRealEstateLoansOrLines', 'NumberOfTime60-89DaysPastDueNotWorse', 'NumberOfDependents']].iloc[0]\n"
   ]
  },
  {
   "cell_type": "code",
   "execution_count": null,
   "metadata": {},
   "outputs": [],
   "source": [
    "# print(mcce.results_sparse.)\n",
    "# print(mcce.results_sparse.L0.mean())\n",
    "# print(mcce.results_sparse.L1.mean())\n",
    "# print(mcce.results_sparse.L2.mean())\n",
    "# results_sparse = mcce.results_sparse\n",
    "# results_sparse.index.rename('index', inplace=True)\n",
    "# results_sparse.groupby('index').size().sort_values(ascending=False)"
   ]
  }
 ],
 "metadata": {
  "interpreter": {
   "hash": "ea38de303447ace9d448c28089670fa84711b12cac6767c435896f96584513e1"
  },
  "kernelspec": {
   "display_name": "Python 3.7.13 ('carla_github')",
   "language": "python",
   "name": "python3"
  },
  "language_info": {
   "codemirror_mode": {
    "name": "ipython",
    "version": 3
   },
   "file_extension": ".py",
   "mimetype": "text/x-python",
   "name": "python",
   "nbconvert_exporter": "python",
   "pygments_lexer": "ipython3",
   "version": "3.7.13"
  },
  "orig_nbformat": 4
 },
 "nbformat": 4,
 "nbformat_minor": 2
}
